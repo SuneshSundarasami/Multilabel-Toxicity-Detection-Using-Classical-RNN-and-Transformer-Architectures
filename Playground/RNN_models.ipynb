{
 "cells": [
  {
   "cell_type": "markdown",
   "metadata": {},
   "source": [
    "# Advanced RNN Models for Toxic Comment Classification\n",
    "\n",
    "This notebook implements and compares various RNN architectures (LSTM, GRU, Bidirectional RNNs) using different embedding techniques for the toxic comment classification task."
   ]
  },
  {
   "cell_type": "code",
   "execution_count": 56,
   "metadata": {},
   "outputs": [
    {
     "data": {
      "text/plain": [
       "<torch._C.Generator at 0x7d10f13a6bf0>"
      ]
     },
     "execution_count": 56,
     "metadata": {},
     "output_type": "execute_result"
    }
   ],
   "source": [
    "import pandas as pd\n",
    "import numpy as np\n",
    "import matplotlib.pyplot as plt\n",
    "import seaborn as sns\n",
    "import time\n",
    "import pickle\n",
    "import os\n",
    "import nltk\n",
    "from tqdm.notebook import tqdm\n",
    "from sklearn.model_selection import train_test_split\n",
    "from sklearn.metrics import classification_report, accuracy_score, f1_score, roc_auc_score,precision_score, recall_score\n",
    "from sklearn.utils.class_weight import compute_class_weight\n",
    "import torch.nn.functional as F\n",
    "from sklearn.utils import resample\n",
    "\n",
    "\n",
    "# Deep learning imports\n",
    "import torch\n",
    "import torch.nn as nn\n",
    "import torch.optim as optim\n",
    "from torch.utils.data import Dataset, DataLoader\n",
    "from torch.nn.utils.rnn import pad_sequence\n",
    "\n",
    "# For pre-trained embeddings\n",
    "import gensim\n",
    "from gensim.models import KeyedVectors\n",
    "\n",
    "# Ignore warnings\n",
    "import warnings\n",
    "warnings.filterwarnings('ignore')\n",
    "\n",
    "# Set random seeds for reproducibility\n",
    "np.random.seed(42)\n",
    "torch.manual_seed(42)"
   ]
  },
  {
   "cell_type": "code",
   "execution_count": 2,
   "metadata": {},
   "outputs": [
    {
     "name": "stdout",
     "output_type": "stream",
     "text": [
      "Using device: cuda\n"
     ]
    }
   ],
   "source": [
    "# Check for GPU availability\n",
    "device = torch.device('cuda' if torch.cuda.is_available() else 'cpu')\n",
    "print(f\"Using device: {device}\")"
   ]
  },
  {
   "cell_type": "markdown",
   "metadata": {},
   "source": [
    "## 1. Load and Prepare Data"
   ]
  },
  {
   "cell_type": "code",
   "execution_count": 3,
   "metadata": {},
   "outputs": [
    {
     "name": "stdout",
     "output_type": "stream",
     "text": [
      "Training data shape: (159571, 12)\n"
     ]
    },
    {
     "data": {
      "text/html": [
       "<div>\n",
       "<style scoped>\n",
       "    .dataframe tbody tr th:only-of-type {\n",
       "        vertical-align: middle;\n",
       "    }\n",
       "\n",
       "    .dataframe tbody tr th {\n",
       "        vertical-align: top;\n",
       "    }\n",
       "\n",
       "    .dataframe thead th {\n",
       "        text-align: right;\n",
       "    }\n",
       "</style>\n",
       "<table border=\"1\" class=\"dataframe\">\n",
       "  <thead>\n",
       "    <tr style=\"text-align: right;\">\n",
       "      <th></th>\n",
       "      <th>id</th>\n",
       "      <th>comment_text</th>\n",
       "      <th>toxic</th>\n",
       "      <th>severe_toxic</th>\n",
       "      <th>obscene</th>\n",
       "      <th>threat</th>\n",
       "      <th>insult</th>\n",
       "      <th>identity_hate</th>\n",
       "      <th>processed_text</th>\n",
       "      <th>original_length</th>\n",
       "      <th>processed_length</th>\n",
       "      <th>length_reduction</th>\n",
       "    </tr>\n",
       "  </thead>\n",
       "  <tbody>\n",
       "    <tr>\n",
       "      <th>0</th>\n",
       "      <td>0000997932d777bf</td>\n",
       "      <td>Explanation\\nWhy the edits made under my usern...</td>\n",
       "      <td>0</td>\n",
       "      <td>0</td>\n",
       "      <td>0</td>\n",
       "      <td>0</td>\n",
       "      <td>0</td>\n",
       "      <td>0</td>\n",
       "      <td>explanation edits made my username hardcore me...</td>\n",
       "      <td>264</td>\n",
       "      <td>202</td>\n",
       "      <td>23.484848</td>\n",
       "    </tr>\n",
       "    <tr>\n",
       "      <th>1</th>\n",
       "      <td>000103f0d9cfb60f</td>\n",
       "      <td>D'aww! He matches this background colour I'm s...</td>\n",
       "      <td>0</td>\n",
       "      <td>0</td>\n",
       "      <td>0</td>\n",
       "      <td>0</td>\n",
       "      <td>0</td>\n",
       "      <td>0</td>\n",
       "      <td>daww ! he match background colour im seemingly...</td>\n",
       "      <td>112</td>\n",
       "      <td>86</td>\n",
       "      <td>23.214286</td>\n",
       "    </tr>\n",
       "    <tr>\n",
       "      <th>2</th>\n",
       "      <td>000113f07ec002fd</td>\n",
       "      <td>Hey man, I'm really not trying to edit war. It...</td>\n",
       "      <td>0</td>\n",
       "      <td>0</td>\n",
       "      <td>0</td>\n",
       "      <td>0</td>\n",
       "      <td>0</td>\n",
       "      <td>0</td>\n",
       "      <td>hey man , im really not trying edit war . guy ...</td>\n",
       "      <td>233</td>\n",
       "      <td>165</td>\n",
       "      <td>29.184549</td>\n",
       "    </tr>\n",
       "    <tr>\n",
       "      <th>3</th>\n",
       "      <td>0001b41b1c6bb37e</td>\n",
       "      <td>\"\\nMore\\nI can't make any real suggestions on ...</td>\n",
       "      <td>0</td>\n",
       "      <td>0</td>\n",
       "      <td>0</td>\n",
       "      <td>0</td>\n",
       "      <td>0</td>\n",
       "      <td>0</td>\n",
       "      <td>i cant make real suggestion improvement i wond...</td>\n",
       "      <td>622</td>\n",
       "      <td>406</td>\n",
       "      <td>34.726688</td>\n",
       "    </tr>\n",
       "    <tr>\n",
       "      <th>4</th>\n",
       "      <td>0001d958c54c6e35</td>\n",
       "      <td>You, sir, are my hero. Any chance you remember...</td>\n",
       "      <td>0</td>\n",
       "      <td>0</td>\n",
       "      <td>0</td>\n",
       "      <td>0</td>\n",
       "      <td>0</td>\n",
       "      <td>0</td>\n",
       "      <td>you , sir , my hero . chance you remember page...</td>\n",
       "      <td>67</td>\n",
       "      <td>54</td>\n",
       "      <td>19.402985</td>\n",
       "    </tr>\n",
       "  </tbody>\n",
       "</table>\n",
       "</div>"
      ],
      "text/plain": [
       "                 id                                       comment_text  toxic  \\\n",
       "0  0000997932d777bf  Explanation\\nWhy the edits made under my usern...      0   \n",
       "1  000103f0d9cfb60f  D'aww! He matches this background colour I'm s...      0   \n",
       "2  000113f07ec002fd  Hey man, I'm really not trying to edit war. It...      0   \n",
       "3  0001b41b1c6bb37e  \"\\nMore\\nI can't make any real suggestions on ...      0   \n",
       "4  0001d958c54c6e35  You, sir, are my hero. Any chance you remember...      0   \n",
       "\n",
       "   severe_toxic  obscene  threat  insult  identity_hate  \\\n",
       "0             0        0       0       0              0   \n",
       "1             0        0       0       0              0   \n",
       "2             0        0       0       0              0   \n",
       "3             0        0       0       0              0   \n",
       "4             0        0       0       0              0   \n",
       "\n",
       "                                      processed_text  original_length  \\\n",
       "0  explanation edits made my username hardcore me...              264   \n",
       "1  daww ! he match background colour im seemingly...              112   \n",
       "2  hey man , im really not trying edit war . guy ...              233   \n",
       "3  i cant make real suggestion improvement i wond...              622   \n",
       "4  you , sir , my hero . chance you remember page...               67   \n",
       "\n",
       "   processed_length  length_reduction  \n",
       "0               202         23.484848  \n",
       "1                86         23.214286  \n",
       "2               165         29.184549  \n",
       "3               406         34.726688  \n",
       "4                54         19.402985  "
      ]
     },
     "execution_count": 3,
     "metadata": {},
     "output_type": "execute_result"
    }
   ],
   "source": [
    "# Load preprocessed data\n",
    "train_data = pd.read_csv('../Dataset/train_preprocessed.csv')\n",
    "\n",
    "# Check the data\n",
    "print(f\"Training data shape: {train_data.shape}\")\n",
    "train_data.head()"
   ]
  },
  {
   "cell_type": "code",
   "execution_count": 4,
   "metadata": {},
   "outputs": [
    {
     "name": "stdout",
     "output_type": "stream",
     "text": [
      "Training set size: 127815\n",
      "Validation set size: 15798\n",
      "Test set size: 15958\n"
     ]
    }
   ],
   "source": [
    "# Define the features and target labels\n",
    "X = train_data['processed_text']  # Use the preprocessed text\n",
    "y = train_data[['toxic', 'severe_toxic', 'obscene', 'threat', 'insult', 'identity_hate']]\n",
    "\n",
    "# Handle missing values\n",
    "X = X.fillna(\"\")  # Replace NaN values with empty strings\n",
    "y = y.fillna(0)   # Replace any missing target values with 0\n",
    "\n",
    "# Split the data into training, validation and test sets\n",
    "X_temp, X_test, y_temp, y_test = train_test_split(\n",
    "    X, y, test_size=0.1, random_state=42, stratify=y['toxic']\n",
    ")\n",
    "\n",
    "X_train, X_val, y_train, y_val = train_test_split(\n",
    "    X_temp, y_temp, test_size=0.11, random_state=42, stratify=y_temp['toxic']\n",
    ")\n",
    "\n",
    "print(f\"Training set size: {X_train.shape[0]}\")\n",
    "print(f\"Validation set size: {X_val.shape[0]}\")\n",
    "print(f\"Test set size: {X_test.shape[0]}\")"
   ]
  },
  {
   "cell_type": "code",
   "execution_count": 77,
   "metadata": {},
   "outputs": [
    {
     "name": "stdout",
     "output_type": "stream",
     "text": [
      "Class distribution BEFORE oversampling:\n",
      "toxic: 0.0958 (12251 samples)\n",
      "severe_toxic: 0.0099 (1262 samples)\n",
      "obscene: 0.0530 (6769 samples)\n",
      "threat: 0.0029 (374 samples)\n",
      "insult: 0.0494 (6308 samples)\n",
      "identity_hate: 0.0086 (1100 samples)\n",
      "\n",
      "Class distribution AFTER oversampling:\n",
      "toxic: 0.1358 (18199 samples)\n",
      "severe_toxic: 0.0346 (4634 samples)\n",
      "obscene: 0.0875 (11723 samples)\n",
      "threat: 0.0164 (2202 samples)\n",
      "insult: 0.0841 (11274 samples)\n",
      "identity_hate: 0.0306 (4108 samples)\n"
     ]
    }
   ],
   "source": [
    "def oversample_minority_classes(X_train, y_train):\n",
    "    \"\"\"Oversample minority classes to improve balance\"\"\"\n",
    "    \n",
    "    # Original data\n",
    "    original_X = X_train.copy()\n",
    "    original_y = y_train.copy()\n",
    "    augmented_X = []\n",
    "    augmented_y = []\n",
    "    \n",
    "    # Identify and oversample each rare class with increased multipliers\n",
    "    multipliers = {\n",
    "        'threat': 5,\n",
    "        'identity_hate': 3,\n",
    "        'severe_toxic': 3\n",
    "    }\n",
    "    \n",
    "    for label, multiplier in multipliers.items():\n",
    "        pos_indices = y_train[y_train[label] == 1].index\n",
    "        pos_X = X_train.loc[pos_indices]\n",
    "        pos_y = y_train.loc[pos_indices]\n",
    "        \n",
    "        for _ in range(multiplier - 1):\n",
    "            augmented_X.append(pos_X)\n",
    "            augmented_y.append(pos_y)\n",
    "    \n",
    "    # Combine with original data\n",
    "    augmented_X = pd.concat([original_X] + augmented_X)\n",
    "    augmented_y = pd.concat([original_y] + augmented_y)\n",
    "    \n",
    "    return augmented_X.reset_index(drop=True), augmented_y.reset_index(drop=True)\n",
    "\n",
    "print(\"Class distribution BEFORE oversampling:\")\n",
    "for col in y_train.columns:\n",
    "    print(f\"{col}: {y_train[col].mean():.4f} ({y_train[col].sum()} samples)\")\n",
    "\n",
    "# Apply augmentation\n",
    "X_train_aug, y_train_aug = oversample_minority_classes(X_train, y_train)\n",
    "\n",
    "# Check distribution after oversampling\n",
    "print(\"\\nClass distribution AFTER oversampling:\")\n",
    "for col in y_train_aug.columns:\n",
    "    print(f\"{col}: {y_train_aug[col].mean():.4f} ({y_train_aug[col].sum()} samples)\")\n"
   ]
  },
  {
   "cell_type": "markdown",
   "metadata": {},
   "source": [
    "## 2. Text Preprocessing for Deep Learning"
   ]
  },
  {
   "cell_type": "code",
   "execution_count": 5,
   "metadata": {},
   "outputs": [
    {
     "data": {
      "text/plain": [
       "True"
      ]
     },
     "execution_count": 5,
     "metadata": {},
     "output_type": "execute_result"
    }
   ],
   "source": [
    "# Download necessary NLTK resources if not already downloaded\n",
    "nltk.download('punkt', quiet=True)"
   ]
  },
  {
   "cell_type": "code",
   "execution_count": 6,
   "metadata": {},
   "outputs": [],
   "source": [
    "class Vocabulary:\n",
    "    def __init__(self, freq_threshold=2):\n",
    "        self.itos = {0: \"<PAD>\", 1: \"<UNK>\"}\n",
    "        self.stoi = {\"<PAD>\": 0, \"<UNK>\": 1}\n",
    "        self.freq_threshold = freq_threshold\n",
    "        \n",
    "    def __len__(self):\n",
    "        return len(self.itos)\n",
    "    \n",
    "    def build_vocabulary(self, sentence_list):\n",
    "        frequencies = {}\n",
    "        idx = 2  # Start from 2 as 0 and 1 are reserved for PAD and UNK\n",
    "        \n",
    "        for sentence in tqdm(sentence_list, desc=\"Building vocabulary\"):\n",
    "            for word in nltk.word_tokenize(sentence.lower()):\n",
    "                if word not in frequencies:\n",
    "                    frequencies[word] = 1\n",
    "                else:\n",
    "                    frequencies[word] += 1\n",
    "                \n",
    "                if frequencies[word] == self.freq_threshold:\n",
    "                    self.stoi[word] = idx\n",
    "                    self.itos[idx] = word\n",
    "                    idx += 1\n",
    "    \n",
    "    def numericalize(self, text):\n",
    "        tokenized_text = nltk.word_tokenize(text.lower())\n",
    "        return [self.stoi.get(token, self.stoi[\"<UNK>\"]) for token in tokenized_text]"
   ]
  },
  {
   "cell_type": "code",
   "execution_count": 7,
   "metadata": {},
   "outputs": [
    {
     "data": {
      "application/vnd.jupyter.widget-view+json": {
       "model_id": "de62141e8ffc4229b7d775f59549c5c2",
       "version_major": 2,
       "version_minor": 0
      },
      "text/plain": [
       "Building vocabulary:   0%|          | 0/127815 [00:00<?, ?it/s]"
      ]
     },
     "metadata": {},
     "output_type": "display_data"
    },
    {
     "name": "stdout",
     "output_type": "stream",
     "text": [
      "Vocabulary size: 72577\n"
     ]
    }
   ],
   "source": [
    "# Build vocabulary from training data\n",
    "vocab = Vocabulary(freq_threshold=2)\n",
    "vocab.build_vocabulary(X_train.values)\n",
    "vocab_size = len(vocab)\n",
    "print(f\"Vocabulary size: {vocab_size}\")"
   ]
  },
  {
   "cell_type": "code",
   "execution_count": 8,
   "metadata": {},
   "outputs": [],
   "source": [
    "class ToxicCommentDataset(Dataset):\n",
    "    def __init__(self, X, y, vocab):\n",
    "        self.X = X\n",
    "        self.y = y\n",
    "        self.vocab = vocab\n",
    "        \n",
    "    def __len__(self):\n",
    "        return len(self.X)\n",
    "    \n",
    "    def __getitem__(self, index):\n",
    "        text = self.X.iloc[index]\n",
    "        labels = torch.FloatTensor(self.y.iloc[index].values)\n",
    "        \n",
    "        # Convert text to numerical form\n",
    "        numericalized_text = self.vocab.numericalize(text)\n",
    "        return torch.LongTensor(numericalized_text), labels"
   ]
  },
  {
   "cell_type": "code",
   "execution_count": 9,
   "metadata": {},
   "outputs": [],
   "source": [
    "# Pad sequences in a batch to the same length\n",
    "def collate_batch(batch):\n",
    "    text_list, label_list = [], []\n",
    "    \n",
    "    for text, label in batch:\n",
    "        text_list.append(text)\n",
    "        label_list.append(label)\n",
    "    \n",
    "    # Pad sequences\n",
    "    text_list = pad_sequence(text_list, batch_first=True, padding_value=0)\n",
    "    labels = torch.stack(label_list)\n",
    "    \n",
    "    return text_list, labels"
   ]
  },
  {
   "cell_type": "code",
   "execution_count": 61,
   "metadata": {},
   "outputs": [],
   "source": [
    "# Create datasets\n",
    "BATCH_SIZE = 32\n",
    "\n",
    "train_dataset = ToxicCommentDataset(X_train, y_train, vocab)\n",
    "train_augmented_dataset = ToxicCommentDataset(X_train_aug, y_train_aug, vocab)\n",
    "val_dataset = ToxicCommentDataset(X_val, y_val, vocab)\n",
    "test_dataset = ToxicCommentDataset(X_test, y_test, vocab)\n",
    "\n",
    "train_loader = DataLoader(\n",
    "    train_dataset, \n",
    "    batch_size=BATCH_SIZE, \n",
    "    shuffle=True,\n",
    "    collate_fn=collate_batch,\n",
    "    num_workers=16\n",
    ")\n",
    "train_augmented_loader = DataLoader(\n",
    "    train_augmented_dataset, \n",
    "    batch_size=BATCH_SIZE, \n",
    "    shuffle=True,\n",
    "    collate_fn=collate_batch,\n",
    "    num_workers=16\n",
    ")\n",
    "\n",
    "val_loader = DataLoader(\n",
    "    val_dataset, \n",
    "    batch_size=BATCH_SIZE, \n",
    "    shuffle=False,\n",
    "    collate_fn=collate_batch,\n",
    "    num_workers=16\n",
    ")\n",
    "\n",
    "test_loader = DataLoader(\n",
    "    test_dataset, \n",
    "    batch_size=BATCH_SIZE, \n",
    "    shuffle=False,\n",
    "    collate_fn=collate_batch,\n",
    "    num_workers=16\n",
    ")"
   ]
  },
  {
   "cell_type": "code",
   "execution_count": null,
   "metadata": {},
   "outputs": [],
   "source": []
  },
  {
   "cell_type": "markdown",
   "metadata": {},
   "source": [
    "## 3. Build RNN Models"
   ]
  },
  {
   "cell_type": "code",
   "execution_count": 11,
   "metadata": {},
   "outputs": [],
   "source": [
    "class LSTMClassifier(nn.Module):\n",
    "    def __init__(self, vocab_size, embedding_dim, hidden_dim, output_dim, n_layers, bidirectional, dropout, pad_idx):\n",
    "        super().__init__()\n",
    "        \n",
    "        self.embedding = nn.Embedding(vocab_size, embedding_dim, padding_idx=pad_idx)\n",
    "        self.lstm = nn.LSTM(embedding_dim, \n",
    "                           hidden_dim, \n",
    "                           num_layers=n_layers, \n",
    "                           bidirectional=bidirectional, \n",
    "                           dropout=dropout if n_layers > 1 else 0,\n",
    "                           batch_first=True)\n",
    "        \n",
    "        # If bidirectional, multiply by 2 as we'll have hidden states from both directions\n",
    "        self.fc = nn.Linear(hidden_dim * 2 if bidirectional else hidden_dim, output_dim)\n",
    "        self.dropout = nn.Dropout(dropout)\n",
    "        \n",
    "    def forward(self, text):\n",
    "        # text shape: [batch size, sentence length]\n",
    "        embedded = self.dropout(self.embedding(text))\n",
    "        # embedded shape: [batch size, sentence length, embedding dim]\n",
    "        \n",
    "        output, (hidden, cell) = self.lstm(embedded)\n",
    "        # output shape: [batch size, sentence length, hidden dim * num directions]\n",
    "        # hidden shape: [num layers * num directions, batch size, hidden dim]\n",
    "        \n",
    "        if self.lstm.bidirectional:\n",
    "            # Concatenate the final forward and backward hidden states\n",
    "            hidden = torch.cat((hidden[-2,:,:], hidden[-1,:,:]), dim=1)\n",
    "        else:\n",
    "            hidden = hidden[-1,:,:]\n",
    "        # hidden shape: [batch size, hidden dim * num directions]\n",
    "        \n",
    "        return torch.sigmoid(self.fc(self.dropout(hidden)))"
   ]
  },
  {
   "cell_type": "code",
   "execution_count": 12,
   "metadata": {},
   "outputs": [],
   "source": [
    "class GRUClassifier(nn.Module):\n",
    "    def __init__(self, vocab_size, embedding_dim, hidden_dim, output_dim, n_layers, bidirectional, dropout, pad_idx):\n",
    "        super().__init__()\n",
    "        \n",
    "        self.embedding = nn.Embedding(vocab_size, embedding_dim, padding_idx=pad_idx)\n",
    "        self.gru = nn.GRU(embedding_dim, \n",
    "                          hidden_dim, \n",
    "                          num_layers=n_layers, \n",
    "                          bidirectional=bidirectional, \n",
    "                          dropout=dropout if n_layers > 1 else 0,\n",
    "                          batch_first=True)\n",
    "        \n",
    "        self.fc = nn.Linear(hidden_dim * 2 if bidirectional else hidden_dim, output_dim)\n",
    "        self.dropout = nn.Dropout(dropout)\n",
    "        \n",
    "    def forward(self, text):\n",
    "        embedded = self.dropout(self.embedding(text))\n",
    "        output, hidden = self.gru(embedded)\n",
    "        \n",
    "        if self.gru.bidirectional:\n",
    "            hidden = torch.cat((hidden[-2,:,:], hidden[-1,:,:]), dim=1)\n",
    "        else:\n",
    "            hidden = hidden[-1,:,:]\n",
    "            \n",
    "        return torch.sigmoid(self.fc(self.dropout(hidden)))"
   ]
  },
  {
   "cell_type": "code",
   "execution_count": 13,
   "metadata": {},
   "outputs": [],
   "source": [
    "class AttentionLayer(nn.Module):\n",
    "    def __init__(self, hidden_dim):\n",
    "        super().__init__()\n",
    "        self.attention = nn.Linear(hidden_dim, 1)\n",
    "        \n",
    "    def forward(self, lstm_output):\n",
    "        # lstm_output shape: [batch_size, seq_len, hidden_dim]\n",
    "        attention_weights = torch.softmax(self.attention(lstm_output), dim=1)\n",
    "        # attention_weights shape: [batch_size, seq_len, 1]\n",
    "        \n",
    "        context_vector = torch.sum(attention_weights * lstm_output, dim=1)\n",
    "        # context_vector shape: [batch_size, hidden_dim]\n",
    "        \n",
    "        return context_vector, attention_weights"
   ]
  },
  {
   "cell_type": "code",
   "execution_count": 14,
   "metadata": {},
   "outputs": [],
   "source": [
    "class AttentionBiLSTM(nn.Module):\n",
    "    def __init__(self, vocab_size, embedding_dim, hidden_dim, output_dim, n_layers, dropout, pad_idx):\n",
    "        super().__init__()\n",
    "        \n",
    "        self.embedding = nn.Embedding(vocab_size, embedding_dim, padding_idx=pad_idx)\n",
    "        self.lstm = nn.LSTM(embedding_dim, \n",
    "                           hidden_dim, \n",
    "                           num_layers=n_layers, \n",
    "                           bidirectional=True, \n",
    "                           dropout=dropout if n_layers > 1 else 0,\n",
    "                           batch_first=True)\n",
    "        \n",
    "        self.attention = AttentionLayer(hidden_dim * 2)\n",
    "        self.fc = nn.Linear(hidden_dim * 2, output_dim)\n",
    "        self.dropout = nn.Dropout(dropout)\n",
    "        \n",
    "    def forward(self, text):\n",
    "        embedded = self.dropout(self.embedding(text))\n",
    "        outputs, _ = self.lstm(embedded)\n",
    "        # outputs shape: [batch_size, seq_len, hidden_dim * 2]\n",
    "        \n",
    "        context, attention_weights = self.attention(outputs)\n",
    "        # context shape: [batch_size, hidden_dim * 2]\n",
    "        \n",
    "        return torch.sigmoid(self.fc(self.dropout(context)))"
   ]
  },
  {
   "cell_type": "markdown",
   "metadata": {},
   "source": [
    "## 4. Train and Evaluate Function"
   ]
  },
  {
   "cell_type": "code",
   "execution_count": 26,
   "metadata": {},
   "outputs": [],
   "source": [
    "\n",
    "# Calculate class weights\n",
    "class_weights = {}\n",
    "for col in y_train.columns:\n",
    "    weights = compute_class_weight(\n",
    "        class_weight='balanced',\n",
    "        classes=np.array([0, 1]),\n",
    "        y=y_train[col]\n",
    "    )\n",
    "    class_weights[col] = torch.FloatTensor(weights).to(device)\n",
    "\n",
    "# Define weighted loss function\n",
    "def weighted_binary_cross_entropy(output, target, weights=None):\n",
    "    column_names = ['toxic', 'severe_toxic', 'obscene', 'threat', 'insult', 'identity_hate']\n",
    "    \n",
    "    if weights is None:\n",
    "        weights = {}\n",
    "        for col in column_names:\n",
    "            weights[col] = torch.ones([2]).to(output.device)\n",
    "    \n",
    "    loss = 0\n",
    "    for i, col in enumerate(column_names):\n",
    "        if col in weights:\n",
    "            class_weight = weights[col]\n",
    "        else:\n",
    "            class_weight = torch.ones([2]).to(output.device)\n",
    "            \n",
    "        loss_per_sample = F.binary_cross_entropy(\n",
    "            output[:, i],\n",
    "            target[:, i],\n",
    "            reduction='none'\n",
    "        )\n",
    "        weight_per_sample = class_weight[1] * target[:, i] + class_weight[0] * (1 - target[:, i])\n",
    "        loss += (loss_per_sample * weight_per_sample).mean()\n",
    "    \n",
    "    return loss / target.shape[1]"
   ]
  },
  {
   "cell_type": "code",
   "execution_count": 30,
   "metadata": {},
   "outputs": [],
   "source": [
    "class FocalLoss(nn.Module):\n",
    "    def __init__(self, alpha=None, gamma=2.0):\n",
    "        \"\"\"\n",
    "        alpha: List of class weights, should match the number of classes\n",
    "        gamma: Focusing parameter (higher = more focus on hard examples)\n",
    "        \"\"\"\n",
    "        super(FocalLoss, self).__init__()\n",
    "        self.alpha = alpha  # Class weight for each class\n",
    "        self.gamma = gamma  # Focusing parameter\n",
    "        self.epsilon = 1e-6  # For numerical stability\n",
    "        \n",
    "    def forward(self, inputs, targets):\n",
    "        # Inputs should already be sigmoided (0-1)\n",
    "        inputs = torch.clamp(inputs, self.epsilon, 1 - self.epsilon)\n",
    "        \n",
    "        # Calculate BCE for each class\n",
    "        bce_loss = F.binary_cross_entropy(inputs, targets, reduction='none')\n",
    "        \n",
    "        # Calculate focal weights\n",
    "        pt = torch.exp(-bce_loss)  # pt = probability of the correct class\n",
    "        focal_weight = (1 - pt) ** self.gamma\n",
    "        \n",
    "        # Apply class weights if provided\n",
    "        if self.alpha is not None:\n",
    "            alpha = self.alpha.to(inputs.device)\n",
    "            # Get weights for each sample based on its true class\n",
    "            batch_alpha = torch.ones_like(inputs).to(inputs.device)\n",
    "            for i in range(len(alpha)):\n",
    "                batch_alpha[:, i] = alpha[i]\n",
    "            focal_weight = batch_alpha * focal_weight\n",
    "        \n",
    "        # Calculate weighted loss\n",
    "        focal_loss = focal_weight * bce_loss\n",
    "        \n",
    "        return focal_loss.mean()"
   ]
  },
  {
   "cell_type": "code",
   "execution_count": 82,
   "metadata": {},
   "outputs": [],
   "source": [
    "\n",
    "class AdaptiveFocalLoss(nn.Module):\n",
    "    def __init__(self, alpha=None, class_gammas=None):\n",
    "        super().__init__()\n",
    "        self.alpha = alpha\n",
    "        self.class_gammas = class_gammas\n",
    "        self.epsilon = 1e-6\n",
    "        \n",
    "    def forward(self, inputs, targets):\n",
    "        inputs = torch.clamp(inputs, self.epsilon, 1 - self.epsilon)\n",
    "        \n",
    "        # Binary cross entropy\n",
    "        bce_loss = F.binary_cross_entropy(inputs, targets, reduction='none')\n",
    "        \n",
    "        # Different gamma for each class\n",
    "        focal_loss = torch.zeros_like(bce_loss)\n",
    "        class_names = ['toxic', 'severe_toxic', 'obscene', 'threat', 'insult', 'identity_hate']\n",
    "        \n",
    "        for i, col in enumerate(class_names):\n",
    "            gamma = self.class_gammas.get(col, 2.0)  # Default gamma is 2.0\n",
    "            pt = torch.exp(-bce_loss[:, i])\n",
    "            focal_weight = (1 - pt) ** gamma\n",
    "            \n",
    "            # Apply class weights if provided\n",
    "            if self.alpha is not None:\n",
    "                focal_weight = focal_weight * self.alpha[i]\n",
    "                \n",
    "            focal_loss[:, i] = focal_weight * bce_loss[:, i]\n",
    "        \n",
    "        return focal_loss.mean()"
   ]
  },
  {
   "cell_type": "code",
   "execution_count": 16,
   "metadata": {},
   "outputs": [],
   "source": [
    "def train_epoch(model, data_loader, optimizer, criterion, device, accumulation_steps=2):\n",
    "    model.train()\n",
    "    epoch_loss = 0\n",
    "    epoch_accuracy = 0\n",
    "    \n",
    "    optimizer.zero_grad()\n",
    "    \n",
    "    for i, (texts, labels) in enumerate(tqdm(data_loader, desc=\"Training\", leave=False)):\n",
    "        texts = texts.long().to(device)\n",
    "        labels = labels.to(device)\n",
    "        \n",
    "        predictions = model(texts)\n",
    "        loss = criterion(predictions, labels) / accumulation_steps\n",
    "        \n",
    "        loss.backward()\n",
    "        \n",
    "        if (i + 1) % accumulation_steps == 0 or (i + 1) == len(data_loader):\n",
    "            optimizer.step()\n",
    "            optimizer.zero_grad()\n",
    "        \n",
    "        with torch.no_grad():\n",
    "            predictions = (predictions > 0.5).float()\n",
    "            accuracy = ((predictions == labels).float().sum()) / (len(labels) * labels.size(1))\n",
    "        \n",
    "        epoch_loss += loss.item() * accumulation_steps\n",
    "        epoch_accuracy += accuracy.item()\n",
    "    \n",
    "    return epoch_loss / len(data_loader), epoch_accuracy / len(data_loader)"
   ]
  },
  {
   "cell_type": "code",
   "execution_count": 17,
   "metadata": {},
   "outputs": [],
   "source": [
    "def evaluate(model, data_loader, criterion, device):\n",
    "    model.eval()\n",
    "    epoch_loss = 0\n",
    "    epoch_accuracy = 0\n",
    "    \n",
    "    with torch.no_grad():\n",
    "        for texts, labels in tqdm(data_loader, desc=\"Evaluating\", leave=False):\n",
    "            texts = texts.long().to(device)  # Convert to long before sending to device\n",
    "            labels = labels.to(device)\n",
    "            \n",
    "            predictions = model(texts)\n",
    "            loss = criterion(predictions, labels)\n",
    "            \n",
    "            predictions = (predictions > 0.5).float()\n",
    "            accuracy = ((predictions == labels).float().sum()) / (len(labels) * labels.size(1))\n",
    "            \n",
    "            epoch_loss += loss.item()\n",
    "            epoch_accuracy += accuracy.item()\n",
    "    \n",
    "    return epoch_loss / len(data_loader), epoch_accuracy / len(data_loader)"
   ]
  },
  {
   "cell_type": "code",
   "execution_count": 18,
   "metadata": {},
   "outputs": [],
   "source": [
    "def predict(model, data_loader, device):\n",
    "    model.eval()\n",
    "    predictions = []\n",
    "    actual_labels = []\n",
    "    \n",
    "    with torch.no_grad():\n",
    "        for texts, labels in tqdm(data_loader, desc=\"Predicting\", leave=False):\n",
    "            texts = texts.long().to(device)  # Convert to long before sending to device\n",
    "            outputs = model(texts)\n",
    "            \n",
    "            # Convert sigmoid outputs to binary predictions\n",
    "            preds = (outputs > 0.5).float().cpu().numpy()\n",
    "            labels = labels.cpu().numpy()\n",
    "            \n",
    "            predictions.append(preds)\n",
    "            actual_labels.append(labels)\n",
    "    \n",
    "    # Concatenate batch predictions\n",
    "    predictions = np.vstack(predictions)\n",
    "    actual_labels = np.vstack(actual_labels)\n",
    "    \n",
    "    return predictions, actual_labels"
   ]
  },
  {
   "cell_type": "code",
   "execution_count": 50,
   "metadata": {},
   "outputs": [],
   "source": [
    "def find_optimal_thresholds(model, val_loader, device):\n",
    "    \"\"\"Find optimal thresholds using validation data only\"\"\"\n",
    "    model.eval()\n",
    "    all_outputs = []\n",
    "    all_labels = []\n",
    "    \n",
    "    # Collect validation predictions\n",
    "    with torch.no_grad():\n",
    "        for texts, labels in tqdm(val_loader, desc=\"Finding thresholds\", leave=False):\n",
    "            texts = texts.long().to(device)\n",
    "            outputs = model(texts).cpu().numpy()\n",
    "            all_outputs.append(outputs)\n",
    "            all_labels.append(labels.cpu().numpy())\n",
    "    \n",
    "    all_outputs = np.vstack(all_outputs)\n",
    "    all_labels = np.vstack(all_labels)\n",
    "    \n",
    "    # Find optimal threshold for each class using VALIDATION data\n",
    "    thresholds = []\n",
    "    for i in range(all_outputs.shape[1]):\n",
    "        best_f1 = 0\n",
    "        best_threshold = 0.5\n",
    "        \n",
    "        for threshold in np.arange(0.1, 0.9, 0.05):\n",
    "            preds = (all_outputs[:, i] > threshold).astype(float)\n",
    "            f1 = f1_score(all_labels[:, i], preds)\n",
    "            if f1 > best_f1:\n",
    "                best_f1 = f1\n",
    "                best_threshold = threshold\n",
    "        \n",
    "        thresholds.append(best_threshold)\n",
    "    \n",
    "    print(f\"Optimal thresholds found on validation: {thresholds}\")\n",
    "    return thresholds\n",
    "\n",
    "def predict_with_thresholds(model, data_loader, thresholds, device):\n",
    "    \"\"\"Apply pre-determined thresholds to make predictions\"\"\"\n",
    "    model.eval()\n",
    "    all_outputs = []\n",
    "    all_labels = []\n",
    "    \n",
    "    # Collect test predictions\n",
    "    with torch.no_grad():\n",
    "        for texts, labels in tqdm(data_loader, desc=\"Predicting\", leave=False):\n",
    "            texts = texts.long().to(device)\n",
    "            outputs = model(texts).cpu().numpy()\n",
    "            all_outputs.append(outputs)\n",
    "            all_labels.append(labels.cpu().numpy())\n",
    "    \n",
    "    all_outputs = np.vstack(all_outputs)\n",
    "    all_labels = np.vstack(all_labels)\n",
    "    \n",
    "    # Apply the pre-determined thresholds\n",
    "    predictions = np.zeros_like(all_outputs)\n",
    "    for i in range(all_outputs.shape[1]):\n",
    "        predictions[:, i] = (all_outputs[:, i] > thresholds[i]).astype(float)\n",
    "    \n",
    "    return predictions, all_labels"
   ]
  },
  {
   "cell_type": "code",
   "execution_count": 47,
   "metadata": {},
   "outputs": [],
   "source": [
    "def detailed_evaluation_table(predictions, actual_labels, label_names):\n",
    "    \"\"\"Generate a detailed evaluation table using pandas DataFrame\"\"\"\n",
    "    \n",
    "    results = []\n",
    "    \n",
    "    for i, column in enumerate(label_names):\n",
    "        # Calculate metrics\n",
    "        precision = precision_score(actual_labels[:, i], predictions[:, i])\n",
    "        recall = recall_score(actual_labels[:, i], predictions[:, i])\n",
    "        f1 = f1_score(actual_labels[:, i], predictions[:, i])\n",
    "        \n",
    "        # Calculate confusion matrix elements\n",
    "        tp = ((predictions[:, i] == 1) & (actual_labels[:, i] == 1)).sum()\n",
    "        fp = ((predictions[:, i] == 1) & (actual_labels[:, i] == 0)).sum()\n",
    "        fn = ((predictions[:, i] == 0) & (actual_labels[:, i] == 1)).sum()\n",
    "        tn = ((predictions[:, i] == 0) & (actual_labels[:, i] == 0)).sum()\n",
    "        \n",
    "        # Calculate additional metrics\n",
    "        accuracy = (tp + tn) / (tp + tn + fp + fn)\n",
    "        prevalence = (tp + fn) / (tp + tn + fp + fn)\n",
    "        specificity = tn / (tn + fp) if (tn + fp) > 0 else 0\n",
    "        \n",
    "        # Store results\n",
    "        results.append({\n",
    "            'Category': column,\n",
    "            'Precision': precision,\n",
    "            'Recall': recall,\n",
    "            'F1': f1,\n",
    "            'Accuracy': accuracy,\n",
    "            'Prevalence': prevalence,\n",
    "            'Specificity': specificity,\n",
    "            'TP': tp,\n",
    "            'FP': fp,\n",
    "            'FN': fn,\n",
    "            'TN': tn\n",
    "        })\n",
    "    \n",
    "    # Create DataFrame and format\n",
    "    df = pd.DataFrame(results)\n",
    "    \n",
    "    # Format metrics as percentages\n",
    "    for col in ['Precision', 'Recall', 'F1', 'Accuracy', 'Prevalence', 'Specificity']:\n",
    "        df[col] = df[col].map('{:.2%}'.format)\n",
    "    \n",
    "    return df\n",
    "\n"
   ]
  },
  {
   "cell_type": "code",
   "execution_count": 19,
   "metadata": {},
   "outputs": [],
   "source": [
    "def model_performance_metrics(predictions, actual_labels, label_names):\n",
    "    results = {}\n",
    "    \n",
    "    # Calculate accuracy and F1 score\n",
    "    accuracy = accuracy_score(actual_labels, predictions)\n",
    "    results['accuracy'] = accuracy\n",
    "    \n",
    "    # Calculate F1 scores for each class\n",
    "    f1_scores = []\n",
    "    for i, column in enumerate(label_names):\n",
    "        f1 = f1_score(actual_labels[:, i], predictions[:, i])\n",
    "        f1_scores.append(f1)\n",
    "        results[f'f1_{column}'] = f1\n",
    "    \n",
    "    # Calculate macro and micro F1\n",
    "    macro_f1 = np.mean(f1_scores)\n",
    "    micro_f1 = f1_score(actual_labels, predictions, average='micro')\n",
    "    results['macro_f1'] = macro_f1\n",
    "    results['micro_f1'] = micro_f1\n",
    "    \n",
    "    print(f\"Accuracy: {accuracy:.4f}\")\n",
    "    print(f\"Macro F1: {macro_f1:.4f}\")\n",
    "    print(f\"Micro F1: {micro_f1:.4f}\")\n",
    "    \n",
    "    print(\"\\nF1 scores by toxicity type:\")\n",
    "    for i, column in enumerate(label_names):\n",
    "        print(f\"{column}: {f1_scores[i]:.4f}\")\n",
    "        \n",
    "    return results"
   ]
  },
  {
   "cell_type": "code",
   "execution_count": 121,
   "metadata": {},
   "outputs": [],
   "source": [
    "def train_model(model, train_loader, val_loader, criterion, optimizer, device, n_epochs=10, patience=3):\n",
    "    best_val_loss = float('inf')\n",
    "    train_losses = []\n",
    "    train_accs = []\n",
    "    val_losses = []\n",
    "    val_accs = []\n",
    "    \n",
    "    # Early stopping variables\n",
    "    counter = 0\n",
    "    early_stop = False\n",
    "    \n",
    "    for epoch in range(n_epochs):\n",
    "        start_time = time.time()\n",
    "        \n",
    "        train_loss, train_acc = train_epoch(model, train_loader, optimizer, criterion, device)\n",
    "        val_loss, val_acc = evaluate(model, val_loader, criterion, device)\n",
    "        \n",
    "        end_time = time.time()\n",
    "        epoch_mins = (end_time - start_time) // 60\n",
    "        epoch_secs = (end_time - start_time) % 60\n",
    "        \n",
    "        if val_loss < best_val_loss:\n",
    "            best_val_loss = val_loss\n",
    "            torch.save(model.state_dict(), '../models/best_rnn_model.pt')\n",
    "            print(f\"\\t[Saved best model with val_loss: {val_loss:.4f}]\")\n",
    "            # Reset counter when validation loss improves\n",
    "            counter = 0\n",
    "        else:\n",
    "            counter += 1\n",
    "            print(f'\\t[EarlyStopping counter: {counter}/{patience}]')\n",
    "            if counter >= patience:\n",
    "                print(f'\\t[Early stopping triggered after {epoch+1} epochs]')\n",
    "                early_stop = True\n",
    "        \n",
    "        print(f'Epoch: {epoch+1:02} | Time: {epoch_mins}m {epoch_secs:.1f}s')\n",
    "        print(f'\\tTrain Loss: {train_loss:.4f} | Train Acc: {train_acc*100:.2f}%')\n",
    "        print(f'\\tVal. Loss: {val_loss:.4f} | Val. Acc: {val_acc*100:.2f}%')\n",
    "        \n",
    "        train_losses.append(train_loss)\n",
    "        train_accs.append(train_acc)\n",
    "        val_losses.append(val_loss)\n",
    "        val_accs.append(val_acc)\n",
    "        \n",
    "        if early_stop:\n",
    "            print(\"Training stopped early due to no improvement in validation loss\")\n",
    "            break\n",
    "    \n",
    "    return train_losses, train_accs, val_losses, val_accs"
   ]
  },
  {
   "cell_type": "code",
   "execution_count": 21,
   "metadata": {},
   "outputs": [],
   "source": [
    "def plot_training_history(train_losses, train_accs, val_losses, val_accs, model_name):\n",
    "    # Plot training and validation loss\n",
    "    plt.figure(figsize=(12, 5))\n",
    "    plt.subplot(1, 2, 1)\n",
    "    plt.plot(train_losses, label='Training Loss')\n",
    "    plt.plot(val_losses, label='Validation Loss')\n",
    "    plt.xlabel('Epoch')\n",
    "    plt.ylabel('Loss')\n",
    "    plt.title(f'{model_name} - Loss')\n",
    "    plt.legend()\n",
    "    \n",
    "    # Plot training and validation accuracy\n",
    "    plt.subplot(1, 2, 2)\n",
    "    plt.plot(train_accs, label='Training Accuracy')\n",
    "    plt.plot(val_accs, label='Validation Accuracy')\n",
    "    plt.xlabel('Epoch')\n",
    "    plt.ylabel('Accuracy')\n",
    "    plt.title(f'{model_name} - Accuracy')\n",
    "    plt.legend()\n",
    "    \n",
    "    plt.tight_layout()\n",
    "    plt.savefig(f'../results/{model_name.lower().replace(\" \", \"_\")}_training_history.png')\n",
    "    plt.show()"
   ]
  },
  {
   "cell_type": "markdown",
   "metadata": {},
   "source": [
    "## 5. Train and Evaluate LSTM Model"
   ]
  },
  {
   "cell_type": "code",
   "execution_count": 122,
   "metadata": {},
   "outputs": [],
   "source": [
    "# LSTM Model Hyperparameters\n",
    "EMBEDDING_DIM = 100\n",
    "HIDDEN_DIM = 128\n",
    "OUTPUT_DIM = 6  # Six toxicity categories\n",
    "N_LAYERS = 2\n",
    "BIDIRECTIONAL = True\n",
    "DROPOUT = 0.3\n",
    "PAD_IDX = 0\n",
    "LEARNING_RATE = 0.001\n",
    "N_EPOCHS = 10"
   ]
  },
  {
   "cell_type": "code",
   "execution_count": 123,
   "metadata": {},
   "outputs": [
    {
     "name": "stdout",
     "output_type": "stream",
     "text": [
      "LSTMClassifier(\n",
      "  (embedding): Embedding(72577, 100, padding_idx=0)\n",
      "  (lstm): LSTM(100, 128, num_layers=2, batch_first=True, dropout=0.3, bidirectional=True)\n",
      "  (fc): Linear(in_features=256, out_features=6, bias=True)\n",
      "  (dropout): Dropout(p=0.3, inplace=False)\n",
      ")\n"
     ]
    }
   ],
   "source": [
    "# Initialize LSTM Model\n",
    "lstm_model = LSTMClassifier(\n",
    "    vocab_size=vocab_size,\n",
    "    embedding_dim=EMBEDDING_DIM,\n",
    "    hidden_dim=HIDDEN_DIM,\n",
    "    output_dim=OUTPUT_DIM,\n",
    "    n_layers=N_LAYERS,\n",
    "    bidirectional=BIDIRECTIONAL,\n",
    "    dropout=DROPOUT,\n",
    "    pad_idx=PAD_IDX\n",
    ")\n",
    "\n",
    "# Move model to device (GPU/CPU)\n",
    "lstm_model = lstm_model.to(device)\n",
    "print(lstm_model)"
   ]
  },
  {
   "cell_type": "code",
   "execution_count": 124,
   "metadata": {},
   "outputs": [
    {
     "name": "stdout",
     "output_type": "stream",
     "text": [
      "Class distribution: [0.09584947 0.00987365 0.05295936 0.0029261  0.04935258 0.00860619]\n",
      "Class weights: [ 0.25350136 10.80143425  0.42619535 62.27626853  0.45209466 11.53722987]\n"
     ]
    }
   ],
   "source": [
    "# Define optimizer and loss function\n",
    "optimizer = optim.Adam(lstm_model.parameters(), lr=LEARNING_RATE)\n",
    "\n",
    "# Create weights based on class distribution\n",
    "class_dist = np.array([y_train[col].mean() for col in y_train.columns])\n",
    "print(f\"Class distribution: {class_dist}\")\n",
    "class_weights = 1 / (class_dist + 0.01)  # Add small epsilon to avoid division by zero\n",
    "class_weights = class_weights / class_weights.sum() * len(class_weights)  # Normalize weights\n",
    "\n",
    "# Adjust class weights for rare classes\n",
    "class_weights[3] *= 30  # Quintuple weight for threat\n",
    "class_weights[5] *= 8  # Quintuple weight for identity_hate\n",
    "class_weights[1] *= 8  # Quintuple weight for severe_toxic\n",
    "\n",
    "print(f\"Class weights: {class_weights}\")\n",
    "\n",
    "class_gammas = {\n",
    "    'toxic': 1.0,\n",
    "    'severe_toxic': 1.5, \n",
    "    'obscene': 1.0,\n",
    "    'threat': 1.5,       # Reduced from 6.0\n",
    "    'insult': 1.0,\n",
    "    'identity_hate': 2.0 # Reduced from 4.0\n",
    "}\n",
    "\n",
    "# Create the focal loss\n",
    "criterion = AdaptiveFocalLoss(alpha=torch.FloatTensor(class_weights), class_gammas=class_gammas).to(device)\n"
   ]
  },
  {
   "cell_type": "code",
   "execution_count": 125,
   "metadata": {},
   "outputs": [
    {
     "data": {
      "application/vnd.jupyter.widget-view+json": {
       "model_id": "8c2d3106fb144d5cad4980ddf79019d8",
       "version_major": 2,
       "version_minor": 0
      },
      "text/plain": [
       "Training:   0%|          | 0/4092 [00:00<?, ?it/s]"
      ]
     },
     "metadata": {},
     "output_type": "display_data"
    },
    {
     "data": {
      "application/vnd.jupyter.widget-view+json": {
       "model_id": "04cdcd3fda03423ca1d1005777d5f693",
       "version_major": 2,
       "version_minor": 0
      },
      "text/plain": [
       "Evaluating:   0%|          | 0/494 [00:00<?, ?it/s]"
      ]
     },
     "metadata": {},
     "output_type": "display_data"
    },
    {
     "name": "stdout",
     "output_type": "stream",
     "text": [
      "\t[Saved best model with val_loss: 0.1124]\n",
      "Epoch: 01 | Time: 5.0m 59.7s\n",
      "\tTrain Loss: 0.2259 | Train Acc: 96.19%\n",
      "\tVal. Loss: 0.1124 | Val. Acc: 97.51%\n"
     ]
    },
    {
     "data": {
      "application/vnd.jupyter.widget-view+json": {
       "model_id": "c8a2b927b42d478985eedbe907902def",
       "version_major": 2,
       "version_minor": 0
      },
      "text/plain": [
       "Training:   0%|          | 0/4092 [00:00<?, ?it/s]"
      ]
     },
     "metadata": {},
     "output_type": "display_data"
    },
    {
     "data": {
      "application/vnd.jupyter.widget-view+json": {
       "model_id": "777d71520ff74cda9063c2b6c04e7950",
       "version_major": 2,
       "version_minor": 0
      },
      "text/plain": [
       "Evaluating:   0%|          | 0/494 [00:00<?, ?it/s]"
      ]
     },
     "metadata": {},
     "output_type": "display_data"
    },
    {
     "name": "stdout",
     "output_type": "stream",
     "text": [
      "\t[Saved best model with val_loss: 0.0954]\n",
      "Epoch: 02 | Time: 6.0m 25.8s\n",
      "\tTrain Loss: 0.1220 | Train Acc: 97.09%\n",
      "\tVal. Loss: 0.0954 | Val. Acc: 97.83%\n"
     ]
    },
    {
     "data": {
      "application/vnd.jupyter.widget-view+json": {
       "model_id": "ff4e7bfc8b4b4cefb911d508af53371b",
       "version_major": 2,
       "version_minor": 0
      },
      "text/plain": [
       "Training:   0%|          | 0/4092 [00:00<?, ?it/s]"
      ]
     },
     "metadata": {},
     "output_type": "display_data"
    },
    {
     "data": {
      "application/vnd.jupyter.widget-view+json": {
       "model_id": "f2c87256966b49bcbccddbbac0289f61",
       "version_major": 2,
       "version_minor": 0
      },
      "text/plain": [
       "Evaluating:   0%|          | 0/494 [00:00<?, ?it/s]"
      ]
     },
     "metadata": {},
     "output_type": "display_data"
    },
    {
     "name": "stdout",
     "output_type": "stream",
     "text": [
      "\t[EarlyStopping counter: 1/3]\n",
      "Epoch: 03 | Time: 6.0m 27.6s\n",
      "\tTrain Loss: 0.0869 | Train Acc: 97.41%\n",
      "\tVal. Loss: 0.1053 | Val. Acc: 98.00%\n"
     ]
    },
    {
     "data": {
      "application/vnd.jupyter.widget-view+json": {
       "model_id": "e7839a86c8dd472eb1e2a7fd39bbfb15",
       "version_major": 2,
       "version_minor": 0
      },
      "text/plain": [
       "Training:   0%|          | 0/4092 [00:00<?, ?it/s]"
      ]
     },
     "metadata": {},
     "output_type": "display_data"
    },
    {
     "data": {
      "application/vnd.jupyter.widget-view+json": {
       "model_id": "782f92a7f84541dd85b5fc752348801e",
       "version_major": 2,
       "version_minor": 0
      },
      "text/plain": [
       "Evaluating:   0%|          | 0/494 [00:00<?, ?it/s]"
      ]
     },
     "metadata": {},
     "output_type": "display_data"
    },
    {
     "name": "stdout",
     "output_type": "stream",
     "text": [
      "\t[EarlyStopping counter: 2/3]\n",
      "Epoch: 04 | Time: 6.0m 20.2s\n",
      "\tTrain Loss: 0.0698 | Train Acc: 97.56%\n",
      "\tVal. Loss: 0.1124 | Val. Acc: 97.98%\n"
     ]
    },
    {
     "data": {
      "application/vnd.jupyter.widget-view+json": {
       "model_id": "b98c6f41a1d3436ea903b5443c151bd9",
       "version_major": 2,
       "version_minor": 0
      },
      "text/plain": [
       "Training:   0%|          | 0/4092 [00:00<?, ?it/s]"
      ]
     },
     "metadata": {},
     "output_type": "display_data"
    },
    {
     "data": {
      "application/vnd.jupyter.widget-view+json": {
       "model_id": "db407013b6a64712ab8e57f69af2bf34",
       "version_major": 2,
       "version_minor": 0
      },
      "text/plain": [
       "Evaluating:   0%|          | 0/494 [00:00<?, ?it/s]"
      ]
     },
     "metadata": {},
     "output_type": "display_data"
    },
    {
     "name": "stdout",
     "output_type": "stream",
     "text": [
      "\t[EarlyStopping counter: 3/3]\n",
      "\t[Early stopping triggered after 5 epochs]\n",
      "Epoch: 05 | Time: 6.0m 23.9s\n",
      "\tTrain Loss: 0.0591 | Train Acc: 97.72%\n",
      "\tVal. Loss: 0.1206 | Val. Acc: 98.07%\n",
      "Training stopped early due to no improvement in validation loss\n"
     ]
    }
   ],
   "source": [
    "\n",
    "\n",
    "# Train the model\n",
    "lstm_train_losses, lstm_train_accs, lstm_val_losses, lstm_val_accs = train_model(\n",
    "    lstm_model, train_augmented_loader, val_loader, criterion, optimizer, device, N_EPOCHS, patience=3 \n",
    ")"
   ]
  },
  {
   "cell_type": "code",
   "execution_count": 126,
   "metadata": {},
   "outputs": [
    {
     "name": "stdout",
     "output_type": "stream",
     "text": [
      "Standard BCE Loss: 0.0747\n",
      "Weighted BCE Loss: 0.0747\n",
      "Standard Focal Loss: 0.0071\n",
      "Adaptive Focal Loss: 0.0110\n"
     ]
    },
    {
     "data": {
      "text/plain": [
       "(0.0747310221195221,\n",
       " 0.07473102957010269,\n",
       " 0.007073467131704092,\n",
       " 0.011009862646460533)"
      ]
     },
     "execution_count": 126,
     "metadata": {},
     "output_type": "execute_result"
    }
   ],
   "source": [
    "def test_loss_values():\n",
    "    # Get a batch of data\n",
    "    for texts, labels in val_loader:\n",
    "        texts = texts.long().to(device)\n",
    "        labels = labels.to(device)\n",
    "        break\n",
    "    \n",
    "    # Get model predictions\n",
    "    with torch.no_grad():\n",
    "        outputs = lstm_model(texts)\n",
    "    \n",
    "    # Compare different loss functions\n",
    "    bce_loss = F.binary_cross_entropy(outputs, labels)\n",
    "    weighted_bce = weighted_binary_cross_entropy(outputs, labels, weights=class_weights)\n",
    "    standard_focal = FocalLoss(alpha=torch.FloatTensor(class_weights)).to(device)(outputs, labels)\n",
    "    adaptive_focal = AdaptiveFocalLoss(alpha=torch.FloatTensor(class_weights), \n",
    "                                     class_gammas=class_gammas).to(device)(outputs, labels)\n",
    "    \n",
    "    print(f\"Standard BCE Loss: {bce_loss.item():.4f}\")\n",
    "    print(f\"Weighted BCE Loss: {weighted_bce.item():.4f}\")\n",
    "    print(f\"Standard Focal Loss: {standard_focal.item():.4f}\")\n",
    "    print(f\"Adaptive Focal Loss: {adaptive_focal.item():.4f}\")\n",
    "    \n",
    "    return bce_loss.item(), weighted_bce.item(), standard_focal.item(), adaptive_focal.item()\n",
    "\n",
    "# Run the test\n",
    "test_loss_values()"
   ]
  },
  {
   "cell_type": "code",
   "execution_count": 127,
   "metadata": {},
   "outputs": [
    {
     "data": {
      "application/vnd.jupyter.widget-view+json": {
       "model_id": "1007d70e99124c5e9c2a9380b654f1ce",
       "version_major": 2,
       "version_minor": 0
      },
      "text/plain": [
       "Finding thresholds:   0%|          | 0/494 [00:00<?, ?it/s]"
      ]
     },
     "metadata": {},
     "output_type": "display_data"
    },
    {
     "name": "stdout",
     "output_type": "stream",
     "text": [
      "Optimal thresholds found on validation: [0.3500000000000001, 0.45000000000000007, 0.3500000000000001, 0.6000000000000002, 0.3500000000000001, 0.40000000000000013]\n"
     ]
    },
    {
     "data": {
      "application/vnd.jupyter.widget-view+json": {
       "model_id": "ba03ec78d9494a7c825c6042ba82580d",
       "version_major": 2,
       "version_minor": 0
      },
      "text/plain": [
       "Predicting:   0%|          | 0/499 [00:00<?, ?it/s]"
      ]
     },
     "metadata": {},
     "output_type": "display_data"
    },
    {
     "name": "stdout",
     "output_type": "stream",
     "text": [
      "\n",
      "============ BiLSTM Model Evaluation ============\n",
      "Accuracy: 0.9049\n",
      "Macro F1: 0.5533\n",
      "Micro F1: 0.6597\n",
      "\n",
      "F1 scores by toxicity type:\n",
      "toxic: 0.6706\n",
      "severe_toxic: 0.5234\n",
      "obscene: 0.7412\n",
      "threat: 0.3333\n",
      "insult: 0.6502\n",
      "identity_hate: 0.4014\n"
     ]
    },
    {
     "data": {
      "text/html": [
       "<div>\n",
       "<style scoped>\n",
       "    .dataframe tbody tr th:only-of-type {\n",
       "        vertical-align: middle;\n",
       "    }\n",
       "\n",
       "    .dataframe tbody tr th {\n",
       "        vertical-align: top;\n",
       "    }\n",
       "\n",
       "    .dataframe thead th {\n",
       "        text-align: right;\n",
       "    }\n",
       "</style>\n",
       "<table border=\"1\" class=\"dataframe\">\n",
       "  <thead>\n",
       "    <tr style=\"text-align: right;\">\n",
       "      <th></th>\n",
       "      <th>Category</th>\n",
       "      <th>Precision</th>\n",
       "      <th>Recall</th>\n",
       "      <th>F1</th>\n",
       "      <th>Accuracy</th>\n",
       "      <th>Prevalence</th>\n",
       "      <th>Specificity</th>\n",
       "      <th>TP</th>\n",
       "      <th>FP</th>\n",
       "      <th>FN</th>\n",
       "      <th>TN</th>\n",
       "    </tr>\n",
       "  </thead>\n",
       "  <tbody>\n",
       "    <tr>\n",
       "      <th>2</th>\n",
       "      <td>obscene</td>\n",
       "      <td>78.14%</td>\n",
       "      <td>70.48%</td>\n",
       "      <td>74.12%</td>\n",
       "      <td>97.39%</td>\n",
       "      <td>5.31%</td>\n",
       "      <td>98.89%</td>\n",
       "      <td>597</td>\n",
       "      <td>167</td>\n",
       "      <td>250</td>\n",
       "      <td>14944</td>\n",
       "    </tr>\n",
       "    <tr>\n",
       "      <th>0</th>\n",
       "      <td>toxic</td>\n",
       "      <td>77.35%</td>\n",
       "      <td>59.19%</td>\n",
       "      <td>67.06%</td>\n",
       "      <td>94.43%</td>\n",
       "      <td>9.58%</td>\n",
       "      <td>98.16%</td>\n",
       "      <td>905</td>\n",
       "      <td>265</td>\n",
       "      <td>624</td>\n",
       "      <td>14164</td>\n",
       "    </tr>\n",
       "    <tr>\n",
       "      <th>4</th>\n",
       "      <td>insult</td>\n",
       "      <td>67.89%</td>\n",
       "      <td>62.38%</td>\n",
       "      <td>65.02%</td>\n",
       "      <td>96.63%</td>\n",
       "      <td>5.01%</td>\n",
       "      <td>98.44%</td>\n",
       "      <td>499</td>\n",
       "      <td>236</td>\n",
       "      <td>301</td>\n",
       "      <td>14922</td>\n",
       "    </tr>\n",
       "    <tr>\n",
       "      <th>1</th>\n",
       "      <td>severe_toxic</td>\n",
       "      <td>44.39%</td>\n",
       "      <td>63.76%</td>\n",
       "      <td>52.34%</td>\n",
       "      <td>98.92%</td>\n",
       "      <td>0.93%</td>\n",
       "      <td>99.25%</td>\n",
       "      <td>95</td>\n",
       "      <td>119</td>\n",
       "      <td>54</td>\n",
       "      <td>15690</td>\n",
       "    </tr>\n",
       "    <tr>\n",
       "      <th>5</th>\n",
       "      <td>identity_hate</td>\n",
       "      <td>43.51%</td>\n",
       "      <td>37.25%</td>\n",
       "      <td>40.14%</td>\n",
       "      <td>98.93%</td>\n",
       "      <td>0.96%</td>\n",
       "      <td>99.53%</td>\n",
       "      <td>57</td>\n",
       "      <td>74</td>\n",
       "      <td>96</td>\n",
       "      <td>15731</td>\n",
       "    </tr>\n",
       "    <tr>\n",
       "      <th>3</th>\n",
       "      <td>threat</td>\n",
       "      <td>54.55%</td>\n",
       "      <td>24.00%</td>\n",
       "      <td>33.33%</td>\n",
       "      <td>99.70%</td>\n",
       "      <td>0.31%</td>\n",
       "      <td>99.94%</td>\n",
       "      <td>12</td>\n",
       "      <td>10</td>\n",
       "      <td>38</td>\n",
       "      <td>15898</td>\n",
       "    </tr>\n",
       "  </tbody>\n",
       "</table>\n",
       "</div>"
      ],
      "text/plain": [
       "        Category Precision  Recall      F1 Accuracy Prevalence Specificity  \\\n",
       "2        obscene    78.14%  70.48%  74.12%   97.39%      5.31%      98.89%   \n",
       "0          toxic    77.35%  59.19%  67.06%   94.43%      9.58%      98.16%   \n",
       "4         insult    67.89%  62.38%  65.02%   96.63%      5.01%      98.44%   \n",
       "1   severe_toxic    44.39%  63.76%  52.34%   98.92%      0.93%      99.25%   \n",
       "5  identity_hate    43.51%  37.25%  40.14%   98.93%      0.96%      99.53%   \n",
       "3         threat    54.55%  24.00%  33.33%   99.70%      0.31%      99.94%   \n",
       "\n",
       "    TP   FP   FN     TN  \n",
       "2  597  167  250  14944  \n",
       "0  905  265  624  14164  \n",
       "4  499  236  301  14922  \n",
       "1   95  119   54  15690  \n",
       "5   57   74   96  15731  \n",
       "3   12   10   38  15898  "
      ]
     },
     "metadata": {},
     "output_type": "display_data"
    }
   ],
   "source": [
    "# Load the best model\n",
    "lstm_model.load_state_dict(torch.load('../models/best_rnn_model.pt'))\n",
    "lstm_model.eval()\n",
    "\n",
    "# Find optimal thresholds on validation data\n",
    "optimal_thresholds = find_optimal_thresholds(lstm_model, val_loader, device)\n",
    "\n",
    "# Apply these thresholds on the test set\n",
    "lstm_preds, lstm_actual = predict_with_thresholds(lstm_model, test_loader, optimal_thresholds, device)\n",
    "\n",
    "# Evaluate using the test set with validation-determined thresholds\n",
    "print(\"\\n============ BiLSTM Model Evaluation ============\")\n",
    "lstm_results = model_performance_metrics(lstm_preds, lstm_actual, y.columns)\n",
    "\n",
    "# Detailed evaluation\n",
    "df_evaluation = detailed_evaluation_table(lstm_preds, lstm_actual, y.columns)\n",
    "\n",
    "\n",
    "# To sort by F1 score:\n",
    "df_sorted = df_evaluation.sort_values('F1', ascending=False)\n",
    "display(df_sorted)"
   ]
  },
  {
   "cell_type": "code",
   "execution_count": null,
   "metadata": {},
   "outputs": [],
   "source": []
  },
  {
   "cell_type": "code",
   "execution_count": 128,
   "metadata": {},
   "outputs": [
    {
     "data": {
      "image/png": "[encoded data removed]",
      "text/plain": [
       "<Figure size 1200x500 with 2 Axes>"
      ]
     },
     "metadata": {},
     "output_type": "display_data"
    }
   ],
   "source": [
    "# Add this code before plotting and saving your training history\n",
    "import os\n",
    "os.makedirs('../results', exist_ok=True)\n",
    "plot_training_history(\n",
    "    lstm_train_losses, lstm_train_accs, lstm_val_losses, lstm_val_accs, \"BiLSTM Model\"\n",
    ")"
   ]
  },
  {
   "cell_type": "markdown",
   "metadata": {},
   "source": [
    "## 6. Train and Evaluate GRU Model"
   ]
  },
  {
   "cell_type": "code",
   "execution_count": 129,
   "metadata": {},
   "outputs": [
    {
     "name": "stdout",
     "output_type": "stream",
     "text": [
      "GRUClassifier(\n",
      "  (embedding): Embedding(72577, 100, padding_idx=0)\n",
      "  (gru): GRU(100, 128, num_layers=2, batch_first=True, dropout=0.3, bidirectional=True)\n",
      "  (fc): Linear(in_features=256, out_features=6, bias=True)\n",
      "  (dropout): Dropout(p=0.3, inplace=False)\n",
      ")\n"
     ]
    }
   ],
   "source": [
    "# Initialize GRU Model\n",
    "gru_model = GRUClassifier(\n",
    "    vocab_size=vocab_size,\n",
    "    embedding_dim=EMBEDDING_DIM,\n",
    "    hidden_dim=HIDDEN_DIM,\n",
    "    output_dim=OUTPUT_DIM,\n",
    "    n_layers=N_LAYERS,\n",
    "    bidirectional=BIDIRECTIONAL,\n",
    "    dropout=DROPOUT,\n",
    "    pad_idx=PAD_IDX\n",
    ")\n",
    "\n",
    "# Move model to device (GPU/CPU)\n",
    "gru_model = gru_model.to(device)\n",
    "print(gru_model)"
   ]
  },
  {
   "cell_type": "code",
   "execution_count": 130,
   "metadata": {},
   "outputs": [
    {
     "data": {
      "application/vnd.jupyter.widget-view+json": {
       "model_id": "f83383f71174484fa38bcef6c546f68b",
       "version_major": 2,
       "version_minor": 0
      },
      "text/plain": [
       "Training:   0%|          | 0/3995 [00:00<?, ?it/s]"
      ]
     },
     "metadata": {},
     "output_type": "display_data"
    },
    {
     "data": {
      "application/vnd.jupyter.widget-view+json": {
       "model_id": "a64a3e3cf628491c8f98b579c97e7f74",
       "version_major": 2,
       "version_minor": 0
      },
      "text/plain": [
       "Evaluating:   0%|          | 0/494 [00:00<?, ?it/s]"
      ]
     },
     "metadata": {},
     "output_type": "display_data"
    },
    {
     "name": "stdout",
     "output_type": "stream",
     "text": [
      "\t[Saved best model with val_loss: 0.0892]\n",
      "Epoch: 01 | Time: 4.0m 33.9s\n",
      "\tTrain Loss: 0.1270 | Train Acc: 97.09%\n",
      "\tVal. Loss: 0.0892 | Val. Acc: 97.78%\n"
     ]
    },
    {
     "data": {
      "application/vnd.jupyter.widget-view+json": {
       "model_id": "a06b96ffc65042b6ab5a85ae80670122",
       "version_major": 2,
       "version_minor": 0
      },
      "text/plain": [
       "Training:   0%|          | 0/3995 [00:00<?, ?it/s]"
      ]
     },
     "metadata": {},
     "output_type": "display_data"
    },
    {
     "data": {
      "application/vnd.jupyter.widget-view+json": {
       "model_id": "6fe5a7fd950d406ebc00d4f9b6474a42",
       "version_major": 2,
       "version_minor": 0
      },
      "text/plain": [
       "Evaluating:   0%|          | 0/494 [00:00<?, ?it/s]"
      ]
     },
     "metadata": {},
     "output_type": "display_data"
    },
    {
     "name": "stdout",
     "output_type": "stream",
     "text": [
      "\t[Saved best model with val_loss: 0.0826]\n",
      "Epoch: 02 | Time: 4.0m 34.5s\n",
      "\tTrain Loss: 0.0796 | Train Acc: 97.71%\n",
      "\tVal. Loss: 0.0826 | Val. Acc: 97.98%\n"
     ]
    },
    {
     "data": {
      "application/vnd.jupyter.widget-view+json": {
       "model_id": "a39c5f9038d44e0189f8d6329c88a6a0",
       "version_major": 2,
       "version_minor": 0
      },
      "text/plain": [
       "Training:   0%|          | 0/3995 [00:00<?, ?it/s]"
      ]
     },
     "metadata": {},
     "output_type": "display_data"
    },
    {
     "data": {
      "application/vnd.jupyter.widget-view+json": {
       "model_id": "bc0cd2641af546019580fb9db7838577",
       "version_major": 2,
       "version_minor": 0
      },
      "text/plain": [
       "Evaluating:   0%|          | 0/494 [00:00<?, ?it/s]"
      ]
     },
     "metadata": {},
     "output_type": "display_data"
    },
    {
     "name": "stdout",
     "output_type": "stream",
     "text": [
      "\t[EarlyStopping counter: 1/3]\n",
      "Epoch: 03 | Time: 4.0m 34.2s\n",
      "\tTrain Loss: 0.0643 | Train Acc: 97.88%\n",
      "\tVal. Loss: 0.0852 | Val. Acc: 98.08%\n"
     ]
    },
    {
     "data": {
      "application/vnd.jupyter.widget-view+json": {
       "model_id": "1f645631dff644c99f6665910900cc92",
       "version_major": 2,
       "version_minor": 0
      },
      "text/plain": [
       "Training:   0%|          | 0/3995 [00:00<?, ?it/s]"
      ]
     },
     "metadata": {},
     "output_type": "display_data"
    },
    {
     "data": {
      "application/vnd.jupyter.widget-view+json": {
       "model_id": "f9fb3cf13a534b1b988d666e492f58f8",
       "version_major": 2,
       "version_minor": 0
      },
      "text/plain": [
       "Evaluating:   0%|          | 0/494 [00:00<?, ?it/s]"
      ]
     },
     "metadata": {},
     "output_type": "display_data"
    },
    {
     "name": "stdout",
     "output_type": "stream",
     "text": [
      "\t[EarlyStopping counter: 2/3]\n",
      "Epoch: 04 | Time: 4.0m 35.3s\n",
      "\tTrain Loss: 0.0566 | Train Acc: 97.98%\n",
      "\tVal. Loss: 0.0982 | Val. Acc: 98.07%\n"
     ]
    },
    {
     "data": {
      "application/vnd.jupyter.widget-view+json": {
       "model_id": "a182ab9686584a0d98fdc527cef725d7",
       "version_major": 2,
       "version_minor": 0
      },
      "text/plain": [
       "Training:   0%|          | 0/3995 [00:00<?, ?it/s]"
      ]
     },
     "metadata": {},
     "output_type": "display_data"
    },
    {
     "data": {
      "application/vnd.jupyter.widget-view+json": {
       "model_id": "e1d5ce038b1f44e480ef44e102947bef",
       "version_major": 2,
       "version_minor": 0
      },
      "text/plain": [
       "Evaluating:   0%|          | 0/494 [00:00<?, ?it/s]"
      ]
     },
     "metadata": {},
     "output_type": "display_data"
    },
    {
     "name": "stdout",
     "output_type": "stream",
     "text": [
      "\t[EarlyStopping counter: 3/3]\n",
      "\t[Early stopping triggered after 5 epochs]\n",
      "Epoch: 05 | Time: 4.0m 35.2s\n",
      "\tTrain Loss: 0.0494 | Train Acc: 98.03%\n",
      "\tVal. Loss: 0.0896 | Val. Acc: 98.12%\n",
      "Training stopped early due to no improvement in validation loss\n"
     ]
    }
   ],
   "source": [
    "# Define optimizer and loss function\n",
    "optimizer = optim.Adam(gru_model.parameters(), lr=LEARNING_RATE)\n",
    "\n",
    "# Train the model\n",
    "gru_train_losses, gru_train_accs, gru_val_losses, gru_val_accs = train_model(\n",
    "    gru_model, train_loader, val_loader, criterion, optimizer, device, N_EPOCHS, patience=3\n",
    ")"
   ]
  },
  {
   "cell_type": "code",
   "execution_count": 131,
   "metadata": {},
   "outputs": [
    {
     "data": {
      "application/vnd.jupyter.widget-view+json": {
       "model_id": "157ba612c7c444cca3d1a963a7d7c7d2",
       "version_major": 2,
       "version_minor": 0
      },
      "text/plain": [
       "Finding thresholds:   0%|          | 0/494 [00:00<?, ?it/s]"
      ]
     },
     "metadata": {},
     "output_type": "display_data"
    },
    {
     "name": "stdout",
     "output_type": "stream",
     "text": [
      "Optimal thresholds found on validation: [0.3500000000000001, 0.3500000000000001, 0.45000000000000007, 0.25000000000000006, 0.40000000000000013, 0.40000000000000013]\n"
     ]
    },
    {
     "data": {
      "application/vnd.jupyter.widget-view+json": {
       "model_id": "4c3a544773eb43e0aae4af260a0cb01a",
       "version_major": 2,
       "version_minor": 0
      },
      "text/plain": [
       "Predicting:   0%|          | 0/499 [00:00<?, ?it/s]"
      ]
     },
     "metadata": {},
     "output_type": "display_data"
    },
    {
     "name": "stdout",
     "output_type": "stream",
     "text": [
      "\n",
      "============ BiGRU Model Evaluation ============\n",
      "Accuracy: 0.9147\n",
      "Macro F1: 0.6267\n",
      "Micro F1: 0.7334\n",
      "\n",
      "F1 scores by toxicity type:\n",
      "toxic: 0.7670\n",
      "severe_toxic: 0.5205\n",
      "obscene: 0.8038\n",
      "threat: 0.4259\n",
      "insult: 0.7068\n",
      "identity_hate: 0.5361\n"
     ]
    },
    {
     "data": {
      "text/html": [
       "<div>\n",
       "<style scoped>\n",
       "    .dataframe tbody tr th:only-of-type {\n",
       "        vertical-align: middle;\n",
       "    }\n",
       "\n",
       "    .dataframe tbody tr th {\n",
       "        vertical-align: top;\n",
       "    }\n",
       "\n",
       "    .dataframe thead th {\n",
       "        text-align: right;\n",
       "    }\n",
       "</style>\n",
       "<table border=\"1\" class=\"dataframe\">\n",
       "  <thead>\n",
       "    <tr style=\"text-align: right;\">\n",
       "      <th></th>\n",
       "      <th>Category</th>\n",
       "      <th>Precision</th>\n",
       "      <th>Recall</th>\n",
       "      <th>F1</th>\n",
       "      <th>Accuracy</th>\n",
       "      <th>Prevalence</th>\n",
       "      <th>Specificity</th>\n",
       "      <th>TP</th>\n",
       "      <th>FP</th>\n",
       "      <th>FN</th>\n",
       "      <th>TN</th>\n",
       "    </tr>\n",
       "  </thead>\n",
       "  <tbody>\n",
       "    <tr>\n",
       "      <th>2</th>\n",
       "      <td>obscene</td>\n",
       "      <td>81.71%</td>\n",
       "      <td>79.10%</td>\n",
       "      <td>80.38%</td>\n",
       "      <td>97.95%</td>\n",
       "      <td>5.31%</td>\n",
       "      <td>99.01%</td>\n",
       "      <td>670</td>\n",
       "      <td>150</td>\n",
       "      <td>177</td>\n",
       "      <td>14961</td>\n",
       "    </tr>\n",
       "    <tr>\n",
       "      <th>0</th>\n",
       "      <td>toxic</td>\n",
       "      <td>80.56%</td>\n",
       "      <td>73.19%</td>\n",
       "      <td>76.70%</td>\n",
       "      <td>95.74%</td>\n",
       "      <td>9.58%</td>\n",
       "      <td>98.13%</td>\n",
       "      <td>1119</td>\n",
       "      <td>270</td>\n",
       "      <td>410</td>\n",
       "      <td>14159</td>\n",
       "    </tr>\n",
       "    <tr>\n",
       "      <th>4</th>\n",
       "      <td>insult</td>\n",
       "      <td>68.18%</td>\n",
       "      <td>73.38%</td>\n",
       "      <td>70.68%</td>\n",
       "      <td>96.95%</td>\n",
       "      <td>5.01%</td>\n",
       "      <td>98.19%</td>\n",
       "      <td>587</td>\n",
       "      <td>274</td>\n",
       "      <td>213</td>\n",
       "      <td>14884</td>\n",
       "    </tr>\n",
       "    <tr>\n",
       "      <th>5</th>\n",
       "      <td>identity_hate</td>\n",
       "      <td>49.72%</td>\n",
       "      <td>58.17%</td>\n",
       "      <td>53.61%</td>\n",
       "      <td>99.03%</td>\n",
       "      <td>0.96%</td>\n",
       "      <td>99.43%</td>\n",
       "      <td>89</td>\n",
       "      <td>90</td>\n",
       "      <td>64</td>\n",
       "      <td>15715</td>\n",
       "    </tr>\n",
       "    <tr>\n",
       "      <th>1</th>\n",
       "      <td>severe_toxic</td>\n",
       "      <td>46.11%</td>\n",
       "      <td>59.73%</td>\n",
       "      <td>52.05%</td>\n",
       "      <td>98.97%</td>\n",
       "      <td>0.93%</td>\n",
       "      <td>99.34%</td>\n",
       "      <td>89</td>\n",
       "      <td>104</td>\n",
       "      <td>60</td>\n",
       "      <td>15705</td>\n",
       "    </tr>\n",
       "    <tr>\n",
       "      <th>3</th>\n",
       "      <td>threat</td>\n",
       "      <td>39.66%</td>\n",
       "      <td>46.00%</td>\n",
       "      <td>42.59%</td>\n",
       "      <td>99.61%</td>\n",
       "      <td>0.31%</td>\n",
       "      <td>99.78%</td>\n",
       "      <td>23</td>\n",
       "      <td>35</td>\n",
       "      <td>27</td>\n",
       "      <td>15873</td>\n",
       "    </tr>\n",
       "  </tbody>\n",
       "</table>\n",
       "</div>"
      ],
      "text/plain": [
       "        Category Precision  Recall      F1 Accuracy Prevalence Specificity  \\\n",
       "2        obscene    81.71%  79.10%  80.38%   97.95%      5.31%      99.01%   \n",
       "0          toxic    80.56%  73.19%  76.70%   95.74%      9.58%      98.13%   \n",
       "4         insult    68.18%  73.38%  70.68%   96.95%      5.01%      98.19%   \n",
       "5  identity_hate    49.72%  58.17%  53.61%   99.03%      0.96%      99.43%   \n",
       "1   severe_toxic    46.11%  59.73%  52.05%   98.97%      0.93%      99.34%   \n",
       "3         threat    39.66%  46.00%  42.59%   99.61%      0.31%      99.78%   \n",
       "\n",
       "     TP   FP   FN     TN  \n",
       "2   670  150  177  14961  \n",
       "0  1119  270  410  14159  \n",
       "4   587  274  213  14884  \n",
       "5    89   90   64  15715  \n",
       "1    89  104   60  15705  \n",
       "3    23   35   27  15873  "
      ]
     },
     "metadata": {},
     "output_type": "display_data"
    }
   ],
   "source": [
    "# Save the trained GRU model\n",
    "torch.save(gru_model.state_dict(), '../models/gru_model.pt')\n",
    "\n",
    "# Find optimal thresholds on validation data\n",
    "gru_optimal_thresholds = find_optimal_thresholds(gru_model, val_loader, device)\n",
    "\n",
    "# Apply these thresholds on the test set\n",
    "gru_preds, gru_actual = predict_with_thresholds(gru_model, test_loader, gru_optimal_thresholds, device)\n",
    "\n",
    "# Evaluate using the test set with validation-determined thresholds\n",
    "print(\"\\n============ BiGRU Model Evaluation ============\")\n",
    "gru_results = model_performance_metrics(gru_preds, gru_actual, y.columns)\n",
    "\n",
    "# Detailed evaluation\n",
    "gru_df_evaluation = detailed_evaluation_table(gru_preds, gru_actual, y.columns)\n",
    "\n",
    "# To sort by F1 score:\n",
    "gru_df_sorted = gru_df_evaluation.sort_values('F1', ascending=False)\n",
    "display(gru_df_sorted)"
   ]
  },
  {
   "cell_type": "code",
   "execution_count": 132,
   "metadata": {},
   "outputs": [
    {
     "data": {
      "image/png": "[encoded data removed]",
      "text/plain": [
       "<Figure size 1200x500 with 2 Axes>"
      ]
     },
     "metadata": {},
     "output_type": "display_data"
    }
   ],
   "source": [
    "# Plot training history\n",
    "plot_training_history(\n",
    "    gru_train_losses, gru_train_accs, gru_val_losses, gru_val_accs, \"BiGRU Model\"\n",
    ")"
   ]
  },
  {
   "cell_type": "markdown",
   "metadata": {},
   "source": [
    "## 7. Train and Evaluate Attention-based BiLSTM Model"
   ]
  },
  {
   "cell_type": "code",
   "execution_count": 133,
   "metadata": {},
   "outputs": [
    {
     "name": "stdout",
     "output_type": "stream",
     "text": [
      "AttentionBiLSTM(\n",
      "  (embedding): Embedding(72577, 100, padding_idx=0)\n",
      "  (lstm): LSTM(100, 128, num_layers=2, batch_first=True, dropout=0.3, bidirectional=True)\n",
      "  (attention): AttentionLayer(\n",
      "    (attention): Linear(in_features=256, out_features=1, bias=True)\n",
      "  )\n",
      "  (fc): Linear(in_features=256, out_features=6, bias=True)\n",
      "  (dropout): Dropout(p=0.3, inplace=False)\n",
      ")\n"
     ]
    }
   ],
   "source": [
    "# Initialize Attention-based BiLSTM Model\n",
    "attn_lstm_model = AttentionBiLSTM(\n",
    "    vocab_size=vocab_size,\n",
    "    embedding_dim=EMBEDDING_DIM,\n",
    "    hidden_dim=HIDDEN_DIM,\n",
    "    output_dim=OUTPUT_DIM,\n",
    "    n_layers=N_LAYERS,\n",
    "    dropout=DROPOUT,\n",
    "    pad_idx=PAD_IDX\n",
    ")\n",
    "\n",
    "# Move model to device (GPU/CPU)\n",
    "attn_lstm_model = attn_lstm_model.to(device)\n",
    "print(attn_lstm_model)"
   ]
  },
  {
   "cell_type": "code",
   "execution_count": 134,
   "metadata": {},
   "outputs": [
    {
     "data": {
      "application/vnd.jupyter.widget-view+json": {
       "model_id": "0fb65b3b0d9b48c697e915403e3d271f",
       "version_major": 2,
       "version_minor": 0
      },
      "text/plain": [
       "Training:   0%|          | 0/3995 [00:00<?, ?it/s]"
      ]
     },
     "metadata": {},
     "output_type": "display_data"
    },
    {
     "data": {
      "application/vnd.jupyter.widget-view+json": {
       "model_id": "1af51bb671914acd8a9f67f4aac7dcc9",
       "version_major": 2,
       "version_minor": 0
      },
      "text/plain": [
       "Evaluating:   0%|          | 0/494 [00:00<?, ?it/s]"
      ]
     },
     "metadata": {},
     "output_type": "display_data"
    },
    {
     "name": "stdout",
     "output_type": "stream",
     "text": [
      "\t[Saved best model with val_loss: 0.0989]\n",
      "Epoch: 01 | Time: 6.0m 18.3s\n",
      "\tTrain Loss: 0.1252 | Train Acc: 97.08%\n",
      "\tVal. Loss: 0.0989 | Val. Acc: 97.53%\n"
     ]
    },
    {
     "data": {
      "application/vnd.jupyter.widget-view+json": {
       "model_id": "9e791ac493474c0bb05d814916927a1b",
       "version_major": 2,
       "version_minor": 0
      },
      "text/plain": [
       "Training:   0%|          | 0/3995 [00:00<?, ?it/s]"
      ]
     },
     "metadata": {},
     "output_type": "display_data"
    },
    {
     "data": {
      "application/vnd.jupyter.widget-view+json": {
       "model_id": "dcb85c74a4a74c778c20bdf1954711ea",
       "version_major": 2,
       "version_minor": 0
      },
      "text/plain": [
       "Evaluating:   0%|          | 0/494 [00:00<?, ?it/s]"
      ]
     },
     "metadata": {},
     "output_type": "display_data"
    },
    {
     "name": "stdout",
     "output_type": "stream",
     "text": [
      "\t[Saved best model with val_loss: 0.0779]\n",
      "Epoch: 02 | Time: 6.0m 20.2s\n",
      "\tTrain Loss: 0.0779 | Train Acc: 97.73%\n",
      "\tVal. Loss: 0.0779 | Val. Acc: 97.97%\n"
     ]
    },
    {
     "data": {
      "application/vnd.jupyter.widget-view+json": {
       "model_id": "d8d721838a944a74a585fdde404c2880",
       "version_major": 2,
       "version_minor": 0
      },
      "text/plain": [
       "Training:   0%|          | 0/3995 [00:00<?, ?it/s]"
      ]
     },
     "metadata": {},
     "output_type": "display_data"
    },
    {
     "data": {
      "application/vnd.jupyter.widget-view+json": {
       "model_id": "dbb38acb8ccb4a869f2e4a979a528d4b",
       "version_major": 2,
       "version_minor": 0
      },
      "text/plain": [
       "Evaluating:   0%|          | 0/494 [00:00<?, ?it/s]"
      ]
     },
     "metadata": {},
     "output_type": "display_data"
    },
    {
     "name": "stdout",
     "output_type": "stream",
     "text": [
      "\t[EarlyStopping counter: 1/3]\n",
      "Epoch: 03 | Time: 6.0m 21.5s\n",
      "\tTrain Loss: 0.0641 | Train Acc: 97.91%\n",
      "\tVal. Loss: 0.0809 | Val. Acc: 98.03%\n"
     ]
    },
    {
     "data": {
      "application/vnd.jupyter.widget-view+json": {
       "model_id": "e1a8199349154424a245cad542878325",
       "version_major": 2,
       "version_minor": 0
      },
      "text/plain": [
       "Training:   0%|          | 0/3995 [00:00<?, ?it/s]"
      ]
     },
     "metadata": {},
     "output_type": "display_data"
    },
    {
     "data": {
      "application/vnd.jupyter.widget-view+json": {
       "model_id": "54940d247fe5492291adc624d0d220c6",
       "version_major": 2,
       "version_minor": 0
      },
      "text/plain": [
       "Evaluating:   0%|          | 0/494 [00:00<?, ?it/s]"
      ]
     },
     "metadata": {},
     "output_type": "display_data"
    },
    {
     "name": "stdout",
     "output_type": "stream",
     "text": [
      "\t[EarlyStopping counter: 2/3]\n",
      "Epoch: 04 | Time: 6.0m 21.3s\n",
      "\tTrain Loss: 0.0547 | Train Acc: 98.02%\n",
      "\tVal. Loss: 0.0804 | Val. Acc: 98.15%\n"
     ]
    },
    {
     "data": {
      "application/vnd.jupyter.widget-view+json": {
       "model_id": "f74df22183f543c9b55154a5acdc3bfa",
       "version_major": 2,
       "version_minor": 0
      },
      "text/plain": [
       "Training:   0%|          | 0/3995 [00:00<?, ?it/s]"
      ]
     },
     "metadata": {},
     "output_type": "display_data"
    },
    {
     "data": {
      "application/vnd.jupyter.widget-view+json": {
       "model_id": "9f682145df48480ea1327424f37af9d8",
       "version_major": 2,
       "version_minor": 0
      },
      "text/plain": [
       "Evaluating:   0%|          | 0/494 [00:00<?, ?it/s]"
      ]
     },
     "metadata": {},
     "output_type": "display_data"
    },
    {
     "name": "stdout",
     "output_type": "stream",
     "text": [
      "\t[EarlyStopping counter: 3/3]\n",
      "\t[Early stopping triggered after 5 epochs]\n",
      "Epoch: 05 | Time: 6.0m 23.6s\n",
      "\tTrain Loss: 0.0468 | Train Acc: 98.11%\n",
      "\tVal. Loss: 0.0984 | Val. Acc: 98.14%\n",
      "Training stopped early due to no improvement in validation loss\n"
     ]
    }
   ],
   "source": [
    "# Define optimizer and loss function\n",
    "optimizer = optim.Adam(attn_lstm_model.parameters(), lr=LEARNING_RATE)\n",
    "\n",
    "# Train the model\n",
    "attn_train_losses, attn_train_accs, attn_val_losses, attn_val_accs = train_model(\n",
    "    attn_lstm_model, train_loader, val_loader, criterion, optimizer, device, N_EPOCHS\n",
    ")"
   ]
  },
  {
   "cell_type": "code",
   "execution_count": 135,
   "metadata": {},
   "outputs": [
    {
     "data": {
      "application/vnd.jupyter.widget-view+json": {
       "model_id": "105477d124004087a32b41ba9ad2f9cc",
       "version_major": 2,
       "version_minor": 0
      },
      "text/plain": [
       "Finding thresholds:   0%|          | 0/494 [00:00<?, ?it/s]"
      ]
     },
     "metadata": {},
     "output_type": "display_data"
    },
    {
     "name": "stdout",
     "output_type": "stream",
     "text": [
      "Optimal thresholds found on validation: [0.40000000000000013, 0.40000000000000013, 0.5000000000000001, 0.25000000000000006, 0.45000000000000007, 0.3500000000000001]\n"
     ]
    },
    {
     "data": {
      "application/vnd.jupyter.widget-view+json": {
       "model_id": "9bd0329ecaf04e378d8202664a2be61f",
       "version_major": 2,
       "version_minor": 0
      },
      "text/plain": [
       "Predicting:   0%|          | 0/499 [00:00<?, ?it/s]"
      ]
     },
     "metadata": {},
     "output_type": "display_data"
    },
    {
     "name": "stdout",
     "output_type": "stream",
     "text": [
      "\n",
      "============ Attention BiLSTM Model Evaluation ============\n",
      "Accuracy: 0.9156\n",
      "Macro F1: 0.6240\n",
      "Micro F1: 0.7318\n",
      "\n",
      "F1 scores by toxicity type:\n",
      "toxic: 0.7753\n",
      "severe_toxic: 0.5067\n",
      "obscene: 0.7938\n",
      "threat: 0.4565\n",
      "insult: 0.7143\n",
      "identity_hate: 0.4974\n"
     ]
    },
    {
     "data": {
      "text/html": [
       "<div>\n",
       "<style scoped>\n",
       "    .dataframe tbody tr th:only-of-type {\n",
       "        vertical-align: middle;\n",
       "    }\n",
       "\n",
       "    .dataframe tbody tr th {\n",
       "        vertical-align: top;\n",
       "    }\n",
       "\n",
       "    .dataframe thead th {\n",
       "        text-align: right;\n",
       "    }\n",
       "</style>\n",
       "<table border=\"1\" class=\"dataframe\">\n",
       "  <thead>\n",
       "    <tr style=\"text-align: right;\">\n",
       "      <th></th>\n",
       "      <th>Category</th>\n",
       "      <th>Precision</th>\n",
       "      <th>Recall</th>\n",
       "      <th>F1</th>\n",
       "      <th>Accuracy</th>\n",
       "      <th>Prevalence</th>\n",
       "      <th>Specificity</th>\n",
       "      <th>TP</th>\n",
       "      <th>FP</th>\n",
       "      <th>FN</th>\n",
       "      <th>TN</th>\n",
       "    </tr>\n",
       "  </thead>\n",
       "  <tbody>\n",
       "    <tr>\n",
       "      <th>2</th>\n",
       "      <td>obscene</td>\n",
       "      <td>79.90%</td>\n",
       "      <td>78.87%</td>\n",
       "      <td>79.38%</td>\n",
       "      <td>97.83%</td>\n",
       "      <td>5.31%</td>\n",
       "      <td>98.89%</td>\n",
       "      <td>668</td>\n",
       "      <td>168</td>\n",
       "      <td>179</td>\n",
       "      <td>14943</td>\n",
       "    </tr>\n",
       "    <tr>\n",
       "      <th>0</th>\n",
       "      <td>toxic</td>\n",
       "      <td>83.70%</td>\n",
       "      <td>72.20%</td>\n",
       "      <td>77.53%</td>\n",
       "      <td>95.99%</td>\n",
       "      <td>9.58%</td>\n",
       "      <td>98.51%</td>\n",
       "      <td>1104</td>\n",
       "      <td>215</td>\n",
       "      <td>425</td>\n",
       "      <td>14214</td>\n",
       "    </tr>\n",
       "    <tr>\n",
       "      <th>4</th>\n",
       "      <td>insult</td>\n",
       "      <td>68.71%</td>\n",
       "      <td>74.38%</td>\n",
       "      <td>71.43%</td>\n",
       "      <td>97.02%</td>\n",
       "      <td>5.01%</td>\n",
       "      <td>98.21%</td>\n",
       "      <td>595</td>\n",
       "      <td>271</td>\n",
       "      <td>205</td>\n",
       "      <td>14887</td>\n",
       "    </tr>\n",
       "    <tr>\n",
       "      <th>1</th>\n",
       "      <td>severe_toxic</td>\n",
       "      <td>42.34%</td>\n",
       "      <td>63.09%</td>\n",
       "      <td>50.67%</td>\n",
       "      <td>98.85%</td>\n",
       "      <td>0.93%</td>\n",
       "      <td>99.19%</td>\n",
       "      <td>94</td>\n",
       "      <td>128</td>\n",
       "      <td>55</td>\n",
       "      <td>15681</td>\n",
       "    </tr>\n",
       "    <tr>\n",
       "      <th>5</th>\n",
       "      <td>identity_hate</td>\n",
       "      <td>41.20%</td>\n",
       "      <td>62.75%</td>\n",
       "      <td>49.74%</td>\n",
       "      <td>98.78%</td>\n",
       "      <td>0.96%</td>\n",
       "      <td>99.13%</td>\n",
       "      <td>96</td>\n",
       "      <td>137</td>\n",
       "      <td>57</td>\n",
       "      <td>15668</td>\n",
       "    </tr>\n",
       "    <tr>\n",
       "      <th>3</th>\n",
       "      <td>threat</td>\n",
       "      <td>50.00%</td>\n",
       "      <td>42.00%</td>\n",
       "      <td>45.65%</td>\n",
       "      <td>99.69%</td>\n",
       "      <td>0.31%</td>\n",
       "      <td>99.87%</td>\n",
       "      <td>21</td>\n",
       "      <td>21</td>\n",
       "      <td>29</td>\n",
       "      <td>15887</td>\n",
       "    </tr>\n",
       "  </tbody>\n",
       "</table>\n",
       "</div>"
      ],
      "text/plain": [
       "        Category Precision  Recall      F1 Accuracy Prevalence Specificity  \\\n",
       "2        obscene    79.90%  78.87%  79.38%   97.83%      5.31%      98.89%   \n",
       "0          toxic    83.70%  72.20%  77.53%   95.99%      9.58%      98.51%   \n",
       "4         insult    68.71%  74.38%  71.43%   97.02%      5.01%      98.21%   \n",
       "1   severe_toxic    42.34%  63.09%  50.67%   98.85%      0.93%      99.19%   \n",
       "5  identity_hate    41.20%  62.75%  49.74%   98.78%      0.96%      99.13%   \n",
       "3         threat    50.00%  42.00%  45.65%   99.69%      0.31%      99.87%   \n",
       "\n",
       "     TP   FP   FN     TN  \n",
       "2   668  168  179  14943  \n",
       "0  1104  215  425  14214  \n",
       "4   595  271  205  14887  \n",
       "1    94  128   55  15681  \n",
       "5    96  137   57  15668  \n",
       "3    21   21   29  15887  "
      ]
     },
     "metadata": {},
     "output_type": "display_data"
    }
   ],
   "source": [
    "# Save the trained Attention-based BiLSTM model\n",
    "torch.save(attn_lstm_model.state_dict(), '../models/attn_bilstm_model.pt')\n",
    "\n",
    "# Find optimal thresholds on validation data\n",
    "attn_optimal_thresholds = find_optimal_thresholds(attn_lstm_model, val_loader, device)\n",
    "\n",
    "# Apply these thresholds on the test set\n",
    "attn_preds, attn_actual = predict_with_thresholds(attn_lstm_model, test_loader, attn_optimal_thresholds, device)\n",
    "\n",
    "# Evaluate using the test set with validation-determined thresholds\n",
    "print(\"\\n============ Attention BiLSTM Model Evaluation ============\")\n",
    "attn_results = model_performance_metrics(attn_preds, attn_actual, y.columns)\n",
    "\n",
    "# Detailed evaluation\n",
    "attn_df_evaluation = detailed_evaluation_table(attn_preds, attn_actual, y.columns)\n",
    "\n",
    "# To sort by F1 score:\n",
    "attn_df_sorted = attn_df_evaluation.sort_values('F1', ascending=False)\n",
    "display(attn_df_sorted)"
   ]
  },
  {
   "cell_type": "code",
   "execution_count": 136,
   "metadata": {},
   "outputs": [
    {
     "data": {
      "image/png": "[encoded data removed]",
      "text/plain": [
       "<Figure size 1200x500 with 2 Axes>"
      ]
     },
     "metadata": {},
     "output_type": "display_data"
    }
   ],
   "source": [
    "# Plot training history\n",
    "plot_training_history(\n",
    "    attn_train_losses, attn_train_accs, attn_val_losses, attn_val_accs, \"Attention BiLSTM Model\"\n",
    ")"
   ]
  },
  {
   "cell_type": "markdown",
   "metadata": {},
   "source": [
    "## 8. Compare All RNN Models with Previous Models"
   ]
  },
  {
   "cell_type": "code",
   "execution_count": 137,
   "metadata": {},
   "outputs": [
    {
     "name": "stdout",
     "output_type": "stream",
     "text": [
      "Previous model results not found. Creating new results dataframe.\n"
     ]
    }
   ],
   "source": [
    "# Try to load previous results\n",
    "try:\n",
    "    # Load the previous results dataframe\n",
    "    results_df = pd.read_pickle(\"../results/vectorizer_model_results.pkl\")\n",
    "    print(\"Loaded previous model results.\")\n",
    "except FileNotFoundError:\n",
    "    print(\"Previous model results not found. Creating new results dataframe.\")\n",
    "    results_df = pd.DataFrame()"
   ]
  },
  {
   "cell_type": "code",
   "execution_count": 138,
   "metadata": {},
   "outputs": [
    {
     "name": "stdout",
     "output_type": "stream",
     "text": [
      "Combined model results saved.\n"
     ]
    }
   ],
   "source": [
    "# Add RNN model results to the dataframe\n",
    "rnn_results = [\n",
    "    {**lstm_results, 'model_name': 'BiLSTM'},\n",
    "    {**gru_results, 'model_name': 'BiGRU'},\n",
    "    {**attn_results, 'model_name': 'Attention BiLSTM'}\n",
    "]\n",
    "\n",
    "# Combine with existing results or create new dataframe\n",
    "if not results_df.empty:\n",
    "    rnn_df = pd.DataFrame(rnn_results)\n",
    "    combined_df = pd.concat([results_df, rnn_df], ignore_index=True)\n",
    "else:\n",
    "    combined_df = pd.DataFrame(rnn_results)\n",
    "\n",
    "# Save the combined results\n",
    "combined_df.to_pickle(\"../results/all_model_results.pkl\")\n",
    "print(\"Combined model results saved.\")"
   ]
  },
  {
   "cell_type": "code",
   "execution_count": 139,
   "metadata": {},
   "outputs": [
    {
     "name": "stdout",
     "output_type": "stream",
     "text": [
      "\n",
      "\n",
      "================ COMBINED RESULTS FOR ALL MODELS ================\n",
      "         model_name  accuracy  macro_f1  micro_f1\n",
      "1             BiGRU  0.914651  0.626691  0.733352\n",
      "2  Attention BiLSTM  0.915591  0.624009  0.731763\n",
      "0            BiLSTM  0.904875  0.553349  0.659659\n"
     ]
    }
   ],
   "source": [
    "# Display all results, sorted by macro F1 score\n",
    "print(\"\\n\\n================ COMBINED RESULTS FOR ALL MODELS ================\")\n",
    "print(combined_df[['model_name', 'accuracy', 'macro_f1', 'micro_f1']].sort_values('macro_f1', ascending=False))"
   ]
  },
  {
   "cell_type": "code",
   "execution_count": 140,
   "metadata": {},
   "outputs": [
    {
     "data": {
      "image/png": "[encoded data removed]",
      "text/plain": [
       "<Figure size 1600x800 with 1 Axes>"
      ]
     },
     "metadata": {},
     "output_type": "display_data"
    }
   ],
   "source": [
    "# Visualize results\n",
    "plt.figure(figsize=(16, 8))\n",
    "sns.barplot(x='model_name', y='macro_f1', data=combined_df.sort_values('macro_f1', ascending=False))\n",
    "plt.title('Models by Macro F1 Score')\n",
    "plt.xlabel('Model')\n",
    "plt.ylabel('Macro F1 Score')\n",
    "plt.xticks(rotation=45, ha='right')\n",
    "plt.grid(axis='y', linestyle='--', alpha=0.7)\n",
    "plt.tight_layout()\n",
    "plt.savefig(\"../results/all_models_comparison.png\")\n",
    "plt.show()"
   ]
  },
  {
   "cell_type": "code",
   "execution_count": 141,
   "metadata": {},
   "outputs": [
    {
     "data": {
      "image/png": "[encoded data removed]",
      "text/plain": [
       "<Figure size 1400x1000 with 2 Axes>"
      ]
     },
     "metadata": {},
     "output_type": "display_data"
    }
   ],
   "source": [
    "# Create a heatmap to compare F1 scores across toxicity categories\n",
    "category_cols = [col for col in combined_df.columns if col.startswith('f1_')]\n",
    "heatmap_df = combined_df[['model_name'] + category_cols].copy()\n",
    "heatmap_df.columns = ['model_name'] + [col.split('_', 1)[1] for col in category_cols]\n",
    "heatmap_df = heatmap_df.set_index('model_name')\n",
    "\n",
    "plt.figure(figsize=(14, 10))\n",
    "sns.heatmap(heatmap_df, annot=True, cmap=\"YlGnBu\", fmt=\".3f\", linewidths=.5)\n",
    "plt.title('F1 Scores by Toxicity Category and Model')\n",
    "plt.tight_layout()\n",
    "plt.savefig(\"../results/toxicity_category_heatmap.png\")\n",
    "plt.show()"
   ]
  },
  {
   "cell_type": "markdown",
   "metadata": {},
   "source": [
    "## 9. Model Deployment for Inference"
   ]
  },
  {
   "cell_type": "code",
   "execution_count": 153,
   "metadata": {},
   "outputs": [],
   "source": [
    "class ToxicCommentPredictor:\n",
    "    def __init__(self, model_path, vocab, device='cpu', model_type=None):\n",
    "        self.device = torch.device(device)\n",
    "        self.vocab = vocab\n",
    "        \n",
    "        # Determine model type from path or explicit parameter\n",
    "        if model_type is not None:\n",
    "            model_type = model_type.lower()\n",
    "        elif 'bilstm' in model_path.lower():\n",
    "            model_type = 'lstm'\n",
    "        elif 'gru' in model_path.lower():\n",
    "            model_type = 'gru'\n",
    "        elif 'attn' in model_path.lower():\n",
    "            model_type = 'attn'\n",
    "        else:\n",
    "            # Default to LSTM if not specified\n",
    "            model_type = 'lstm'\n",
    "            print(f\"Warning: Could not determine model type from path, defaulting to {model_type}\")\n",
    "        \n",
    "        # Initialize the appropriate model architecture\n",
    "        if model_type == 'lstm':\n",
    "            self.model = LSTMClassifier(\n",
    "                vocab_size=len(vocab),\n",
    "                embedding_dim=EMBEDDING_DIM,\n",
    "                hidden_dim=HIDDEN_DIM,\n",
    "                output_dim=OUTPUT_DIM,\n",
    "                n_layers=N_LAYERS,\n",
    "                bidirectional=BIDIRECTIONAL,\n",
    "                dropout=0.0,  # No dropout during inference\n",
    "                pad_idx=PAD_IDX\n",
    "            )\n",
    "        elif model_type == 'gru':\n",
    "            self.model = GRUClassifier(\n",
    "                vocab_size=len(vocab),\n",
    "                embedding_dim=EMBEDDING_DIM,\n",
    "                hidden_dim=HIDDEN_DIM,\n",
    "                output_dim=OUTPUT_DIM,\n",
    "                n_layers=N_LAYERS,\n",
    "                bidirectional=BIDIRECTIONAL,\n",
    "                dropout=0.0,  # No dropout during inference\n",
    "                pad_idx=PAD_IDX\n",
    "            )\n",
    "        elif model_type == 'attn':\n",
    "            self.model = AttentionBiLSTM(\n",
    "                vocab_size=len(vocab),\n",
    "                embedding_dim=EMBEDDING_DIM,\n",
    "                hidden_dim=HIDDEN_DIM,\n",
    "                output_dim=OUTPUT_DIM,\n",
    "                n_layers=N_LAYERS,\n",
    "                dropout=0.0,  # No dropout during inference\n",
    "                pad_idx=PAD_IDX\n",
    "            )\n",
    "        else:\n",
    "            raise ValueError(f\"Unknown model type: {model_type}\")\n",
    "            \n",
    "        self.model.load_state_dict(torch.load(model_path, map_location=self.device))\n",
    "        self.model.to(self.device)\n",
    "        self.model.eval()\n",
    "        self.label_names = ['toxic', 'severe_toxic', 'obscene', 'threat', 'insult', 'identity_hate']\n",
    "    \n",
    "    def predict(self, text):\n",
    "        \"\"\"\n",
    "        Predict toxicity probabilities for a single text input\n",
    "        \n",
    "        Args:\n",
    "            text (str): The input text to classify\n",
    "            \n",
    "        Returns:\n",
    "            dict: Dictionary with prediction results including probabilities and binary decisions\n",
    "        \"\"\"\n",
    "        # Preprocess input text\n",
    "        numericalized_text = self.vocab.numericalize(text)\n",
    "        input_tensor = torch.LongTensor(numericalized_text).unsqueeze(0).to(self.device)\n",
    "        \n",
    "        # Get model prediction\n",
    "        self.model.eval()\n",
    "        with torch.no_grad():\n",
    "            output = self.model(input_tensor)\n",
    "        \n",
    "        # Convert to numpy for easier handling\n",
    "        probs = output.squeeze().cpu().numpy()\n",
    "        \n",
    "        # Create dictionary of probabilities by label\n",
    "        probabilities = {label: float(prob) for label, prob in zip(self.label_names, probs)}\n",
    "        \n",
    "        # Determine if the text is toxic (if any toxicity type is above 0.5)\n",
    "        is_toxic = any(prob > 0.5 for prob in probs)\n",
    "        \n",
    "        return {\n",
    "            'probabilities': probabilities,\n",
    "            'is_toxic': is_toxic,\n",
    "            'raw_predictions': probs\n",
    "        }\n",
    "    "
   ]
  },
  {
   "cell_type": "code",
   "execution_count": 154,
   "metadata": {},
   "outputs": [],
   "source": [
    "# Save the vocabulary\n",
    "with open('../models/rnn_vocab.pkl', 'wb') as f:\n",
    "    pickle.dump(vocab, f)\n",
    "\n",
    "# Create a predictor instance with the correct model type\n",
    "# Change from 'lstm' to 'attn' since the saved model appears to be an Attention BiLSTM\n",
    "predictor = ToxicCommentPredictor('../models/best_rnn_model.pt', vocab, device=device, model_type='attn')"
   ]
  },
  {
   "cell_type": "code",
   "execution_count": 156,
   "metadata": {},
   "outputs": [
    {
     "name": "stdout",
     "output_type": "stream",
     "text": [
      "\n",
      "Input: This is a positive comment. I really appreciate your help.\n",
      "Is toxic: False\n",
      "Toxicity probabilities:\n",
      "  toxic: 0.0497\n",
      "  severe_toxic: 0.0086\n",
      "  obscene: 0.0235\n",
      "  threat: 0.0085\n",
      "  insult: 0.0215\n",
      "  identity_hate: 0.0406\n",
      "\n",
      "Input: You are an idiot and should not be allowed to post here.\n",
      "Is toxic: True\n",
      "Toxicity probabilities:\n",
      "  toxic: 0.7025\n",
      "  severe_toxic: 0.2291\n",
      "  obscene: 0.5231\n",
      "  threat: 0.0590\n",
      "  insult: 0.5079\n",
      "  identity_hate: 0.2635\n",
      "\n",
      "Input: This is neutral content that has no emotional charge.\n",
      "Is toxic: False\n",
      "Toxicity probabilities:\n",
      "  toxic: 0.0596\n",
      "  severe_toxic: 0.0115\n",
      "  obscene: 0.0299\n",
      "  threat: 0.0093\n",
      "  insult: 0.0283\n",
      "  identity_hate: 0.0528\n",
      "\n",
      "Input: You are a fucking disgrace.\n",
      "Is toxic: True\n",
      "Toxicity probabilities:\n",
      "  toxic: 0.9354\n",
      "  severe_toxic: 0.6077\n",
      "  obscene: 0.8962\n",
      "  threat: 0.2234\n",
      "  insult: 0.7943\n",
      "  identity_hate: 0.4179\n"
     ]
    }
   ],
   "source": [
    "# Test the predictor with some example comments\n",
    "example_texts = [\n",
    "    \"This is a positive comment. I really appreciate your help.\",\n",
    "    \"You are an idiot and should not be allowed to post here.\",\n",
    "    \"This is neutral content that has no emotional charge.\",\n",
    "    \"You are a fucking disgrace.\"\n",
    "]\n",
    "\n",
    "for text in example_texts:\n",
    "    print(f\"\\nInput: {text}\")\n",
    "    result = predictor.predict(text)\n",
    "    print(f\"Is toxic: {result['is_toxic']}\")\n",
    "    print(\"Toxicity probabilities:\")\n",
    "    for label, prob in result['probabilities'].items():\n",
    "        print(f\"  {label}: {prob:.4f}\")"
   ]
  },
  {
   "cell_type": "markdown",
   "metadata": {},
   "source": [
    "## 10. Save All Model Architecture Info and Results"
   ]
  },
  {
   "cell_type": "code",
   "execution_count": 144,
   "metadata": {},
   "outputs": [],
   "source": [
    "# Create a dictionary with model architectures and hyperparameters\n",
    "model_info = {\n",
    "    'BiLSTM': {\n",
    "        'type': 'LSTM',\n",
    "        'embedding_dim': EMBEDDING_DIM,\n",
    "        'hidden_dim': HIDDEN_DIM,\n",
    "        'n_layers': N_LAYERS,\n",
    "        'bidirectional': BIDIRECTIONAL,\n",
    "        'dropout': DROPOUT,\n",
    "        'vocab_size': vocab_size,\n",
    "        'learning_rate': LEARNING_RATE,\n",
    "        'epochs': N_EPOCHS\n",
    "    },\n",
    "    'BiGRU': {\n",
    "        'type': 'GRU',\n",
    "        'embedding_dim': EMBEDDING_DIM,\n",
    "        'hidden_dim': HIDDEN_DIM,\n",
    "        'n_layers': N_LAYERS,\n",
    "        'bidirectional': BIDIRECTIONAL,\n",
    "        'dropout': DROPOUT,\n",
    "        'vocab_size': vocab_size,\n",
    "        'learning_rate': LEARNING_RATE,\n",
    "        'epochs': N_EPOCHS\n",
    "    },\n",
    "    'Attention BiLSTM': {\n",
    "        'type': 'Attention BiLSTM',\n",
    "        'embedding_dim': EMBEDDING_DIM,\n",
    "        'hidden_dim': HIDDEN_DIM,\n",
    "        'n_layers': N_LAYERS,\n",
    "        'bidirectional': True,  # Always bidirectional for this model\n",
    "        'dropout': DROPOUT,\n",
    "        'vocab_size': vocab_size,\n",
    "        'learning_rate': LEARNING_RATE,\n",
    "        'epochs': N_EPOCHS\n",
    "    }\n",
    "}\n",
    "\n",
    "# Save the model information\n",
    "with open('../models/rnn_model_info.pkl', 'wb') as f:\n",
    "    pickle.dump(model_info, f)"
   ]
  },
  {
   "cell_type": "code",
   "execution_count": 157,
   "metadata": {},
   "outputs": [
    {
     "name": "stdout",
     "output_type": "stream",
     "text": [
      "Best model: BiGRU\n"
     ]
    }
   ],
   "source": [
    "# Create a summary dictionary for easy comparison\n",
    "summary = {\n",
    "    'model_comparison': combined_df[['model_name', 'accuracy', 'macro_f1', 'micro_f1']].sort_values('macro_f1', ascending=False).to_dict('records'),\n",
    "    'best_model': combined_df.loc[combined_df['macro_f1'].idxmax()]['model_name'],\n",
    "    'model_info': model_info\n",
    "}\n",
    "\n",
    "# Save the summary\n",
    "with open('../results/rnn_models_summary.pkl', 'wb') as f:\n",
    "    pickle.dump(summary, f)\n",
    "\n",
    "print(f\"Best model: {summary['best_model']}\")"
   ]
  },
  {
   "cell_type": "markdown",
   "metadata": {},
   "source": [
    "## 11. Conclusion\n",
    "\n",
    "In this notebook, we have:\n",
    "\n",
    "1. Implemented three RNN architectures for toxic comment classification:\n",
    "   - Bidirectional LSTM\n",
    "   - Bidirectional GRU\n",
    "   - Attention-based Bidirectional LSTM\n",
    "\n",
    "2. Trained and evaluated each model on the toxic comment dataset\n",
    "\n",
    "3. Compared the RNN models with previously trained traditional ML models\n",
    "\n",
    "4. Created a simple inference system for making predictions on new text\n",
    "\n",
    "5. Saved the models, their architectures, and evaluation results for future use\n",
    "\n",
    "The RNN models, especially those with attention mechanisms, can capture sequential information in the text that traditional bag-of-words models like TF-IDF might miss, potentially improving the detection of complex toxic patterns."
   ]
  }
 ],
 "metadata": {
  "kernelspec": {
   "display_name": "Python 3",
   "language": "python",
   "name": "python3"
  },
  "language_info": {
   "codemirror_mode": {
    "name": "ipython",
    "version": 3
   },
   "file_extension": ".py",
   "mimetype": "text/x-python",
   "name": "python",
   "nbconvert_exporter": "python",
   "pygments_lexer": "ipython3",
   "version": "3.10.12"
  }
 },
 "nbformat": 4,
 "nbformat_minor": 2
}
