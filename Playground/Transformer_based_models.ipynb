{
 "cells": [
  {
   "cell_type": "markdown",
   "metadata": {},
   "source": [
    "# Transformer Models for Toxic Comment Classification\n",
    "\n",
    "This notebook implements and evaluates various transformer architectures (BERT, RoBERTa, DistilBERT) for the toxic comment classification task."
   ]
  },
  {
   "cell_type": "code",
   "execution_count": 1,
   "metadata": {},
   "outputs": [
    {
     "name": "stderr",
     "output_type": "stream",
     "text": [
      "2025-05-30 17:17:25.422110: E external/local_xla/xla/stream_executor/cuda/cuda_fft.cc:467] Unable to register cuFFT factory: Attempting to register factory for plugin cuFFT when one has already been registered\n",
      "WARNING: All log messages before absl::InitializeLog() is called are written to STDERR\n",
      "E0000 00:00:1748618245.465493  151957 cuda_dnn.cc:8579] Unable to register cuDNN factory: Attempting to register factory for plugin cuDNN when one has already been registered\n",
      "E0000 00:00:1748618245.480248  151957 cuda_blas.cc:1407] Unable to register cuBLAS factory: Attempting to register factory for plugin cuBLAS when one has already been registered\n",
      "W0000 00:00:1748618245.571546  151957 computation_placer.cc:177] computation placer already registered. Please check linkage and avoid linking the same target more than once.\n",
      "W0000 00:00:1748618245.571593  151957 computation_placer.cc:177] computation placer already registered. Please check linkage and avoid linking the same target more than once.\n",
      "W0000 00:00:1748618245.571596  151957 computation_placer.cc:177] computation placer already registered. Please check linkage and avoid linking the same target more than once.\n",
      "W0000 00:00:1748618245.571599  151957 computation_placer.cc:177] computation placer already registered. Please check linkage and avoid linking the same target more than once.\n",
      "2025-05-30 17:17:25.584451: I tensorflow/core/platform/cpu_feature_guard.cc:210] This TensorFlow binary is optimized to use available CPU instructions in performance-critical operations.\n",
      "To enable the following instructions: AVX2 FMA, in other operations, rebuild TensorFlow with the appropriate compiler flags.\n"
     ]
    },
    {
     "name": "stdout",
     "output_type": "stream",
     "text": [
      "Using device: cuda\n"
     ]
    }
   ],
   "source": [
    "import pandas as pd\n",
    "import numpy as np\n",
    "import matplotlib.pyplot as plt\n",
    "import seaborn as sns\n",
    "import time\n",
    "import os\n",
    "import torch\n",
    "import gc\n",
    "import torch.nn as nn\n",
    "from torch.utils.data import Dataset, DataLoader\n",
    "from tqdm.notebook import tqdm\n",
    "from sklearn.metrics import classification_report, f1_score, accuracy_score\n",
    "from sklearn.model_selection import train_test_split\n",
    "from torch.optim import AdamW  \n",
    "import torch.nn.functional as F\n",
    "from skmultilearn.model_selection import iterative_train_test_split\n",
    "import numpy as np\n",
    "\n",
    "# Transformers libraries\n",
    "from transformers import (\n",
    "    AutoTokenizer, \n",
    "    AutoModel,\n",
    "    AutoModelForSequenceClassification, \n",
    "    get_linear_schedule_with_warmup,\n",
    "    BertTokenizer,\n",
    "    BertForSequenceClassification,\n",
    "    RobertaTokenizer,\n",
    "    RobertaForSequenceClassification,\n",
    "    DistilBertTokenizer,\n",
    "    DistilBertForSequenceClassification\n",
    ")\n",
    "\n",
    "# Set random seeds\n",
    "import random\n",
    "random.seed(42)\n",
    "np.random.seed(42)\n",
    "torch.manual_seed(42)\n",
    "torch.cuda.manual_seed_all(42)\n",
    "\n",
    "# Check for GPU\n",
    "device = torch.device(\"cuda\" if torch.cuda.is_available() else \"cpu\")\n",
    "print(f\"Using device: {device}\")"
   ]
  },
  {
   "cell_type": "code",
   "execution_count": 2,
   "metadata": {},
   "outputs": [],
   "source": [
    "# ! pip install scikit-multilearn\n",
    "# "
   ]
  },
  {
   "cell_type": "markdown",
   "metadata": {},
   "source": [
    "## 1. Load and Prepare Data"
   ]
  },
  {
   "cell_type": "code",
   "execution_count": 3,
   "metadata": {},
   "outputs": [
    {
     "name": "stdout",
     "output_type": "stream",
     "text": [
      "Training data shape: (159571, 12)\n"
     ]
    },
    {
     "data": {
      "text/html": [
       "<div>\n",
       "<style scoped>\n",
       "    .dataframe tbody tr th:only-of-type {\n",
       "        vertical-align: middle;\n",
       "    }\n",
       "\n",
       "    .dataframe tbody tr th {\n",
       "        vertical-align: top;\n",
       "    }\n",
       "\n",
       "    .dataframe thead th {\n",
       "        text-align: right;\n",
       "    }\n",
       "</style>\n",
       "<table border=\"1\" class=\"dataframe\">\n",
       "  <thead>\n",
       "    <tr style=\"text-align: right;\">\n",
       "      <th></th>\n",
       "      <th>id</th>\n",
       "      <th>comment_text</th>\n",
       "      <th>toxic</th>\n",
       "      <th>severe_toxic</th>\n",
       "      <th>obscene</th>\n",
       "      <th>threat</th>\n",
       "      <th>insult</th>\n",
       "      <th>identity_hate</th>\n",
       "      <th>processed_text</th>\n",
       "      <th>original_length</th>\n",
       "      <th>processed_length</th>\n",
       "      <th>length_reduction</th>\n",
       "    </tr>\n",
       "  </thead>\n",
       "  <tbody>\n",
       "    <tr>\n",
       "      <th>0</th>\n",
       "      <td>0000997932d777bf</td>\n",
       "      <td>Explanation\\nWhy the edits made under my usern...</td>\n",
       "      <td>0</td>\n",
       "      <td>0</td>\n",
       "      <td>0</td>\n",
       "      <td>0</td>\n",
       "      <td>0</td>\n",
       "      <td>0</td>\n",
       "      <td>explanation edits made my username hardcore me...</td>\n",
       "      <td>264</td>\n",
       "      <td>202</td>\n",
       "      <td>23.484848</td>\n",
       "    </tr>\n",
       "    <tr>\n",
       "      <th>1</th>\n",
       "      <td>000103f0d9cfb60f</td>\n",
       "      <td>D'aww! He matches this background colour I'm s...</td>\n",
       "      <td>0</td>\n",
       "      <td>0</td>\n",
       "      <td>0</td>\n",
       "      <td>0</td>\n",
       "      <td>0</td>\n",
       "      <td>0</td>\n",
       "      <td>daww ! he match background colour im seemingly...</td>\n",
       "      <td>112</td>\n",
       "      <td>86</td>\n",
       "      <td>23.214286</td>\n",
       "    </tr>\n",
       "    <tr>\n",
       "      <th>2</th>\n",
       "      <td>000113f07ec002fd</td>\n",
       "      <td>Hey man, I'm really not trying to edit war. It...</td>\n",
       "      <td>0</td>\n",
       "      <td>0</td>\n",
       "      <td>0</td>\n",
       "      <td>0</td>\n",
       "      <td>0</td>\n",
       "      <td>0</td>\n",
       "      <td>hey man , im really not trying edit war . guy ...</td>\n",
       "      <td>233</td>\n",
       "      <td>165</td>\n",
       "      <td>29.184549</td>\n",
       "    </tr>\n",
       "    <tr>\n",
       "      <th>3</th>\n",
       "      <td>0001b41b1c6bb37e</td>\n",
       "      <td>\"\\nMore\\nI can't make any real suggestions on ...</td>\n",
       "      <td>0</td>\n",
       "      <td>0</td>\n",
       "      <td>0</td>\n",
       "      <td>0</td>\n",
       "      <td>0</td>\n",
       "      <td>0</td>\n",
       "      <td>i cant make real suggestion improvement i wond...</td>\n",
       "      <td>622</td>\n",
       "      <td>406</td>\n",
       "      <td>34.726688</td>\n",
       "    </tr>\n",
       "    <tr>\n",
       "      <th>4</th>\n",
       "      <td>0001d958c54c6e35</td>\n",
       "      <td>You, sir, are my hero. Any chance you remember...</td>\n",
       "      <td>0</td>\n",
       "      <td>0</td>\n",
       "      <td>0</td>\n",
       "      <td>0</td>\n",
       "      <td>0</td>\n",
       "      <td>0</td>\n",
       "      <td>you , sir , my hero . chance you remember page...</td>\n",
       "      <td>67</td>\n",
       "      <td>54</td>\n",
       "      <td>19.402985</td>\n",
       "    </tr>\n",
       "  </tbody>\n",
       "</table>\n",
       "</div>"
      ],
      "text/plain": [
       "                 id                                       comment_text  toxic  \\\n",
       "0  0000997932d777bf  Explanation\\nWhy the edits made under my usern...      0   \n",
       "1  000103f0d9cfb60f  D'aww! He matches this background colour I'm s...      0   \n",
       "2  000113f07ec002fd  Hey man, I'm really not trying to edit war. It...      0   \n",
       "3  0001b41b1c6bb37e  \"\\nMore\\nI can't make any real suggestions on ...      0   \n",
       "4  0001d958c54c6e35  You, sir, are my hero. Any chance you remember...      0   \n",
       "\n",
       "   severe_toxic  obscene  threat  insult  identity_hate  \\\n",
       "0             0        0       0       0              0   \n",
       "1             0        0       0       0              0   \n",
       "2             0        0       0       0              0   \n",
       "3             0        0       0       0              0   \n",
       "4             0        0       0       0              0   \n",
       "\n",
       "                                      processed_text  original_length  \\\n",
       "0  explanation edits made my username hardcore me...              264   \n",
       "1  daww ! he match background colour im seemingly...              112   \n",
       "2  hey man , im really not trying edit war . guy ...              233   \n",
       "3  i cant make real suggestion improvement i wond...              622   \n",
       "4  you , sir , my hero . chance you remember page...               67   \n",
       "\n",
       "   processed_length  length_reduction  \n",
       "0               202         23.484848  \n",
       "1                86         23.214286  \n",
       "2               165         29.184549  \n",
       "3               406         34.726688  \n",
       "4                54         19.402985  "
      ]
     },
     "execution_count": 3,
     "metadata": {},
     "output_type": "execute_result"
    }
   ],
   "source": [
    "# Load preprocessed data\n",
    "train_data = pd.read_csv('../Dataset/train_preprocessed.csv')\n",
    "\n",
    "# Check the data\n",
    "print(f\"Training data shape: {train_data.shape}\")\n",
    "train_data.head()"
   ]
  },
  {
   "cell_type": "code",
   "execution_count": 4,
   "metadata": {},
   "outputs": [
    {
     "name": "stdout",
     "output_type": "stream",
     "text": [
      "\n",
      "Training set distribution:\n",
      "toxic: 0.0958 (12251 samples)\n",
      "severe_toxic: 0.0100 (1278 samples)\n",
      "obscene: 0.0530 (6768 samples)\n",
      "threat: 0.0030 (380 samples)\n",
      "insult: 0.0494 (6309 samples)\n",
      "identity_hate: 0.0088 (1122 samples)\n",
      "\n",
      "Validation set distribution:\n",
      "toxic: 0.0958 (1514 samples)\n",
      "severe_toxic: 0.0100 (158 samples)\n",
      "obscene: 0.0529 (836 samples)\n",
      "threat: 0.0032 (50 samples)\n",
      "insult: 0.0494 (780 samples)\n",
      "identity_hate: 0.0088 (139 samples)\n",
      "\n",
      "Test set distribution:\n",
      "toxic: 0.0958 (1529 samples)\n",
      "severe_toxic: 0.0100 (159 samples)\n",
      "obscene: 0.0530 (845 samples)\n",
      "threat: 0.0030 (48 samples)\n",
      "insult: 0.0494 (788 samples)\n",
      "identity_hate: 0.0090 (144 samples)\n"
     ]
    }
   ],
   "source": [
    "# Define the features and target labels\n",
    "X = train_data['comment_text']  # Use the original text\n",
    "y = train_data[['toxic', 'severe_toxic', 'obscene', 'threat', 'insult', 'identity_hate']]\n",
    "\n",
    "# Handle missing values\n",
    "X = X.fillna(\"\")  # Replace NaN values with empty strings\n",
    "y = y.fillna(0)   # Replace any missing target values with 0\n",
    "\n",
    "\n",
    "\n",
    "# Convert DataFrame to numpy array for compatibility with iterative_train_test_split\n",
    "X_array = np.array(X).reshape(len(X), 1)\n",
    "y_array = y.values\n",
    "\n",
    "# First split: 90% train+val, 10% test\n",
    "X_temp_array, y_temp_array, X_test_array, y_test_array = iterative_train_test_split(\n",
    "    X_array, y_array, test_size=0.1\n",
    ")\n",
    "\n",
    "# Second split: Split the 90% into training and validation\n",
    "X_train_array, y_train_array, X_val_array, y_val_array = iterative_train_test_split(\n",
    "    X_temp_array, y_temp_array, test_size=0.11\n",
    ")\n",
    "\n",
    "# Convert back to pandas format\n",
    "X_train = pd.Series(X_train_array.flatten())\n",
    "X_val = pd.Series(X_val_array.flatten())\n",
    "X_test = pd.Series(X_test_array.flatten())\n",
    "\n",
    "y_train = pd.DataFrame(y_train_array, columns=y.columns)\n",
    "y_val = pd.DataFrame(y_val_array, columns=y.columns)\n",
    "y_test = pd.DataFrame(y_test_array, columns=y.columns)\n",
    "\n",
    "# Verify the distributions\n",
    "print(\"\\nTraining set distribution:\")\n",
    "for col in y.columns:\n",
    "    print(f\"{col}: {y_train[col].mean():.4f} ({y_train[col].sum()} samples)\")\n",
    "\n",
    "print(\"\\nValidation set distribution:\")\n",
    "for col in y.columns:\n",
    "    print(f\"{col}: {y_val[col].mean():.4f} ({y_val[col].sum()} samples)\")\n",
    "\n",
    "print(\"\\nTest set distribution:\")\n",
    "for col in y.columns:\n",
    "    print(f\"{col}: {y_test[col].mean():.4f} ({y_test[col].sum()} samples)\")"
   ]
  },
  {
   "cell_type": "code",
   "execution_count": 5,
   "metadata": {},
   "outputs": [],
   "source": [
    "# # For transformers, create a stratified subsample\n",
    "# SAMPLE_SIZE = 10000\n",
    "\n",
    "# # Convert to numpy arrays for iterative_train_test_split\n",
    "# X_train_arr = np.array(X_train).reshape(-1, 1)\n",
    "# y_train_arr = y_train.values\n",
    "\n",
    "# # Calculate split ratio to get approximately SAMPLE_SIZE examples\n",
    "# sample_ratio = min(SAMPLE_SIZE / len(X_train), 0.99)\n",
    "\n",
    "# # Get stratified sample\n",
    "# X_train_sample_arr, y_train_sample_arr, _, _ = iterative_train_test_split(\n",
    "#     X_train_arr, y_train_arr, test_size=(1-sample_ratio)\n",
    "# )\n",
    "\n",
    "# # Convert back to pandas\n",
    "# X_train = pd.Series(X_train_sample_arr.flatten())\n",
    "# y_train = pd.DataFrame(y_train_sample_arr, columns=y_train.columns)\n",
    "\n",
    "# # Do the same for validation set\n",
    "# X_val_arr = np.array(X_val).reshape(-1, 1)\n",
    "# y_val_arr = y_val.values\n",
    "\n",
    "# val_sample_ratio = min((SAMPLE_SIZE // 5) / len(X_val), 0.99)\n",
    "\n",
    "# X_val_sample_arr, y_val_sample_arr, _, _ = iterative_train_test_split(\n",
    "#     X_val_arr, y_val_arr, test_size=(1-val_sample_ratio)\n",
    "# )\n",
    "\n",
    "# X_val = pd.Series(X_val_sample_arr.flatten())\n",
    "# y_val = pd.DataFrame(y_val_sample_arr, columns=y_val.columns)\n",
    "\n",
    "# # Print the resulting class distributions to verify\n",
    "# print(f\"Sampled train size: {len(X_train)}\")\n",
    "# print(f\"Sampled validation size: {len(X_val)}\")\n",
    "\n",
    "# print(\"\\nSampled training set distribution:\")\n",
    "# for col in y_train.columns:\n",
    "#     print(f\"{col}: {y_train[col].mean():.4f} ({y_train[col].sum()} samples)\")\n",
    "\n",
    "# print(\"\\nSampled validation set distribution:\")\n",
    "# for col in y_val.columns:\n",
    "#     print(f\"{col}: {y_val[col].mean():.4f} ({y_val[col].sum()} samples)\")"
   ]
  },
  {
   "cell_type": "code",
   "execution_count": 6,
   "metadata": {},
   "outputs": [
    {
     "name": "stdout",
     "output_type": "stream",
     "text": [
      "Class distribution BEFORE oversampling:\n",
      "toxic: 0.0958 (12251 samples)\n",
      "severe_toxic: 0.0100 (1278 samples)\n",
      "obscene: 0.0530 (6768 samples)\n",
      "threat: 0.0030 (380 samples)\n",
      "insult: 0.0494 (6309 samples)\n",
      "identity_hate: 0.0088 (1122 samples)\n",
      "\n",
      "Class distribution AFTER oversampling:\n",
      "toxic: 0.1365 (18309 samples)\n",
      "severe_toxic: 0.0347 (4656 samples)\n",
      "obscene: 0.0874 (11728 samples)\n",
      "threat: 0.0165 (2208 samples)\n",
      "insult: 0.0841 (11277 samples)\n",
      "identity_hate: 0.0311 (4172 samples)\n"
     ]
    }
   ],
   "source": [
    "def oversample_minority_classes(X_train, y_train):\n",
    "    \"\"\"Oversample minority classes to improve balance\"\"\"\n",
    "    \n",
    "    # Original data\n",
    "    original_X = X_train.copy()\n",
    "    original_y = y_train.copy()\n",
    "    augmented_X = []\n",
    "    augmented_y = []\n",
    "    \n",
    "    # Identify and oversample each rare class with increased multipliers\n",
    "    multipliers = {\n",
    "        'threat': 5,\n",
    "        'identity_hate': 3,\n",
    "        'severe_toxic': 3\n",
    "    }\n",
    "    \n",
    "    for label, multiplier in multipliers.items():\n",
    "        pos_indices = y_train[y_train[label] == 1].index\n",
    "        pos_X = X_train.loc[pos_indices]\n",
    "        pos_y = y_train.loc[pos_indices]\n",
    "        \n",
    "        for _ in range(multiplier - 1):\n",
    "            augmented_X.append(pos_X)\n",
    "            augmented_y.append(pos_y)\n",
    "    \n",
    "    # Combine with original data\n",
    "    augmented_X = pd.concat([original_X] + augmented_X)\n",
    "    augmented_y = pd.concat([original_y] + augmented_y)\n",
    "    \n",
    "    return augmented_X.reset_index(drop=True), augmented_y.reset_index(drop=True)\n",
    "\n",
    "print(\"Class distribution BEFORE oversampling:\")\n",
    "for col in y_train.columns:\n",
    "    print(f\"{col}: {y_train[col].mean():.4f} ({y_train[col].sum()} samples)\")\n",
    "\n",
    "# Apply augmentation\n",
    "X_train, y_train = oversample_minority_classes(X_train, y_train)\n",
    "\n",
    "# Check distribution after oversampling\n",
    "print(\"\\nClass distribution AFTER oversampling:\")\n",
    "for col in y_train.columns:\n",
    "    print(f\"{col}: {y_train[col].mean():.4f} ({y_train[col].sum()} samples)\")\n"
   ]
  },
  {
   "cell_type": "markdown",
   "metadata": {},
   "source": [
    "## 2. Create Dataset for Transformer Models"
   ]
  },
  {
   "cell_type": "code",
   "execution_count": 7,
   "metadata": {},
   "outputs": [],
   "source": [
    "class ToxicCommentDatasetTransformer(Dataset):\n",
    "    def __init__(self, texts, labels, tokenizer, max_length=128):\n",
    "        self.texts = texts\n",
    "        self.labels = labels\n",
    "        self.tokenizer = tokenizer\n",
    "        self.max_length = max_length\n",
    "        \n",
    "    def __len__(self):\n",
    "        return len(self.texts)\n",
    "    \n",
    "    def __getitem__(self, idx):\n",
    "        text = self.texts.iloc[idx]\n",
    "        labels = torch.FloatTensor(self.labels.iloc[idx].values)\n",
    "        \n",
    "        # Tokenize the text\n",
    "        encoding = self.tokenizer(\n",
    "            text,\n",
    "            max_length=self.max_length,\n",
    "            padding='max_length',\n",
    "            truncation=True,\n",
    "            return_tensors='pt'\n",
    "        )\n",
    "        \n",
    "        # Remove the batch dimension added by the tokenizer\n",
    "        encoding = {k: v.squeeze(0) for k, v in encoding.items()}\n",
    "        \n",
    "        # Add labels\n",
    "        encoding['labels'] = labels\n",
    "        \n",
    "        return encoding"
   ]
  },
  {
   "cell_type": "markdown",
   "metadata": {},
   "source": [
    "## 3. Build Transformer Models"
   ]
  },
  {
   "cell_type": "code",
   "execution_count": 8,
   "metadata": {},
   "outputs": [],
   "source": [
    "class BertForMultiLabelClassification(nn.Module):\n",
    "    def __init__(self, num_labels, model_name=\"bert-base-uncased\", dropout_rate=0.1):\n",
    "        super(BertForMultiLabelClassification, self).__init__()\n",
    "        self.num_labels = num_labels\n",
    "        \n",
    "        # Load pre-trained BERT model\n",
    "        self.bert = AutoModel.from_pretrained(model_name)\n",
    "        \n",
    "        # Classification head\n",
    "        self.dropout = nn.Dropout(dropout_rate)\n",
    "        self.classifier = nn.Linear(self.bert.config.hidden_size, num_labels)\n",
    "        \n",
    "    def forward(self, input_ids, attention_mask, token_type_ids=None, labels=None):\n",
    "        # Check model type to determine if token_type_ids should be used\n",
    "        if 'distilbert' in self.bert.config._name_or_path or 'roberta' in self.bert.config._name_or_path:\n",
    "            outputs = self.bert(\n",
    "                input_ids=input_ids,\n",
    "                attention_mask=attention_mask\n",
    "            )\n",
    "        else:\n",
    "            outputs = self.bert(\n",
    "                input_ids=input_ids,\n",
    "                attention_mask=attention_mask,\n",
    "                token_type_ids=token_type_ids\n",
    "            )\n",
    "        \n",
    "        # Use the [CLS] token representation\n",
    "        pooled_output = outputs.last_hidden_state[:, 0]\n",
    "        pooled_output = self.dropout(pooled_output)\n",
    "        logits = self.classifier(pooled_output)\n",
    "        \n",
    "        # Apply sigmoid activation for multi-label\n",
    "        return torch.sigmoid(logits)"
   ]
  },
  {
   "cell_type": "markdown",
   "metadata": {},
   "source": [
    "## 4. Training and Evaluation Functions"
   ]
  },
  {
   "cell_type": "code",
   "execution_count": 9,
   "metadata": {},
   "outputs": [],
   "source": [
    "# Add the AdaptiveFocalLoss class from your RNN notebook\n",
    "class AdaptiveFocalLoss(nn.Module):\n",
    "    def __init__(self, alpha=None, class_gammas=None):\n",
    "        super().__init__()\n",
    "        self.alpha = alpha\n",
    "        self.class_gammas = class_gammas\n",
    "        self.epsilon = 1e-6\n",
    "        \n",
    "    def forward(self, inputs, targets):\n",
    "        inputs = torch.clamp(inputs, self.epsilon, 1 - self.epsilon)\n",
    "        \n",
    "        # Binary cross entropy\n",
    "        bce_loss = F.binary_cross_entropy(inputs, targets, reduction='none')\n",
    "        \n",
    "        # Different gamma for each class\n",
    "        focal_loss = torch.zeros_like(bce_loss)\n",
    "        class_names = ['toxic', 'severe_toxic', 'obscene', 'threat', 'insult', 'identity_hate']\n",
    "        \n",
    "        for i, col in enumerate(class_names):\n",
    "            gamma = self.class_gammas.get(col, 2.0)  # Default gamma is 2.0\n",
    "            pt = torch.exp(-bce_loss[:, i])\n",
    "            focal_weight = (1 - pt) ** gamma\n",
    "            \n",
    "            # Apply class weights if provided\n",
    "            if self.alpha is not None:\n",
    "                focal_weight = focal_weight * self.alpha[i]\n",
    "                \n",
    "            focal_loss[:, i] = focal_weight * bce_loss[:, i]\n",
    "        \n",
    "        return focal_loss.mean()"
   ]
  },
  {
   "cell_type": "code",
   "execution_count": 10,
   "metadata": {},
   "outputs": [
    {
     "name": "stdout",
     "output_type": "stream",
     "text": [
      "Class distribution: [0.13649681 0.0347113  0.0874343  0.01646103 0.08407202 0.03110299]\n",
      "Class weights: [ 0.36501242  9.5677214   0.54881243 60.62480521  0.56842786 10.40764217]\n"
     ]
    }
   ],
   "source": [
    "# Calculate class weights based on the training set distribution\n",
    "class_dist = np.array([y_train[col].mean() for col in y_train.columns])\n",
    "print(f\"Class distribution: {class_dist}\")\n",
    "class_weights = 1 / (class_dist + 0.01)  # Add small epsilon to avoid division by zero\n",
    "class_weights = class_weights / class_weights.sum() * len(class_weights)  # Normalize weights\n",
    "\n",
    "# Adjust class weights for rare classes\n",
    "class_weights[3] *= 30  # Increase weight for threat\n",
    "class_weights[5] *= 8   # Increase weight for identity_hate\n",
    "class_weights[1] *= 8   # Increase weight for severe_toxic\n",
    "\n",
    "print(f\"Class weights: {class_weights}\")\n",
    "\n",
    "# Define class-specific gamma values for focal loss\n",
    "class_gammas = {\n",
    "    'toxic': 1.0,\n",
    "    'severe_toxic': 1.5, \n",
    "    'obscene': 1.0,\n",
    "    'threat': 1.5,\n",
    "    'insult': 1.0,\n",
    "    'identity_hate': 2.0\n",
    "}\n",
    "\n",
    "# Create the focal loss\n",
    "criterion = AdaptiveFocalLoss(alpha=torch.FloatTensor(class_weights), class_gammas=class_gammas).to(device)\n"
   ]
  },
  {
   "cell_type": "code",
   "execution_count": 11,
   "metadata": {},
   "outputs": [],
   "source": [
    "def train_transformer_epoch(model, data_loader, optimizer, scheduler, device):\n",
    "    model.train()\n",
    "    epoch_loss = 0\n",
    "    \n",
    "    progress_bar = tqdm(data_loader, desc=\"Training\")\n",
    "    \n",
    "    for batch in progress_bar:\n",
    "        optimizer.zero_grad()\n",
    "        \n",
    "        # Move batch to device\n",
    "        input_ids = batch['input_ids'].to(device)\n",
    "        attention_mask = batch['attention_mask'].to(device)\n",
    "        labels = batch['labels'].to(device)\n",
    "        \n",
    "        # Forward pass\n",
    "        if 'token_type_ids' in batch:\n",
    "            token_type_ids = batch['token_type_ids'].to(device)\n",
    "            outputs = model(input_ids=input_ids, attention_mask=attention_mask, token_type_ids=token_type_ids)\n",
    "        else:\n",
    "            outputs = model(input_ids=input_ids, attention_mask=attention_mask)\n",
    "        \n",
    "        # Calculate loss - binary cross entropy for multi-label\n",
    "        loss = criterion(outputs, labels)\n",
    "        \n",
    "        # Backward pass\n",
    "        loss.backward()\n",
    "        \n",
    "        # Gradient clipping to prevent exploding gradients\n",
    "        torch.nn.utils.clip_grad_norm_(model.parameters(), max_norm=1.0)\n",
    "        \n",
    "        # Optimizer and scheduler steps\n",
    "        optimizer.step()\n",
    "        scheduler.step()\n",
    "        \n",
    "        epoch_loss += loss.item()\n",
    "        progress_bar.set_postfix({\"loss\": loss.item()})\n",
    "    \n",
    "    return epoch_loss / len(data_loader)"
   ]
  },
  {
   "cell_type": "code",
   "execution_count": 12,
   "metadata": {},
   "outputs": [],
   "source": [
    "def evaluate_transformer(model, data_loader, device, threshold=0.5):\n",
    "    model.eval()\n",
    "    all_predictions = []\n",
    "    all_labels = []\n",
    "    total_loss = 0\n",
    "    \n",
    "    with torch.no_grad():\n",
    "        for batch in tqdm(data_loader, desc=\"Evaluating\"):\n",
    "            # Move batch to device\n",
    "            input_ids = batch['input_ids'].to(device)\n",
    "            attention_mask = batch['attention_mask'].to(device)\n",
    "            labels = batch['labels'].to(device)\n",
    "            \n",
    "            # Forward pass\n",
    "            if 'token_type_ids' in batch:\n",
    "                token_type_ids = batch['token_type_ids'].to(device)\n",
    "                outputs = model(input_ids=input_ids, attention_mask=attention_mask, token_type_ids=token_type_ids)\n",
    "            else:\n",
    "                outputs = model(input_ids=input_ids, attention_mask=attention_mask)\n",
    "            \n",
    "            # Calculate loss\n",
    "            loss = nn.BCELoss()(outputs, labels)\n",
    "            total_loss += loss.item()\n",
    "            \n",
    "            # Convert outputs to binary predictions\n",
    "            preds = (outputs > threshold).float().cpu().numpy()\n",
    "            true_labels = labels.cpu().numpy()\n",
    "            \n",
    "            all_predictions.append(preds)\n",
    "            all_labels.append(true_labels)\n",
    "    \n",
    "    # Concatenate all batches\n",
    "    all_predictions = np.vstack(all_predictions)\n",
    "    all_labels = np.vstack(all_labels)\n",
    "    \n",
    "    # Calculate metrics\n",
    "    accuracy = accuracy_score(all_labels.flatten(), all_predictions.flatten())\n",
    "    macro_f1 = f1_score(all_labels, all_predictions, average='macro')\n",
    "    micro_f1 = f1_score(all_labels, all_predictions, average='micro')\n",
    "    \n",
    "    # Calculate per-class F1\n",
    "    class_f1 = {}\n",
    "    for i, col in enumerate(['toxic', 'severe_toxic', 'obscene', 'threat', 'insult', 'identity_hate']):\n",
    "        class_f1[col] = f1_score(all_labels[:, i], all_predictions[:, i])\n",
    "    \n",
    "    avg_loss = total_loss / len(data_loader)\n",
    "    \n",
    "    return {\n",
    "        'accuracy': accuracy,\n",
    "        'macro_f1': macro_f1,\n",
    "        'micro_f1': micro_f1,\n",
    "        'class_f1': class_f1,\n",
    "        'loss': avg_loss,\n",
    "        'predictions': all_predictions,\n",
    "        'true_labels': all_labels\n",
    "    }"
   ]
  },
  {
   "cell_type": "code",
   "execution_count": 13,
   "metadata": {},
   "outputs": [],
   "source": [
    "def train_transformer_model(model, train_loader, val_loader, optimizer, scheduler, device, \n",
    "                           num_epochs=3, patience=2, model_save_path='../models/best_transformer.pt'):\n",
    "    best_val_loss = float('inf')\n",
    "    train_losses = []\n",
    "    val_losses = []\n",
    "    counter = 0  # For early stopping\n",
    "    \n",
    "    for epoch in range(num_epochs):\n",
    "        print(f\"Epoch {epoch+1}/{num_epochs}\")\n",
    "        \n",
    "        # Train\n",
    "        start_time = time.time()\n",
    "        train_loss = train_transformer_epoch(model, train_loader, optimizer, scheduler, device)\n",
    "        train_losses.append(train_loss)\n",
    "        \n",
    "        # Validate\n",
    "        val_results = evaluate_transformer(model, val_loader, device)\n",
    "        val_loss = val_results['loss']\n",
    "        val_losses.append(val_loss)\n",
    "        \n",
    "        # Print epoch summary\n",
    "        time_elapsed = time.time() - start_time\n",
    "        print(f\"Train Loss: {train_loss:.4f} | Val Loss: {val_loss:.4f} | \"\n",
    "              f\"Val F1 Macro: {val_results['macro_f1']:.4f} | \"\n",
    "              f\"Time: {time_elapsed//60:.0f}m {time_elapsed%60:.0f}s\")\n",
    "        \n",
    "        # Print class-wise F1 scores\n",
    "        print(\"Class F1 scores:\")\n",
    "        for cls, f1 in val_results['class_f1'].items():\n",
    "            print(f\"  {cls}: {f1:.4f}\")\n",
    "        \n",
    "        # Save the best model\n",
    "        if val_loss < best_val_loss:\n",
    "            best_val_loss = val_loss\n",
    "            torch.save(model.state_dict(), model_save_path)\n",
    "            print(f\"Saved best model with val_loss: {val_loss:.4f}\")\n",
    "            counter = 0  # Reset early stopping counter\n",
    "        else:\n",
    "            counter += 1\n",
    "            print(f\"EarlyStopping counter: {counter} out of {patience}\")\n",
    "            if counter >= patience:\n",
    "                print(\"Early stopping triggered\")\n",
    "                break\n",
    "                \n",
    "    return train_losses, val_losses"
   ]
  },
  {
   "cell_type": "markdown",
   "metadata": {},
   "source": [
    "## 5. BERT Implementation"
   ]
  },
  {
   "cell_type": "code",
   "execution_count": 14,
   "metadata": {},
   "outputs": [],
   "source": [
    "# Initialize BERT tokenizer and model\n",
    "bert_tokenizer = BertTokenizer.from_pretrained('bert-base-uncased')\n",
    "bert_model = BertForMultiLabelClassification(num_labels=6, model_name='bert-base-uncased')\n",
    "bert_model.to(device)\n",
    "\n",
    "# Create datasets with the BERT tokenizer\n",
    "train_dataset = ToxicCommentDatasetTransformer(X_train, y_train, bert_tokenizer)\n",
    "val_dataset = ToxicCommentDatasetTransformer(X_val, y_val, bert_tokenizer)\n",
    "\n",
    "# Create dataloaders\n",
    "BATCH_SIZE = 16  # Smaller batch size for Transformer models due to memory constraints\n",
    "\n",
    "train_loader = DataLoader(\n",
    "    train_dataset,\n",
    "    batch_size=BATCH_SIZE,\n",
    "    shuffle=True,\n",
    "    num_workers=2\n",
    ")\n",
    "\n",
    "val_loader = DataLoader(\n",
    "    val_dataset,\n",
    "    batch_size=BATCH_SIZE,\n",
    "    shuffle=False,\n",
    "    num_workers=2\n",
    ")"
   ]
  },
  {
   "cell_type": "code",
   "execution_count": 15,
   "metadata": {},
   "outputs": [],
   "source": [
    "# Setup optimizer and scheduler\n",
    "optimizer = AdamW(bert_model.parameters(), lr=2e-5)\n",
    "\n",
    "# Calculate total steps for scheduler\n",
    "total_steps = len(train_loader) * 3  # 3 epochs\n",
    "warmup_steps = int(total_steps * 0.1)  # 10% of total steps for warmup\n",
    "\n",
    "scheduler = get_linear_schedule_with_warmup(\n",
    "    optimizer,\n",
    "    num_warmup_steps=warmup_steps,\n",
    "    num_training_steps=total_steps\n",
    ")"
   ]
  },
  {
   "cell_type": "code",
   "execution_count": 16,
   "metadata": {},
   "outputs": [
    {
     "name": "stdout",
     "output_type": "stream",
     "text": [
      "Epoch 1/3\n"
     ]
    },
    {
     "data": {
      "application/vnd.jupyter.widget-view+json": {
       "model_id": "46cf8ce0009647da8c231b69f7db2818",
       "version_major": 2,
       "version_minor": 0
      },
      "text/plain": [
       "Training:   0%|          | 0/8384 [00:00<?, ?it/s]"
      ]
     },
     "metadata": {},
     "output_type": "display_data"
    },
    {
     "data": {
      "application/vnd.jupyter.widget-view+json": {
       "model_id": "b4f7e22e614644889f26d5bcfd31d4d1",
       "version_major": 2,
       "version_minor": 0
      },
      "text/plain": [
       "Evaluating:   0%|          | 0/988 [00:00<?, ?it/s]"
      ]
     },
     "metadata": {},
     "output_type": "display_data"
    },
    {
     "name": "stdout",
     "output_type": "stream",
     "text": [
      "Train Loss: 0.2115 | Val Loss: 0.0565 | Val F1 Macro: 0.6739 | Time: 201m 36s\n",
      "Class F1 scores:\n",
      "  toxic: 0.8173\n",
      "  severe_toxic: 0.5183\n",
      "  obscene: 0.8190\n",
      "  threat: 0.5763\n",
      "  insult: 0.7386\n",
      "  identity_hate: 0.5738\n",
      "Saved best model with val_loss: 0.0565\n",
      "Epoch 2/3\n"
     ]
    },
    {
     "data": {
      "application/vnd.jupyter.widget-view+json": {
       "model_id": "897cd34ed15144038cc7364aaa1d591e",
       "version_major": 2,
       "version_minor": 0
      },
      "text/plain": [
       "Training:   0%|          | 0/8384 [00:00<?, ?it/s]"
      ]
     },
     "metadata": {},
     "output_type": "display_data"
    },
    {
     "data": {
      "application/vnd.jupyter.widget-view+json": {
       "model_id": "2f29addeee364ee5b84eb67ea31b3410",
       "version_major": 2,
       "version_minor": 0
      },
      "text/plain": [
       "Evaluating:   0%|          | 0/988 [00:00<?, ?it/s]"
      ]
     },
     "metadata": {},
     "output_type": "display_data"
    },
    {
     "name": "stdout",
     "output_type": "stream",
     "text": [
      "Train Loss: 0.0459 | Val Loss: 0.0497 | Val F1 Macro: 0.6631 | Time: 202m 3s\n",
      "Class F1 scores:\n",
      "  toxic: 0.8252\n",
      "  severe_toxic: 0.4658\n",
      "  obscene: 0.8220\n",
      "  threat: 0.5455\n",
      "  insult: 0.7320\n",
      "  identity_hate: 0.5878\n",
      "Saved best model with val_loss: 0.0497\n",
      "Epoch 3/3\n"
     ]
    },
    {
     "data": {
      "application/vnd.jupyter.widget-view+json": {
       "model_id": "ce7539081a624e12b58caf5dc805ee42",
       "version_major": 2,
       "version_minor": 0
      },
      "text/plain": [
       "Training:   0%|          | 0/8384 [00:00<?, ?it/s]"
      ]
     },
     "metadata": {},
     "output_type": "display_data"
    },
    {
     "data": {
      "application/vnd.jupyter.widget-view+json": {
       "model_id": "f6879d8af8f644fea5f9e7334b66ac73",
       "version_major": 2,
       "version_minor": 0
      },
      "text/plain": [
       "Evaluating:   0%|          | 0/988 [00:00<?, ?it/s]"
      ]
     },
     "metadata": {},
     "output_type": "display_data"
    },
    {
     "name": "stdout",
     "output_type": "stream",
     "text": [
      "Train Loss: 0.0166 | Val Loss: 0.0495 | Val F1 Macro: 0.6713 | Time: 203m 5s\n",
      "Class F1 scores:\n",
      "  toxic: 0.8377\n",
      "  severe_toxic: 0.4818\n",
      "  obscene: 0.8407\n",
      "  threat: 0.5192\n",
      "  insult: 0.7582\n",
      "  identity_hate: 0.5900\n",
      "Saved best model with val_loss: 0.0495\n"
     ]
    }
   ],
   "source": [
    "# Train BERT model\n",
    "os.makedirs('../models', exist_ok=True)\n",
    "bert_train_losses, bert_val_losses = train_transformer_model(\n",
    "    bert_model,\n",
    "    train_loader,\n",
    "    val_loader,\n",
    "    optimizer,\n",
    "    scheduler,\n",
    "    device,\n",
    "    num_epochs=3,\n",
    "    patience=2,\n",
    "    model_save_path='../models/bert_toxic_classifier.pt'\n",
    ")"
   ]
  },
  {
   "cell_type": "markdown",
   "metadata": {},
   "source": [
    "## 6. RoBERTa Implementation"
   ]
  },
  {
   "cell_type": "code",
   "execution_count": 17,
   "metadata": {},
   "outputs": [
    {
     "name": "stderr",
     "output_type": "stream",
     "text": [
      "Some weights of RobertaModel were not initialized from the model checkpoint at roberta-base and are newly initialized: ['pooler.dense.bias', 'pooler.dense.weight']\n",
      "You should probably TRAIN this model on a down-stream task to be able to use it for predictions and inference.\n"
     ]
    }
   ],
   "source": [
    "# Initialize RoBERTa tokenizer and model\n",
    "roberta_tokenizer = RobertaTokenizer.from_pretrained('roberta-base')\n",
    "roberta_model = BertForMultiLabelClassification(num_labels=6, model_name='roberta-base')\n",
    "roberta_model.to(device)\n",
    "\n",
    "# Create datasets with the RoBERTa tokenizer\n",
    "train_dataset_roberta = ToxicCommentDatasetTransformer(X_train, y_train, roberta_tokenizer)\n",
    "val_dataset_roberta = ToxicCommentDatasetTransformer(X_val, y_val, roberta_tokenizer)\n",
    "\n",
    "# Create dataloaders\n",
    "train_loader_roberta = DataLoader(\n",
    "    train_dataset_roberta,\n",
    "    batch_size=BATCH_SIZE,\n",
    "    shuffle=True,\n",
    "    num_workers=2\n",
    ")\n",
    "\n",
    "val_loader_roberta = DataLoader(\n",
    "    val_dataset_roberta,\n",
    "    batch_size=BATCH_SIZE,\n",
    "    shuffle=False,\n",
    "    num_workers=2\n",
    ")"
   ]
  },
  {
   "cell_type": "code",
   "execution_count": 18,
   "metadata": {},
   "outputs": [],
   "source": [
    "# Setup optimizer and scheduler for RoBERTa\n",
    "optimizer_roberta = AdamW(roberta_model.parameters(), lr=2e-5)\n",
    "scheduler_roberta = get_linear_schedule_with_warmup(\n",
    "    optimizer_roberta,\n",
    "    num_warmup_steps=warmup_steps,\n",
    "    num_training_steps=total_steps\n",
    ")"
   ]
  },
  {
   "cell_type": "code",
   "execution_count": 19,
   "metadata": {},
   "outputs": [
    {
     "name": "stdout",
     "output_type": "stream",
     "text": [
      "Epoch 1/3\n"
     ]
    },
    {
     "data": {
      "application/vnd.jupyter.widget-view+json": {
       "model_id": "ab44b06847104c9d8361fe5c3f917f1e",
       "version_major": 2,
       "version_minor": 0
      },
      "text/plain": [
       "Training:   0%|          | 0/8384 [00:00<?, ?it/s]"
      ]
     },
     "metadata": {},
     "output_type": "display_data"
    },
    {
     "data": {
      "application/vnd.jupyter.widget-view+json": {
       "model_id": "7986a7fd65394d928f6e455a71fbeb21",
       "version_major": 2,
       "version_minor": 0
      },
      "text/plain": [
       "Evaluating:   0%|          | 0/988 [00:00<?, ?it/s]"
      ]
     },
     "metadata": {},
     "output_type": "display_data"
    },
    {
     "name": "stdout",
     "output_type": "stream",
     "text": [
      "Train Loss: 0.2565 | Val Loss: 0.0664 | Val F1 Macro: 0.6612 | Time: 201m 46s\n",
      "Class F1 scores:\n",
      "  toxic: 0.8094\n",
      "  severe_toxic: 0.5070\n",
      "  obscene: 0.8119\n",
      "  threat: 0.5674\n",
      "  insult: 0.7478\n",
      "  identity_hate: 0.5237\n",
      "Saved best model with val_loss: 0.0664\n",
      "Epoch 2/3\n"
     ]
    },
    {
     "data": {
      "application/vnd.jupyter.widget-view+json": {
       "model_id": "e11d0c29a9914b3fb3328736db8049aa",
       "version_major": 2,
       "version_minor": 0
      },
      "text/plain": [
       "Training:   0%|          | 0/8384 [00:00<?, ?it/s]"
      ]
     },
     "metadata": {},
     "output_type": "display_data"
    },
    {
     "data": {
      "application/vnd.jupyter.widget-view+json": {
       "model_id": "bbd9da61c72145ecbe6788f789fa7d4c",
       "version_major": 2,
       "version_minor": 0
      },
      "text/plain": [
       "Evaluating:   0%|          | 0/988 [00:00<?, ?it/s]"
      ]
     },
     "metadata": {},
     "output_type": "display_data"
    },
    {
     "name": "stdout",
     "output_type": "stream",
     "text": [
      "Train Loss: 0.0797 | Val Loss: 0.0516 | Val F1 Macro: 0.6588 | Time: 201m 47s\n",
      "Class F1 scores:\n",
      "  toxic: 0.8182\n",
      "  severe_toxic: 0.4822\n",
      "  obscene: 0.8230\n",
      "  threat: 0.5312\n",
      "  insult: 0.7448\n",
      "  identity_hate: 0.5533\n",
      "Saved best model with val_loss: 0.0516\n",
      "Epoch 3/3\n"
     ]
    },
    {
     "data": {
      "application/vnd.jupyter.widget-view+json": {
       "model_id": "048fa2a950b04a2ba751f4c22deed531",
       "version_major": 2,
       "version_minor": 0
      },
      "text/plain": [
       "Training:   0%|          | 0/8384 [00:00<?, ?it/s]"
      ]
     },
     "metadata": {},
     "output_type": "display_data"
    },
    {
     "data": {
      "application/vnd.jupyter.widget-view+json": {
       "model_id": "8a6a4e6269a2450bb5897823260d2e1e",
       "version_major": 2,
       "version_minor": 0
      },
      "text/plain": [
       "Evaluating:   0%|          | 0/988 [00:00<?, ?it/s]"
      ]
     },
     "metadata": {},
     "output_type": "display_data"
    },
    {
     "name": "stdout",
     "output_type": "stream",
     "text": [
      "Train Loss: 0.0367 | Val Loss: 0.0498 | Val F1 Macro: 0.6720 | Time: 217m 11s\n",
      "Class F1 scores:\n",
      "  toxic: 0.8375\n",
      "  severe_toxic: 0.4764\n",
      "  obscene: 0.8304\n",
      "  threat: 0.5391\n",
      "  insult: 0.7647\n",
      "  identity_hate: 0.5836\n",
      "Saved best model with val_loss: 0.0498\n"
     ]
    }
   ],
   "source": [
    "# Train RoBERTa model\n",
    "roberta_train_losses, roberta_val_losses = train_transformer_model(\n",
    "    roberta_model,\n",
    "    train_loader_roberta,\n",
    "    val_loader_roberta,\n",
    "    optimizer_roberta,\n",
    "    scheduler_roberta,\n",
    "    device,\n",
    "    num_epochs=3,\n",
    "    patience=2,\n",
    "    model_save_path='../models/roberta_toxic_classifier.pt'\n",
    ")"
   ]
  },
  {
   "cell_type": "code",
   "execution_count": 20,
   "metadata": {},
   "outputs": [
    {
     "data": {
      "text/plain": [
       "BertForMultiLabelClassification(\n",
       "  (bert): DistilBertModel(\n",
       "    (embeddings): Embeddings(\n",
       "      (word_embeddings): Embedding(30522, 768, padding_idx=0)\n",
       "      (position_embeddings): Embedding(512, 768)\n",
       "      (LayerNorm): LayerNorm((768,), eps=1e-12, elementwise_affine=True)\n",
       "      (dropout): Dropout(p=0.1, inplace=False)\n",
       "    )\n",
       "    (transformer): Transformer(\n",
       "      (layer): ModuleList(\n",
       "        (0-5): 6 x TransformerBlock(\n",
       "          (attention): DistilBertSdpaAttention(\n",
       "            (dropout): Dropout(p=0.1, inplace=False)\n",
       "            (q_lin): Linear(in_features=768, out_features=768, bias=True)\n",
       "            (k_lin): Linear(in_features=768, out_features=768, bias=True)\n",
       "            (v_lin): Linear(in_features=768, out_features=768, bias=True)\n",
       "            (out_lin): Linear(in_features=768, out_features=768, bias=True)\n",
       "          )\n",
       "          (sa_layer_norm): LayerNorm((768,), eps=1e-12, elementwise_affine=True)\n",
       "          (ffn): FFN(\n",
       "            (dropout): Dropout(p=0.1, inplace=False)\n",
       "            (lin1): Linear(in_features=768, out_features=3072, bias=True)\n",
       "            (lin2): Linear(in_features=3072, out_features=768, bias=True)\n",
       "            (activation): GELUActivation()\n",
       "          )\n",
       "          (output_layer_norm): LayerNorm((768,), eps=1e-12, elementwise_affine=True)\n",
       "        )\n",
       "      )\n",
       "    )\n",
       "  )\n",
       "  (dropout): Dropout(p=0.1, inplace=False)\n",
       "  (classifier): Linear(in_features=768, out_features=6, bias=True)\n",
       ")"
      ]
     },
     "execution_count": 20,
     "metadata": {},
     "output_type": "execute_result"
    }
   ],
   "source": [
    "\n",
    "\n",
    "# Move previous models to CPU\n",
    "bert_model = bert_model.cpu()\n",
    "roberta_model = roberta_model.cpu()\n",
    "\n",
    "# Force garbage collection\n",
    "gc.collect()\n",
    "torch.cuda.empty_cache()\n",
    "\n",
    "# Now load DistilBERT to GPU\n",
    "distilbert_model = BertForMultiLabelClassification(num_labels=6, model_name='distilbert-base-uncased')\n",
    "distilbert_model.to(device)"
   ]
  },
  {
   "cell_type": "markdown",
   "metadata": {},
   "source": [
    "## 7. DistilBERT Implementation (Faster Training)"
   ]
  },
  {
   "cell_type": "code",
   "execution_count": 21,
   "metadata": {},
   "outputs": [],
   "source": [
    "# Initialize DistilBERT tokenizer and model\n",
    "distilbert_tokenizer = DistilBertTokenizer.from_pretrained('distilbert-base-uncased')\n",
    "distilbert_model = BertForMultiLabelClassification(num_labels=6, model_name='distilbert-base-uncased')\n",
    "distilbert_model.to(device)\n",
    "\n",
    "# Create datasets with the DistilBERT tokenizer\n",
    "train_dataset_distilbert = ToxicCommentDatasetTransformer(X_train, y_train, distilbert_tokenizer)\n",
    "val_dataset_distilbert = ToxicCommentDatasetTransformer(X_val, y_val, distilbert_tokenizer)\n",
    "\n",
    "# Create dataloaders\n",
    "train_loader_distilbert = DataLoader(\n",
    "    train_dataset_distilbert,\n",
    "    batch_size=BATCH_SIZE * 2,  # Can use larger batch size with DistilBERT\n",
    "    shuffle=True,\n",
    "    num_workers=2\n",
    ")\n",
    "\n",
    "val_loader_distilbert = DataLoader(\n",
    "    val_dataset_distilbert,\n",
    "    batch_size=BATCH_SIZE * 2,\n",
    "    shuffle=False,\n",
    "    num_workers=2\n",
    ")"
   ]
  },
  {
   "cell_type": "code",
   "execution_count": 22,
   "metadata": {},
   "outputs": [],
   "source": [
    "# Setup optimizer and scheduler for DistilBERT\n",
    "optimizer_distilbert = AdamW(distilbert_model.parameters(), lr=3e-5)  # Slightly higher learning rate\n",
    "scheduler_distilbert = get_linear_schedule_with_warmup(\n",
    "    optimizer_distilbert,\n",
    "    num_warmup_steps=warmup_steps,\n",
    "    num_training_steps=total_steps\n",
    ")"
   ]
  },
  {
   "cell_type": "code",
   "execution_count": 23,
   "metadata": {},
   "outputs": [
    {
     "name": "stdout",
     "output_type": "stream",
     "text": [
      "Epoch 1/4\n"
     ]
    },
    {
     "data": {
      "application/vnd.jupyter.widget-view+json": {
       "model_id": "d2de79aa7e0248b3b426dfc717fe3bd9",
       "version_major": 2,
       "version_minor": 0
      },
      "text/plain": [
       "Training:   0%|          | 0/4192 [00:00<?, ?it/s]"
      ]
     },
     "metadata": {},
     "output_type": "display_data"
    },
    {
     "data": {
      "application/vnd.jupyter.widget-view+json": {
       "model_id": "5d57923861b4411aa494a4314f6b5bae",
       "version_major": 2,
       "version_minor": 0
      },
      "text/plain": [
       "Evaluating:   0%|          | 0/494 [00:00<?, ?it/s]"
      ]
     },
     "metadata": {},
     "output_type": "display_data"
    },
    {
     "name": "stdout",
     "output_type": "stream",
     "text": [
      "Train Loss: 0.2375 | Val Loss: 0.0612 | Val F1 Macro: 0.6553 | Time: 96m 46s\n",
      "Class F1 scores:\n",
      "  toxic: 0.7955\n",
      "  severe_toxic: 0.4877\n",
      "  obscene: 0.8153\n",
      "  threat: 0.5088\n",
      "  insult: 0.7316\n",
      "  identity_hate: 0.5928\n",
      "Saved best model with val_loss: 0.0612\n",
      "Epoch 2/4\n"
     ]
    },
    {
     "data": {
      "application/vnd.jupyter.widget-view+json": {
       "model_id": "1c364ba9e14a4088b9543e996c3071d8",
       "version_major": 2,
       "version_minor": 0
      },
      "text/plain": [
       "Training:   0%|          | 0/4192 [00:00<?, ?it/s]"
      ]
     },
     "metadata": {},
     "output_type": "display_data"
    },
    {
     "data": {
      "application/vnd.jupyter.widget-view+json": {
       "model_id": "e9ee368de491497f97e0d61b38d210d2",
       "version_major": 2,
       "version_minor": 0
      },
      "text/plain": [
       "Evaluating:   0%|          | 0/494 [00:00<?, ?it/s]"
      ]
     },
     "metadata": {},
     "output_type": "display_data"
    },
    {
     "name": "stdout",
     "output_type": "stream",
     "text": [
      "Train Loss: 0.0554 | Val Loss: 0.0558 | Val F1 Macro: 0.6384 | Time: 96m 23s\n",
      "Class F1 scores:\n",
      "  toxic: 0.8052\n",
      "  severe_toxic: 0.4626\n",
      "  obscene: 0.8183\n",
      "  threat: 0.4494\n",
      "  insult: 0.7233\n",
      "  identity_hate: 0.5714\n",
      "Saved best model with val_loss: 0.0558\n",
      "Epoch 3/4\n"
     ]
    },
    {
     "data": {
      "application/vnd.jupyter.widget-view+json": {
       "model_id": "7cc06e1988a249f48726d03b06768bb2",
       "version_major": 2,
       "version_minor": 0
      },
      "text/plain": [
       "Training:   0%|          | 0/4192 [00:00<?, ?it/s]"
      ]
     },
     "metadata": {},
     "output_type": "display_data"
    },
    {
     "data": {
      "application/vnd.jupyter.widget-view+json": {
       "model_id": "e17cc0883f754c0ab3c3349cc742c44a",
       "version_major": 2,
       "version_minor": 0
      },
      "text/plain": [
       "Evaluating:   0%|          | 0/494 [00:00<?, ?it/s]"
      ]
     },
     "metadata": {},
     "output_type": "display_data"
    },
    {
     "name": "stdout",
     "output_type": "stream",
     "text": [
      "Train Loss: 0.0232 | Val Loss: 0.0515 | Val F1 Macro: 0.6457 | Time: 96m 32s\n",
      "Class F1 scores:\n",
      "  toxic: 0.8186\n",
      "  severe_toxic: 0.4290\n",
      "  obscene: 0.8258\n",
      "  threat: 0.4898\n",
      "  insult: 0.7313\n",
      "  identity_hate: 0.5796\n",
      "Saved best model with val_loss: 0.0515\n",
      "Epoch 4/4\n"
     ]
    },
    {
     "data": {
      "application/vnd.jupyter.widget-view+json": {
       "model_id": "d523d53304cb4b388a0cda086557aa2f",
       "version_major": 2,
       "version_minor": 0
      },
      "text/plain": [
       "Training:   0%|          | 0/4192 [00:00<?, ?it/s]"
      ]
     },
     "metadata": {},
     "output_type": "display_data"
    },
    {
     "data": {
      "application/vnd.jupyter.widget-view+json": {
       "model_id": "43dcf0856c044a20b4a9c9a8fcd08332",
       "version_major": 2,
       "version_minor": 0
      },
      "text/plain": [
       "Evaluating:   0%|          | 0/494 [00:00<?, ?it/s]"
      ]
     },
     "metadata": {},
     "output_type": "display_data"
    },
    {
     "name": "stdout",
     "output_type": "stream",
     "text": [
      "Train Loss: 0.0123 | Val Loss: 0.0492 | Val F1 Macro: 0.6420 | Time: 96m 54s\n",
      "Class F1 scores:\n",
      "  toxic: 0.8202\n",
      "  severe_toxic: 0.4299\n",
      "  obscene: 0.8284\n",
      "  threat: 0.4731\n",
      "  insult: 0.7368\n",
      "  identity_hate: 0.5635\n",
      "Saved best model with val_loss: 0.0492\n"
     ]
    }
   ],
   "source": [
    "# Train DistilBERT model (faster training)\n",
    "distilbert_train_losses, distilbert_val_losses = train_transformer_model(\n",
    "    distilbert_model,\n",
    "    train_loader_distilbert,\n",
    "    val_loader_distilbert,\n",
    "    optimizer_distilbert,\n",
    "    scheduler_distilbert,\n",
    "    device,\n",
    "    num_epochs=4,  # Can train for more epochs due to faster training\n",
    "    patience=2,\n",
    "    model_save_path='../models/distilbert_toxic_classifier.pt'\n",
    ")"
   ]
  },
  {
   "cell_type": "markdown",
   "metadata": {},
   "source": [
    "## 8. Evaluate on Test Set"
   ]
  },
  {
   "cell_type": "code",
   "execution_count": 24,
   "metadata": {},
   "outputs": [],
   "source": [
    "# Create test dataset with each tokenizer\n",
    "test_dataset_bert = ToxicCommentDatasetTransformer(X_test, y_test, bert_tokenizer)\n",
    "test_dataset_roberta = ToxicCommentDatasetTransformer(X_test, y_test, roberta_tokenizer)\n",
    "test_dataset_distilbert = ToxicCommentDatasetTransformer(X_test, y_test, distilbert_tokenizer)\n",
    "\n",
    "# Create test dataloaders\n",
    "test_loader_bert = DataLoader(test_dataset_bert, batch_size=BATCH_SIZE, shuffle=False, num_workers=16)\n",
    "test_loader_roberta = DataLoader(test_dataset_roberta, batch_size=BATCH_SIZE, shuffle=False, num_workers=16)\n",
    "test_loader_distilbert = DataLoader(test_dataset_distilbert, batch_size=BATCH_SIZE*2, shuffle=False, num_workers=16)"
   ]
  },
  {
   "cell_type": "code",
   "execution_count": 25,
   "metadata": {},
   "outputs": [
    {
     "name": "stdout",
     "output_type": "stream",
     "text": [
      "Before clearing - Allocated: 3.027 GB, Reserved: 4.266 GB\n"
     ]
    },
    {
     "name": "stderr",
     "output_type": "stream",
     "text": [
      "/home/sunesh/.local/lib/python3.10/site-packages/torch/__init__.py:1113: FutureWarning: `torch.distributed.reduce_op` is deprecated, please use `torch.distributed.ReduceOp` instead\n",
      "  return isinstance(obj, torch.Tensor)\n"
     ]
    },
    {
     "name": "stdout",
     "output_type": "stream",
     "text": [
      "After clearing - Allocated: 0.016 GB, Reserved: 0.041 GB\n",
      "Freed approximately 3.011 GB\n"
     ]
    }
   ],
   "source": [
    "def clear_gpu_memory(models_to_cpu=None):\n",
    "    \"\"\"\n",
    "    Thoroughly clears GPU memory and reports memory usage before and after.\n",
    "    \n",
    "    Args:\n",
    "        models_to_cpu: List of PyTorch models to explicitly move to CPU\n",
    "    \"\"\"\n",
    "    # Get initial memory usage\n",
    "    if torch.cuda.is_available():\n",
    "        initial_allocated = torch.cuda.memory_allocated() / (1024 ** 3)  # GB\n",
    "        initial_cached = torch.cuda.memory_reserved() / (1024 ** 3)      # GB\n",
    "        \n",
    "        print(f\"Before clearing - Allocated: {initial_allocated:.3f} GB, Reserved: {initial_cached:.3f} GB\")\n",
    "        \n",
    "        # Move specified models to CPU if provided\n",
    "        if models_to_cpu is not None:\n",
    "            for i, model in enumerate(models_to_cpu):\n",
    "                if isinstance(model, torch.nn.Module):\n",
    "                    print(f\"Moving model {i+1}/{len(models_to_cpu)} to CPU...\")\n",
    "                    model.to('cpu')\n",
    "                    # Delete any model optimizer states\n",
    "                    if hasattr(model, 'optimizer'):\n",
    "                        del model.optimizer\n",
    "        \n",
    "        # Move all CUDA tensors to CPU that are still in memory\n",
    "        for obj in gc.get_objects():\n",
    "            try:\n",
    "                if torch.is_tensor(obj) and obj.device.type == 'cuda':\n",
    "                    obj.data = obj.data.cpu()\n",
    "                    if obj._grad is not None:\n",
    "                        obj._grad.data = obj._grad.data.cpu()\n",
    "            except:\n",
    "                pass\n",
    "        \n",
    "        # Force garbage collection\n",
    "        gc.collect()\n",
    "        \n",
    "        # Empty cache to release GPU memory\n",
    "        torch.cuda.empty_cache()\n",
    "        \n",
    "        # Reset peak memory stats\n",
    "        torch.cuda.reset_peak_memory_stats()\n",
    "        \n",
    "        # Report memory after clearing\n",
    "        final_allocated = torch.cuda.memory_allocated() / (1024 ** 3)\n",
    "        final_cached = torch.cuda.memory_reserved() / (1024 ** 3)\n",
    "        print(f\"After clearing - Allocated: {final_allocated:.3f} GB, Reserved: {final_cached:.3f} GB\")\n",
    "        print(f\"Freed approximately {initial_allocated - final_allocated:.3f} GB\")\n",
    "    else:\n",
    "        print(\"CUDA not available - running on CPU\")\n",
    "\n",
    "clear_gpu_memory()"
   ]
  },
  {
   "cell_type": "code",
   "execution_count": 26,
   "metadata": {},
   "outputs": [
    {
     "name": "stdout",
     "output_type": "stream",
     "text": [
      "Evaluating BERT model on test set...\n"
     ]
    },
    {
     "data": {
      "application/vnd.jupyter.widget-view+json": {
       "model_id": "e8e64bbf89634f75989600d9c7558cd9",
       "version_major": 2,
       "version_minor": 0
      },
      "text/plain": [
       "Evaluating:   0%|          | 0/998 [00:00<?, ?it/s]"
      ]
     },
     "metadata": {},
     "output_type": "display_data"
    },
    {
     "name": "stdout",
     "output_type": "stream",
     "text": [
      "\n",
      "Evaluating RoBERTa model on test set...\n"
     ]
    },
    {
     "data": {
      "application/vnd.jupyter.widget-view+json": {
       "model_id": "95c5f7bf7af24d1b87748cfcccc8aaa8",
       "version_major": 2,
       "version_minor": 0
      },
      "text/plain": [
       "Evaluating:   0%|          | 0/998 [00:00<?, ?it/s]"
      ]
     },
     "metadata": {},
     "output_type": "display_data"
    },
    {
     "name": "stdout",
     "output_type": "stream",
     "text": [
      "\n",
      "Evaluating DistilBERT model on test set...\n"
     ]
    },
    {
     "data": {
      "application/vnd.jupyter.widget-view+json": {
       "model_id": "ce92be1ae3434f3aa772b45e32331e5f",
       "version_major": 2,
       "version_minor": 0
      },
      "text/plain": [
       "Evaluating:   0%|          | 0/499 [00:00<?, ?it/s]"
      ]
     },
     "metadata": {},
     "output_type": "display_data"
    }
   ],
   "source": [
    "# Load the best models and ensure they're on the correct device\n",
    "bert_model.load_state_dict(torch.load('../models/bert_toxic_classifier.pt', map_location=device))\n",
    "bert_model.to(device)  # Make sure the model is on the right device\n",
    "\n",
    "roberta_model.load_state_dict(torch.load('../models/roberta_toxic_classifier.pt', map_location=device))\n",
    "roberta_model.to(device)  # Make sure the model is on the right device\n",
    "\n",
    "distilbert_model.load_state_dict(torch.load('../models/distilbert_toxic_classifier.pt', map_location=device))\n",
    "distilbert_model.to(device)  # Make sure the model is on the right device\n",
    "\n",
    "# Evaluate on test set\n",
    "print(\"Evaluating BERT model on test set...\")\n",
    "bert_test_results = evaluate_transformer(bert_model, test_loader_bert, device)\n",
    "\n",
    "print(\"\\nEvaluating RoBERTa model on test set...\")\n",
    "roberta_test_results = evaluate_transformer(roberta_model, test_loader_roberta, device)\n",
    "\n",
    "print(\"\\nEvaluating DistilBERT model on test set...\")\n",
    "distilbert_test_results = evaluate_transformer(distilbert_model, test_loader_distilbert, device)"
   ]
  },
  {
   "cell_type": "markdown",
   "metadata": {},
   "source": [
    "## 9. Compare Model Performance"
   ]
  },
  {
   "cell_type": "code",
   "execution_count": 27,
   "metadata": {},
   "outputs": [
    {
     "name": "stdout",
     "output_type": "stream",
     "text": [
      "Model Performance Comparison:\n"
     ]
    },
    {
     "data": {
      "text/html": [
       "<div>\n",
       "<style scoped>\n",
       "    .dataframe tbody tr th:only-of-type {\n",
       "        vertical-align: middle;\n",
       "    }\n",
       "\n",
       "    .dataframe tbody tr th {\n",
       "        vertical-align: top;\n",
       "    }\n",
       "\n",
       "    .dataframe thead th {\n",
       "        text-align: right;\n",
       "    }\n",
       "</style>\n",
       "<table border=\"1\" class=\"dataframe\">\n",
       "  <thead>\n",
       "    <tr style=\"text-align: right;\">\n",
       "      <th></th>\n",
       "      <th>accuracy</th>\n",
       "      <th>macro_f1</th>\n",
       "      <th>micro_f1</th>\n",
       "      <th>f1_toxic</th>\n",
       "      <th>f1_severe_toxic</th>\n",
       "      <th>f1_obscene</th>\n",
       "      <th>f1_threat</th>\n",
       "      <th>f1_insult</th>\n",
       "      <th>f1_identity_hate</th>\n",
       "    </tr>\n",
       "  </thead>\n",
       "  <tbody>\n",
       "    <tr>\n",
       "      <th>RoBERTa</th>\n",
       "      <td>0.984031</td>\n",
       "      <td>0.677058</td>\n",
       "      <td>0.787668</td>\n",
       "      <td>0.836162</td>\n",
       "      <td>0.539683</td>\n",
       "      <td>0.844392</td>\n",
       "      <td>0.504505</td>\n",
       "      <td>0.754787</td>\n",
       "      <td>0.582822</td>\n",
       "    </tr>\n",
       "    <tr>\n",
       "      <th>BERT</th>\n",
       "      <td>0.984731</td>\n",
       "      <td>0.673726</td>\n",
       "      <td>0.793269</td>\n",
       "      <td>0.836507</td>\n",
       "      <td>0.519481</td>\n",
       "      <td>0.837587</td>\n",
       "      <td>0.494382</td>\n",
       "      <td>0.769895</td>\n",
       "      <td>0.584507</td>\n",
       "    </tr>\n",
       "    <tr>\n",
       "      <th>DistilBERT</th>\n",
       "      <td>0.984585</td>\n",
       "      <td>0.667227</td>\n",
       "      <td>0.787809</td>\n",
       "      <td>0.829665</td>\n",
       "      <td>0.555911</td>\n",
       "      <td>0.828179</td>\n",
       "      <td>0.452381</td>\n",
       "      <td>0.764706</td>\n",
       "      <td>0.572519</td>\n",
       "    </tr>\n",
       "  </tbody>\n",
       "</table>\n",
       "</div>"
      ],
      "text/plain": [
       "            accuracy  macro_f1  micro_f1  f1_toxic  f1_severe_toxic  \\\n",
       "RoBERTa     0.984031  0.677058  0.787668  0.836162         0.539683   \n",
       "BERT        0.984731  0.673726  0.793269  0.836507         0.519481   \n",
       "DistilBERT  0.984585  0.667227  0.787809  0.829665         0.555911   \n",
       "\n",
       "            f1_obscene  f1_threat  f1_insult  f1_identity_hate  \n",
       "RoBERTa       0.844392   0.504505   0.754787          0.582822  \n",
       "BERT          0.837587   0.494382   0.769895          0.584507  \n",
       "DistilBERT    0.828179   0.452381   0.764706          0.572519  "
      ]
     },
     "metadata": {},
     "output_type": "display_data"
    }
   ],
   "source": [
    "# Create a comparison dataframe\n",
    "model_results = {\n",
    "    'BERT': {\n",
    "        'accuracy': bert_test_results['accuracy'],\n",
    "        'macro_f1': bert_test_results['macro_f1'],\n",
    "        'micro_f1': bert_test_results['micro_f1'],\n",
    "        **{f'f1_{k}': v for k, v in bert_test_results['class_f1'].items()}\n",
    "    },\n",
    "    'RoBERTa': {\n",
    "        'accuracy': roberta_test_results['accuracy'],\n",
    "        'macro_f1': roberta_test_results['macro_f1'],\n",
    "        'micro_f1': roberta_test_results['micro_f1'],\n",
    "        **{f'f1_{k}': v for k, v in roberta_test_results['class_f1'].items()}\n",
    "    },\n",
    "    'DistilBERT': {\n",
    "        'accuracy': distilbert_test_results['accuracy'],\n",
    "        'macro_f1': distilbert_test_results['macro_f1'],\n",
    "        'micro_f1': distilbert_test_results['micro_f1'],\n",
    "        **{f'f1_{k}': v for k, v in distilbert_test_results['class_f1'].items()}\n",
    "    }\n",
    "}\n",
    "\n",
    "# Convert to DataFrame\n",
    "results_df = pd.DataFrame(model_results).T\n",
    "results_df = results_df.sort_values('macro_f1', ascending=False)\n",
    "\n",
    "# Display results\n",
    "print(\"Model Performance Comparison:\")\n",
    "display(results_df)\n",
    "\n",
    "# Save results\n",
    "results_df.to_csv('../results/transformer_model_results.csv')"
   ]
  },
  {
   "cell_type": "code",
   "execution_count": 28,
   "metadata": {},
   "outputs": [
    {
     "data": {
      "image/png": "[encoded data removed]",
      "text/plain": [
       "<Figure size 1400x800 with 1 Axes>"
      ]
     },
     "metadata": {},
     "output_type": "display_data"
    }
   ],
   "source": [
    "# Plot F1 scores across categories\n",
    "plt.figure(figsize=(14, 8))\n",
    "\n",
    "categories = ['toxic', 'severe_toxic', 'obscene', 'threat', 'insult', 'identity_hate']\n",
    "x = np.arange(len(categories))\n",
    "width = 0.25\n",
    "\n",
    "# Plot bars for each model\n",
    "bert_f1 = [bert_test_results['class_f1'][cat] for cat in categories]\n",
    "roberta_f1 = [roberta_test_results['class_f1'][cat] for cat in categories]\n",
    "distilbert_f1 = [distilbert_test_results['class_f1'][cat] for cat in categories]\n",
    "\n",
    "plt.bar(x - width, bert_f1, width, label='BERT')\n",
    "plt.bar(x, roberta_f1, width, label='RoBERTa')\n",
    "plt.bar(x + width, distilbert_f1, width, label='DistilBERT')\n",
    "\n",
    "plt.xlabel('Toxicity Category')\n",
    "plt.ylabel('F1 Score')\n",
    "plt.title('F1 Scores by Toxicity Category and Model')\n",
    "plt.xticks(x, categories, rotation=45)\n",
    "plt.legend()\n",
    "plt.grid(axis='y', alpha=0.3)\n",
    "plt.tight_layout()\n",
    "\n",
    "# Save the figure\n",
    "plt.savefig('../results/transformer_f1_comparison.png')\n",
    "plt.show()"
   ]
  },
  {
   "cell_type": "markdown",
   "metadata": {},
   "source": [
    "## 10. Model Prediction Pipeline"
   ]
  },
  {
   "cell_type": "code",
   "execution_count": 29,
   "metadata": {},
   "outputs": [],
   "source": [
    "class TransformerToxicCommentPredictor:\n",
    "    def __init__(self, model_path, model_type='bert', device='cpu'):\n",
    "        self.device = torch.device(device)\n",
    "        self.model_type = model_type.lower()\n",
    "        \n",
    "        # Initialize appropriate tokenizer and model\n",
    "        if self.model_type == 'bert':\n",
    "            self.tokenizer = BertTokenizer.from_pretrained('bert-base-uncased')\n",
    "            self.model = BertForMultiLabelClassification(num_labels=6, model_name='bert-base-uncased')\n",
    "        elif self.model_type == 'roberta':\n",
    "            self.tokenizer = RobertaTokenizer.from_pretrained('roberta-base')\n",
    "            self.model = BertForMultiLabelClassification(num_labels=6, model_name='roberta-base')\n",
    "        elif self.model_type == 'distilbert':\n",
    "            self.tokenizer = DistilBertTokenizer.from_pretrained('distilbert-base-uncased')\n",
    "            self.model = BertForMultiLabelClassification(num_labels=6, model_name='distilbert-base-uncased')\n",
    "        else:\n",
    "            raise ValueError(f\"Unsupported model type: {model_type}. Choose 'bert', 'roberta', or 'distilbert'.\")\n",
    "            \n",
    "        # Load the trained model weights\n",
    "        self.model.load_state_dict(torch.load(model_path, map_location=self.device))\n",
    "        self.model.to(self.device)\n",
    "        self.model.eval()\n",
    "        \n",
    "        # Label names\n",
    "        self.label_names = ['toxic', 'severe_toxic', 'obscene', 'threat', 'insult', 'identity_hate']\n",
    "        \n",
    "    def predict(self, text, threshold=0.5):\n",
    "        # Tokenize the input text\n",
    "        inputs = self.tokenizer(\n",
    "            text,\n",
    "            max_length=128,\n",
    "            padding='max_length',\n",
    "            truncation=True,\n",
    "            return_tensors='pt'\n",
    "        )\n",
    "        \n",
    "        # Move inputs to device\n",
    "        inputs = {k: v.to(self.device) for k, v in inputs.items()}\n",
    "        \n",
    "        # Get predictions\n",
    "        with torch.no_grad():\n",
    "            if self.model_type == 'bert':\n",
    "                outputs = self.model(input_ids=inputs['input_ids'], attention_mask=inputs['attention_mask'], \n",
    "                                     token_type_ids=inputs['token_type_ids'])\n",
    "            else:  # RoBERTa and DistilBERT don't use token_type_ids\n",
    "                outputs = self.model(input_ids=inputs['input_ids'], attention_mask=inputs['attention_mask'])\n",
    "        \n",
    "        # Convert to probabilities and binary decisions\n",
    "        probs = outputs.squeeze().cpu().numpy()\n",
    "        binary_preds = (probs > threshold).astype(int)\n",
    "        \n",
    "        # Create a dictionary of results\n",
    "        results = {\n",
    "            'probabilities': {label: float(prob) for label, prob in zip(self.label_names, probs)},\n",
    "            'predictions': {label: int(pred) for label, pred in zip(self.label_names, binary_preds)},\n",
    "            'is_toxic': bool(np.any(binary_preds))\n",
    "        }\n",
    "        \n",
    "        return results"
   ]
  },
  {
   "cell_type": "code",
   "execution_count": 30,
   "metadata": {},
   "outputs": [
    {
     "name": "stderr",
     "output_type": "stream",
     "text": [
      "Some weights of RobertaModel were not initialized from the model checkpoint at roberta-base and are newly initialized: ['pooler.dense.bias', 'pooler.dense.weight']\n",
      "You should probably TRAIN this model on a down-stream task to be able to use it for predictions and inference.\n"
     ]
    }
   ],
   "source": [
    "# Create predictors from each model\n",
    "predictors = {\n",
    "    'BERT': TransformerToxicCommentPredictor('../models/bert_toxic_classifier.pt', model_type='bert', device=device),\n",
    "    'RoBERTa': TransformerToxicCommentPredictor('../models/roberta_toxic_classifier.pt', model_type='roberta', device=device),\n",
    "    'DistilBERT': TransformerToxicCommentPredictor('../models/distilbert_toxic_classifier.pt', model_type='distilbert', device=device)\n",
    "}"
   ]
  },
  {
   "cell_type": "code",
   "execution_count": 31,
   "metadata": {},
   "outputs": [
    {
     "name": "stdout",
     "output_type": "stream",
     "text": [
      "\n",
      "===== BERT Predictions =====\n",
      "\n",
      "Input: This is a positive comment. I really appreciate your help.\n",
      "Is toxic: False\n",
      "Toxicity probabilities:\n",
      "  toxic: 0.0104\n",
      "  severe_toxic: 0.0058\n",
      "  obscene: 0.0061\n",
      "  threat: 0.0031\n",
      "  insult: 0.0057\n",
      "  identity_hate: 0.0149\n",
      "\n",
      "Input: You are an idiot and should not be allowed to post here.\n",
      "Is toxic: True\n",
      "Toxicity probabilities:\n",
      "  toxic: 0.9217\n",
      "  severe_toxic: 0.0041\n",
      "  obscene: 0.5581\n",
      "  threat: 0.0067\n",
      "  insult: 0.8714\n",
      "  identity_hate: 0.0431\n",
      "\n",
      "Input: This is neutral content that has no emotional charge.\n",
      "Is toxic: False\n",
      "Toxicity probabilities:\n",
      "  toxic: 0.0145\n",
      "  severe_toxic: 0.0057\n",
      "  obscene: 0.0055\n",
      "  threat: 0.0028\n",
      "  insult: 0.0057\n",
      "  identity_hate: 0.0108\n",
      "\n",
      "Input: You are a fucking disgrace.\n",
      "Is toxic: True\n",
      "Toxicity probabilities:\n",
      "  toxic: 0.9816\n",
      "  severe_toxic: 0.0909\n",
      "  obscene: 0.9603\n",
      "  threat: 0.0035\n",
      "  insult: 0.9233\n",
      "  identity_hate: 0.0395\n",
      "\n",
      "Input: Trump is a terrible president and should be impeached.\n",
      "Is toxic: True\n",
      "Toxicity probabilities:\n",
      "  toxic: 0.5494\n",
      "  severe_toxic: 0.0044\n",
      "  obscene: 0.0298\n",
      "  threat: 0.0016\n",
      "  insult: 0.1370\n",
      "  identity_hate: 0.0124\n",
      "\n",
      "\n",
      "===== RoBERTa Predictions =====\n",
      "\n",
      "Input: This is a positive comment. I really appreciate your help.\n",
      "Is toxic: False\n",
      "Toxicity probabilities:\n",
      "  toxic: 0.0053\n",
      "  severe_toxic: 0.0106\n",
      "  obscene: 0.0057\n",
      "  threat: 0.0032\n",
      "  insult: 0.0037\n",
      "  identity_hate: 0.0097\n",
      "\n",
      "Input: You are an idiot and should not be allowed to post here.\n",
      "Is toxic: True\n",
      "Toxicity probabilities:\n",
      "  toxic: 0.9197\n",
      "  severe_toxic: 0.0499\n",
      "  obscene: 0.4012\n",
      "  threat: 0.0030\n",
      "  insult: 0.8844\n",
      "  identity_hate: 0.0193\n",
      "\n",
      "Input: This is neutral content that has no emotional charge.\n",
      "Is toxic: False\n",
      "Toxicity probabilities:\n",
      "  toxic: 0.0164\n",
      "  severe_toxic: 0.0046\n",
      "  obscene: 0.0065\n",
      "  threat: 0.0019\n",
      "  insult: 0.0052\n",
      "  identity_hate: 0.0068\n",
      "\n",
      "Input: You are a fucking disgrace.\n",
      "Is toxic: True\n",
      "Toxicity probabilities:\n",
      "  toxic: 0.9779\n",
      "  severe_toxic: 0.7856\n",
      "  obscene: 0.8365\n",
      "  threat: 0.0044\n",
      "  insult: 0.8471\n",
      "  identity_hate: 0.0104\n",
      "\n",
      "Input: Trump is a terrible president and should be impeached.\n",
      "Is toxic: False\n",
      "Toxicity probabilities:\n",
      "  toxic: 0.3634\n",
      "  severe_toxic: 0.0075\n",
      "  obscene: 0.0202\n",
      "  threat: 0.0010\n",
      "  insult: 0.0703\n",
      "  identity_hate: 0.0099\n",
      "\n",
      "\n",
      "===== DistilBERT Predictions =====\n",
      "\n",
      "Input: This is a positive comment. I really appreciate your help.\n",
      "Is toxic: False\n",
      "Toxicity probabilities:\n",
      "  toxic: 0.0059\n",
      "  severe_toxic: 0.0093\n",
      "  obscene: 0.0040\n",
      "  threat: 0.0036\n",
      "  insult: 0.0028\n",
      "  identity_hate: 0.0165\n",
      "\n",
      "Input: You are an idiot and should not be allowed to post here.\n",
      "Is toxic: True\n",
      "Toxicity probabilities:\n",
      "  toxic: 0.9596\n",
      "  severe_toxic: 0.0052\n",
      "  obscene: 0.5190\n",
      "  threat: 0.0079\n",
      "  insult: 0.9165\n",
      "  identity_hate: 0.0513\n",
      "\n",
      "Input: This is neutral content that has no emotional charge.\n",
      "Is toxic: False\n",
      "Toxicity probabilities:\n",
      "  toxic: 0.0088\n",
      "  severe_toxic: 0.0086\n",
      "  obscene: 0.0044\n",
      "  threat: 0.0033\n",
      "  insult: 0.0027\n",
      "  identity_hate: 0.0127\n",
      "\n",
      "Input: You are a fucking disgrace.\n",
      "Is toxic: True\n",
      "Toxicity probabilities:\n",
      "  toxic: 0.9848\n",
      "  severe_toxic: 0.0525\n",
      "  obscene: 0.9410\n",
      "  threat: 0.0044\n",
      "  insult: 0.9020\n",
      "  identity_hate: 0.0088\n",
      "\n",
      "Input: Trump is a terrible president and should be impeached.\n",
      "Is toxic: True\n",
      "Toxicity probabilities:\n",
      "  toxic: 0.7441\n",
      "  severe_toxic: 0.0052\n",
      "  obscene: 0.0469\n",
      "  threat: 0.0023\n",
      "  insult: 0.2611\n",
      "  identity_hate: 0.0204\n",
      "\n"
     ]
    }
   ],
   "source": [
    "# Test with example comments\n",
    "example_texts = [\n",
    "    \"This is a positive comment. I really appreciate your help.\",\n",
    "    \"You are an idiot and should not be allowed to post here.\",\n",
    "    \"This is neutral content that has no emotional charge.\",\n",
    "    \"You are a fucking disgrace.\",\n",
    "    \"Trump is a terrible president and should be impeached.\",\n",
    "]\n",
    "\n",
    "for model_name, predictor in predictors.items():\n",
    "    print(f\"\\n===== {model_name} Predictions =====\\n\")\n",
    "    \n",
    "    for text in example_texts:\n",
    "        result = predictor.predict(text)\n",
    "        print(f\"Input: {text}\")\n",
    "        print(f\"Is toxic: {result['is_toxic']}\")\n",
    "        print(\"Toxicity probabilities:\")\n",
    "        for label, prob in result['probabilities'].items():\n",
    "            print(f\"  {label}: {prob:.4f}\")\n",
    "        print()"
   ]
  },
  {
   "cell_type": "markdown",
   "metadata": {},
   "source": [
    "## 11. Compare with RNN Models"
   ]
  },
  {
   "cell_type": "code",
   "execution_count": 32,
   "metadata": {},
   "outputs": [
    {
     "name": "stdout",
     "output_type": "stream",
     "text": [
      "Loaded RNN model results\n",
      "\n",
      "Combined Model Performance:\n"
     ]
    },
    {
     "data": {
      "text/html": [
       "<div>\n",
       "<style scoped>\n",
       "    .dataframe tbody tr th:only-of-type {\n",
       "        vertical-align: middle;\n",
       "    }\n",
       "\n",
       "    .dataframe tbody tr th {\n",
       "        vertical-align: top;\n",
       "    }\n",
       "\n",
       "    .dataframe thead th {\n",
       "        text-align: right;\n",
       "    }\n",
       "</style>\n",
       "<table border=\"1\" class=\"dataframe\">\n",
       "  <thead>\n",
       "    <tr style=\"text-align: right;\">\n",
       "      <th></th>\n",
       "      <th>model_name</th>\n",
       "      <th>model_type</th>\n",
       "      <th>accuracy</th>\n",
       "      <th>macro_f1</th>\n",
       "      <th>micro_f1</th>\n",
       "    </tr>\n",
       "  </thead>\n",
       "  <tbody>\n",
       "    <tr>\n",
       "      <th>3</th>\n",
       "      <td>RoBERTa</td>\n",
       "      <td>Transformer</td>\n",
       "      <td>0.984031</td>\n",
       "      <td>0.677058</td>\n",
       "      <td>0.787668</td>\n",
       "    </tr>\n",
       "    <tr>\n",
       "      <th>4</th>\n",
       "      <td>BERT</td>\n",
       "      <td>Transformer</td>\n",
       "      <td>0.984731</td>\n",
       "      <td>0.673726</td>\n",
       "      <td>0.793269</td>\n",
       "    </tr>\n",
       "    <tr>\n",
       "      <th>5</th>\n",
       "      <td>DistilBERT</td>\n",
       "      <td>Transformer</td>\n",
       "      <td>0.984585</td>\n",
       "      <td>0.667227</td>\n",
       "      <td>0.787809</td>\n",
       "    </tr>\n",
       "    <tr>\n",
       "      <th>1</th>\n",
       "      <td>BiGRU</td>\n",
       "      <td>RNN</td>\n",
       "      <td>0.914651</td>\n",
       "      <td>0.626691</td>\n",
       "      <td>0.733352</td>\n",
       "    </tr>\n",
       "    <tr>\n",
       "      <th>2</th>\n",
       "      <td>Attention BiLSTM</td>\n",
       "      <td>RNN</td>\n",
       "      <td>0.915591</td>\n",
       "      <td>0.624009</td>\n",
       "      <td>0.731763</td>\n",
       "    </tr>\n",
       "    <tr>\n",
       "      <th>0</th>\n",
       "      <td>BiLSTM</td>\n",
       "      <td>RNN</td>\n",
       "      <td>0.904875</td>\n",
       "      <td>0.553349</td>\n",
       "      <td>0.659659</td>\n",
       "    </tr>\n",
       "  </tbody>\n",
       "</table>\n",
       "</div>"
      ],
      "text/plain": [
       "         model_name   model_type  accuracy  macro_f1  micro_f1\n",
       "3           RoBERTa  Transformer  0.984031  0.677058  0.787668\n",
       "4              BERT  Transformer  0.984731  0.673726  0.793269\n",
       "5        DistilBERT  Transformer  0.984585  0.667227  0.787809\n",
       "1             BiGRU          RNN  0.914651  0.626691  0.733352\n",
       "2  Attention BiLSTM          RNN  0.915591  0.624009  0.731763\n",
       "0            BiLSTM          RNN  0.904875  0.553349  0.659659"
      ]
     },
     "metadata": {},
     "output_type": "display_data"
    },
    {
     "data": {
      "image/png": "[encoded data removed]",
      "text/plain": [
       "<Figure size 1400x800 with 1 Axes>"
      ]
     },
     "metadata": {},
     "output_type": "display_data"
    }
   ],
   "source": [
    "# Load RNN results if available\n",
    "try:\n",
    "    rnn_results_df = pd.read_pickle(\"../results/all_model_results.pkl\")\n",
    "    print(\"Loaded RNN model results\")\n",
    "    \n",
    "    # Extract metrics and model names\n",
    "    rnn_data = []\n",
    "    for _, row in rnn_results_df.iterrows():\n",
    "        model_name = row['model_name']\n",
    "        accuracy = row['accuracy']\n",
    "        macro_f1 = row['macro_f1']\n",
    "        micro_f1 = row['micro_f1']\n",
    "        \n",
    "        # Extract class-specific F1 scores\n",
    "        class_f1 = {col.split('_')[1]: row[col] for col in row.index if col.startswith('f1_')}\n",
    "        \n",
    "        rnn_data.append({\n",
    "            'model_name': model_name,\n",
    "            'model_type': 'RNN',\n",
    "            'accuracy': accuracy,\n",
    "            'macro_f1': macro_f1,\n",
    "            'micro_f1': micro_f1,\n",
    "            **{f'f1_{k}': v for k, v in class_f1.items()}\n",
    "        })\n",
    "    \n",
    "    # Create DataFrame from RNN data\n",
    "    rnn_df = pd.DataFrame(rnn_data)\n",
    "    \n",
    "    # Add model type to transformer results\n",
    "    results_df['model_type'] = 'Transformer'\n",
    "    results_df.index.name = 'model_name'\n",
    "    results_df = results_df.reset_index()\n",
    "    \n",
    "    # Combine RNN and transformer results\n",
    "    all_models_df = pd.concat([rnn_df, results_df], ignore_index=True)\n",
    "    all_models_df = all_models_df.sort_values('macro_f1', ascending=False)\n",
    "    \n",
    "    print(\"\\nCombined Model Performance:\")\n",
    "    display(all_models_df[['model_name', 'model_type', 'accuracy', 'macro_f1', 'micro_f1']])\n",
    "    \n",
    "    # Save combined results\n",
    "    all_models_df.to_csv(\"../results/all_models_comparison.csv\")\n",
    "    \n",
    "    # Plot comparison\n",
    "    plt.figure(figsize=(14, 8))\n",
    "    sns.barplot(x='model_name', y='macro_f1', hue='model_type', data=all_models_df)\n",
    "    plt.title('Macro F1 Score by Model')\n",
    "    plt.xlabel('Model')\n",
    "    plt.ylabel('Macro F1 Score')\n",
    "    plt.xticks(rotation=45, ha='right')\n",
    "    plt.grid(axis='y', alpha=0.3)\n",
    "    plt.tight_layout()\n",
    "    plt.savefig('../results/all_models_macro_f1.png')\n",
    "    plt.show()\n",
    "    \n",
    "except FileNotFoundError:\n",
    "    print(\"RNN model results not found. Skipping comparison.\")"
   ]
  },
  {
   "cell_type": "markdown",
   "metadata": {},
   "source": [
    "## 12. Conclusion\n",
    "\n",
    "In this notebook, we explored transformer-based models for toxic comment classification:\n",
    "\n",
    "1. We implemented and evaluated three transformer architectures:\n",
    "   - BERT\n",
    "   - RoBERTa\n",
    "   - DistilBERT\n",
    "\n",
    "2. Each model was trained on a multi-label classification task to detect six types of toxicity.\n",
    "\n",
    "3. We compared the performance of these models with each other and with RNN models from previous experiments.\n",
    "\n",
    "4. We created a prediction pipeline for making inferences on new text.\n",
    "\n",
    "The transformer models generally outperform RNN-based approaches due to their ability to better capture contextual information and their pre-training on large corpora. RoBERTa often achieves the best performance, though DistilBERT offers a good trade-off between performance and speed."
   ]
  }
 ],
 "metadata": {
  "kernelspec": {
   "display_name": "Python 3",
   "language": "python",
   "name": "python3"
  },
  "language_info": {
   "codemirror_mode": {
    "name": "ipython",
    "version": 3
   },
   "file_extension": ".py",
   "mimetype": "text/x-python",
   "name": "python",
   "nbconvert_exporter": "python",
   "pygments_lexer": "ipython3",
   "version": "3.10.12"
  }
 },
 "nbformat": 4,
 "nbformat_minor": 4
}
