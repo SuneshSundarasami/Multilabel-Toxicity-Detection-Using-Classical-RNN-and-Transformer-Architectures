{
 "cells": [
  {
   "cell_type": "markdown",
   "metadata": {},
   "source": [
    "# Transformer Models for Toxic Comment Classification\n",
    "\n",
    "This notebook implements and evaluates various transformer architectures (BERT, RoBERTa, DistilBERT) for the toxic comment classification task."
   ]
  },
  {
   "cell_type": "code",
   "execution_count": 36,
   "metadata": {},
   "outputs": [
    {
     "name": "stdout",
     "output_type": "stream",
     "text": [
      "Using device: cuda\n"
     ]
    }
   ],
   "source": [
    "import pandas as pd\n",
    "import numpy as np\n",
    "import matplotlib.pyplot as plt\n",
    "import seaborn as sns\n",
    "import time\n",
    "import os\n",
    "import torch\n",
    "import gc\n",
    "import torch.nn as nn\n",
    "from torch.utils.data import Dataset, DataLoader\n",
    "from tqdm.notebook import tqdm\n",
    "from sklearn.metrics import classification_report, f1_score, accuracy_score\n",
    "from sklearn.model_selection import train_test_split\n",
    "from torch.optim import AdamW  \n",
    "import torch.nn.functional as F\n",
    "from skmultilearn.model_selection import iterative_train_test_split\n",
    "import numpy as np\n",
    "\n",
    "# Transformers libraries\n",
    "from transformers import (\n",
    "    AutoTokenizer, \n",
    "    AutoModel,\n",
    "    AutoModelForSequenceClassification, \n",
    "    get_linear_schedule_with_warmup,\n",
    "    BertTokenizer,\n",
    "    BertForSequenceClassification,\n",
    "    RobertaTokenizer,\n",
    "    RobertaForSequenceClassification,\n",
    "    DistilBertTokenizer,\n",
    "    DistilBertForSequenceClassification\n",
    ")\n",
    "\n",
    "# Set random seeds\n",
    "import random\n",
    "random.seed(42)\n",
    "np.random.seed(42)\n",
    "torch.manual_seed(42)\n",
    "torch.cuda.manual_seed_all(42)\n",
    "\n",
    "# Check for GPU\n",
    "device = torch.device(\"cuda\" if torch.cuda.is_available() else \"cpu\")\n",
    "print(f\"Using device: {device}\")"
   ]
  },
  {
   "cell_type": "code",
   "execution_count": 2,
   "metadata": {},
   "outputs": [],
   "source": [
    "# ! pip install scikit-multilearn\n",
    "# "
   ]
  },
  {
   "cell_type": "markdown",
   "metadata": {},
   "source": [
    "## 1. Load and Prepare Data"
   ]
  },
  {
   "cell_type": "code",
   "execution_count": 3,
   "metadata": {},
   "outputs": [
    {
     "name": "stdout",
     "output_type": "stream",
     "text": [
      "Training data shape: (159571, 12)\n"
     ]
    },
    {
     "data": {
      "text/html": [
       "<div>\n",
       "<style scoped>\n",
       "    .dataframe tbody tr th:only-of-type {\n",
       "        vertical-align: middle;\n",
       "    }\n",
       "\n",
       "    .dataframe tbody tr th {\n",
       "        vertical-align: top;\n",
       "    }\n",
       "\n",
       "    .dataframe thead th {\n",
       "        text-align: right;\n",
       "    }\n",
       "</style>\n",
       "<table border=\"1\" class=\"dataframe\">\n",
       "  <thead>\n",
       "    <tr style=\"text-align: right;\">\n",
       "      <th></th>\n",
       "      <th>id</th>\n",
       "      <th>comment_text</th>\n",
       "      <th>toxic</th>\n",
       "      <th>severe_toxic</th>\n",
       "      <th>obscene</th>\n",
       "      <th>threat</th>\n",
       "      <th>insult</th>\n",
       "      <th>identity_hate</th>\n",
       "      <th>processed_text</th>\n",
       "      <th>original_length</th>\n",
       "      <th>processed_length</th>\n",
       "      <th>length_reduction</th>\n",
       "    </tr>\n",
       "  </thead>\n",
       "  <tbody>\n",
       "    <tr>\n",
       "      <th>0</th>\n",
       "      <td>0000997932d777bf</td>\n",
       "      <td>Explanation\\nWhy the edits made under my usern...</td>\n",
       "      <td>0</td>\n",
       "      <td>0</td>\n",
       "      <td>0</td>\n",
       "      <td>0</td>\n",
       "      <td>0</td>\n",
       "      <td>0</td>\n",
       "      <td>explanation edits made my username hardcore me...</td>\n",
       "      <td>264</td>\n",
       "      <td>202</td>\n",
       "      <td>23.484848</td>\n",
       "    </tr>\n",
       "    <tr>\n",
       "      <th>1</th>\n",
       "      <td>000103f0d9cfb60f</td>\n",
       "      <td>D'aww! He matches this background colour I'm s...</td>\n",
       "      <td>0</td>\n",
       "      <td>0</td>\n",
       "      <td>0</td>\n",
       "      <td>0</td>\n",
       "      <td>0</td>\n",
       "      <td>0</td>\n",
       "      <td>daww ! he match background colour im seemingly...</td>\n",
       "      <td>112</td>\n",
       "      <td>86</td>\n",
       "      <td>23.214286</td>\n",
       "    </tr>\n",
       "    <tr>\n",
       "      <th>2</th>\n",
       "      <td>000113f07ec002fd</td>\n",
       "      <td>Hey man, I'm really not trying to edit war. It...</td>\n",
       "      <td>0</td>\n",
       "      <td>0</td>\n",
       "      <td>0</td>\n",
       "      <td>0</td>\n",
       "      <td>0</td>\n",
       "      <td>0</td>\n",
       "      <td>hey man , im really not trying edit war . guy ...</td>\n",
       "      <td>233</td>\n",
       "      <td>165</td>\n",
       "      <td>29.184549</td>\n",
       "    </tr>\n",
       "    <tr>\n",
       "      <th>3</th>\n",
       "      <td>0001b41b1c6bb37e</td>\n",
       "      <td>\"\\nMore\\nI can't make any real suggestions on ...</td>\n",
       "      <td>0</td>\n",
       "      <td>0</td>\n",
       "      <td>0</td>\n",
       "      <td>0</td>\n",
       "      <td>0</td>\n",
       "      <td>0</td>\n",
       "      <td>i cant make real suggestion improvement i wond...</td>\n",
       "      <td>622</td>\n",
       "      <td>406</td>\n",
       "      <td>34.726688</td>\n",
       "    </tr>\n",
       "    <tr>\n",
       "      <th>4</th>\n",
       "      <td>0001d958c54c6e35</td>\n",
       "      <td>You, sir, are my hero. Any chance you remember...</td>\n",
       "      <td>0</td>\n",
       "      <td>0</td>\n",
       "      <td>0</td>\n",
       "      <td>0</td>\n",
       "      <td>0</td>\n",
       "      <td>0</td>\n",
       "      <td>you , sir , my hero . chance you remember page...</td>\n",
       "      <td>67</td>\n",
       "      <td>54</td>\n",
       "      <td>19.402985</td>\n",
       "    </tr>\n",
       "  </tbody>\n",
       "</table>\n",
       "</div>"
      ],
      "text/plain": [
       "                 id                                       comment_text  toxic  \\\n",
       "0  0000997932d777bf  Explanation\\nWhy the edits made under my usern...      0   \n",
       "1  000103f0d9cfb60f  D'aww! He matches this background colour I'm s...      0   \n",
       "2  000113f07ec002fd  Hey man, I'm really not trying to edit war. It...      0   \n",
       "3  0001b41b1c6bb37e  \"\\nMore\\nI can't make any real suggestions on ...      0   \n",
       "4  0001d958c54c6e35  You, sir, are my hero. Any chance you remember...      0   \n",
       "\n",
       "   severe_toxic  obscene  threat  insult  identity_hate  \\\n",
       "0             0        0       0       0              0   \n",
       "1             0        0       0       0              0   \n",
       "2             0        0       0       0              0   \n",
       "3             0        0       0       0              0   \n",
       "4             0        0       0       0              0   \n",
       "\n",
       "                                      processed_text  original_length  \\\n",
       "0  explanation edits made my username hardcore me...              264   \n",
       "1  daww ! he match background colour im seemingly...              112   \n",
       "2  hey man , im really not trying edit war . guy ...              233   \n",
       "3  i cant make real suggestion improvement i wond...              622   \n",
       "4  you , sir , my hero . chance you remember page...               67   \n",
       "\n",
       "   processed_length  length_reduction  \n",
       "0               202         23.484848  \n",
       "1                86         23.214286  \n",
       "2               165         29.184549  \n",
       "3               406         34.726688  \n",
       "4                54         19.402985  "
      ]
     },
     "execution_count": 3,
     "metadata": {},
     "output_type": "execute_result"
    }
   ],
   "source": [
    "# Load preprocessed data\n",
    "train_data = pd.read_csv('../Dataset/train_preprocessed.csv')\n",
    "\n",
    "# Check the data\n",
    "print(f\"Training data shape: {train_data.shape}\")\n",
    "train_data.head()"
   ]
  },
  {
   "cell_type": "code",
   "execution_count": 4,
   "metadata": {},
   "outputs": [
    {
     "name": "stdout",
     "output_type": "stream",
     "text": [
      "\n",
      "Training set distribution:\n",
      "toxic: 0.0958 (12251 samples)\n",
      "severe_toxic: 0.0100 (1278 samples)\n",
      "obscene: 0.0530 (6768 samples)\n",
      "threat: 0.0030 (380 samples)\n",
      "insult: 0.0494 (6309 samples)\n",
      "identity_hate: 0.0088 (1122 samples)\n",
      "\n",
      "Validation set distribution:\n",
      "toxic: 0.0958 (1514 samples)\n",
      "severe_toxic: 0.0100 (158 samples)\n",
      "obscene: 0.0529 (836 samples)\n",
      "threat: 0.0032 (50 samples)\n",
      "insult: 0.0494 (780 samples)\n",
      "identity_hate: 0.0088 (139 samples)\n",
      "\n",
      "Test set distribution:\n",
      "toxic: 0.0958 (1529 samples)\n",
      "severe_toxic: 0.0100 (159 samples)\n",
      "obscene: 0.0530 (845 samples)\n",
      "threat: 0.0030 (48 samples)\n",
      "insult: 0.0494 (788 samples)\n",
      "identity_hate: 0.0090 (144 samples)\n"
     ]
    }
   ],
   "source": [
    "# Define the features and target labels\n",
    "X = train_data['comment_text']  # Use the original text\n",
    "y = train_data[['toxic', 'severe_toxic', 'obscene', 'threat', 'insult', 'identity_hate']]\n",
    "\n",
    "# Handle missing values\n",
    "X = X.fillna(\"\")  # Replace NaN values with empty strings\n",
    "y = y.fillna(0)   # Replace any missing target values with 0\n",
    "\n",
    "\n",
    "\n",
    "# Convert DataFrame to numpy array for compatibility with iterative_train_test_split\n",
    "X_array = np.array(X).reshape(len(X), 1)\n",
    "y_array = y.values\n",
    "\n",
    "# First split: 90% train+val, 10% test\n",
    "X_temp_array, y_temp_array, X_test_array, y_test_array = iterative_train_test_split(\n",
    "    X_array, y_array, test_size=0.1\n",
    ")\n",
    "\n",
    "# Second split: Split the 90% into training and validation\n",
    "X_train_array, y_train_array, X_val_array, y_val_array = iterative_train_test_split(\n",
    "    X_temp_array, y_temp_array, test_size=0.11\n",
    ")\n",
    "\n",
    "# Convert back to pandas format\n",
    "X_train = pd.Series(X_train_array.flatten())\n",
    "X_val = pd.Series(X_val_array.flatten())\n",
    "X_test = pd.Series(X_test_array.flatten())\n",
    "\n",
    "y_train = pd.DataFrame(y_train_array, columns=y.columns)\n",
    "y_val = pd.DataFrame(y_val_array, columns=y.columns)\n",
    "y_test = pd.DataFrame(y_test_array, columns=y.columns)\n",
    "\n",
    "# Verify the distributions\n",
    "print(\"\\nTraining set distribution:\")\n",
    "for col in y.columns:\n",
    "    print(f\"{col}: {y_train[col].mean():.4f} ({y_train[col].sum()} samples)\")\n",
    "\n",
    "print(\"\\nValidation set distribution:\")\n",
    "for col in y.columns:\n",
    "    print(f\"{col}: {y_val[col].mean():.4f} ({y_val[col].sum()} samples)\")\n",
    "\n",
    "print(\"\\nTest set distribution:\")\n",
    "for col in y.columns:\n",
    "    print(f\"{col}: {y_test[col].mean():.4f} ({y_test[col].sum()} samples)\")"
   ]
  },
  {
   "cell_type": "code",
   "execution_count": 5,
   "metadata": {},
   "outputs": [
    {
     "name": "stdout",
     "output_type": "stream",
     "text": [
      "Sampled train size: 10001\n",
      "Sampled validation size: 2001\n",
      "\n",
      "Sampled training set distribution:\n",
      "toxic: 0.0958 (958 samples)\n",
      "severe_toxic: 0.0100 (100 samples)\n",
      "obscene: 0.0530 (530 samples)\n",
      "threat: 0.0030 (30 samples)\n",
      "insult: 0.0494 (494 samples)\n",
      "identity_hate: 0.0088 (88 samples)\n",
      "\n",
      "Sampled validation set distribution:\n",
      "toxic: 0.0960 (192 samples)\n",
      "severe_toxic: 0.0100 (20 samples)\n",
      "obscene: 0.0530 (106 samples)\n",
      "threat: 0.0060 (12 samples)\n",
      "insult: 0.0495 (99 samples)\n",
      "identity_hate: 0.0090 (18 samples)\n"
     ]
    }
   ],
   "source": [
    "# For transformers, create a stratified subsample\n",
    "SAMPLE_SIZE = 10000\n",
    "\n",
    "# Convert to numpy arrays for iterative_train_test_split\n",
    "X_train_arr = np.array(X_train).reshape(-1, 1)\n",
    "y_train_arr = y_train.values\n",
    "\n",
    "# Calculate split ratio to get approximately SAMPLE_SIZE examples\n",
    "sample_ratio = min(SAMPLE_SIZE / len(X_train), 0.99)\n",
    "\n",
    "# Get stratified sample\n",
    "X_train_sample_arr, y_train_sample_arr, _, _ = iterative_train_test_split(\n",
    "    X_train_arr, y_train_arr, test_size=(1-sample_ratio)\n",
    ")\n",
    "\n",
    "# Convert back to pandas\n",
    "X_train = pd.Series(X_train_sample_arr.flatten())\n",
    "y_train = pd.DataFrame(y_train_sample_arr, columns=y_train.columns)\n",
    "\n",
    "# Do the same for validation set\n",
    "X_val_arr = np.array(X_val).reshape(-1, 1)\n",
    "y_val_arr = y_val.values\n",
    "\n",
    "val_sample_ratio = min((SAMPLE_SIZE // 5) / len(X_val), 0.99)\n",
    "\n",
    "X_val_sample_arr, y_val_sample_arr, _, _ = iterative_train_test_split(\n",
    "    X_val_arr, y_val_arr, test_size=(1-val_sample_ratio)\n",
    ")\n",
    "\n",
    "X_val = pd.Series(X_val_sample_arr.flatten())\n",
    "y_val = pd.DataFrame(y_val_sample_arr, columns=y_val.columns)\n",
    "\n",
    "# Print the resulting class distributions to verify\n",
    "print(f\"Sampled train size: {len(X_train)}\")\n",
    "print(f\"Sampled validation size: {len(X_val)}\")\n",
    "\n",
    "print(\"\\nSampled training set distribution:\")\n",
    "for col in y_train.columns:\n",
    "    print(f\"{col}: {y_train[col].mean():.4f} ({y_train[col].sum()} samples)\")\n",
    "\n",
    "print(\"\\nSampled validation set distribution:\")\n",
    "for col in y_val.columns:\n",
    "    print(f\"{col}: {y_val[col].mean():.4f} ({y_val[col].sum()} samples)\")"
   ]
  },
  {
   "cell_type": "code",
   "execution_count": 6,
   "metadata": {},
   "outputs": [
    {
     "name": "stdout",
     "output_type": "stream",
     "text": [
      "Class distribution BEFORE oversampling:\n",
      "toxic: 0.0958 (958 samples)\n",
      "severe_toxic: 0.0100 (100 samples)\n",
      "obscene: 0.0530 (530 samples)\n",
      "threat: 0.0030 (30 samples)\n",
      "insult: 0.0494 (494 samples)\n",
      "identity_hate: 0.0088 (88 samples)\n",
      "\n",
      "Class distribution AFTER oversampling:\n",
      "toxic: 0.1366 (1434 samples)\n",
      "severe_toxic: 0.0347 (364 samples)\n",
      "obscene: 0.0915 (960 samples)\n",
      "threat: 0.0168 (176 samples)\n",
      "insult: 0.0873 (916 samples)\n",
      "identity_hate: 0.0316 (332 samples)\n"
     ]
    }
   ],
   "source": [
    "def oversample_minority_classes(X_train, y_train):\n",
    "    \"\"\"Oversample minority classes to improve balance\"\"\"\n",
    "    \n",
    "    # Original data\n",
    "    original_X = X_train.copy()\n",
    "    original_y = y_train.copy()\n",
    "    augmented_X = []\n",
    "    augmented_y = []\n",
    "    \n",
    "    # Identify and oversample each rare class with increased multipliers\n",
    "    multipliers = {\n",
    "        'threat': 5,\n",
    "        'identity_hate': 3,\n",
    "        'severe_toxic': 3\n",
    "    }\n",
    "    \n",
    "    for label, multiplier in multipliers.items():\n",
    "        pos_indices = y_train[y_train[label] == 1].index\n",
    "        pos_X = X_train.loc[pos_indices]\n",
    "        pos_y = y_train.loc[pos_indices]\n",
    "        \n",
    "        for _ in range(multiplier - 1):\n",
    "            augmented_X.append(pos_X)\n",
    "            augmented_y.append(pos_y)\n",
    "    \n",
    "    # Combine with original data\n",
    "    augmented_X = pd.concat([original_X] + augmented_X)\n",
    "    augmented_y = pd.concat([original_y] + augmented_y)\n",
    "    \n",
    "    return augmented_X.reset_index(drop=True), augmented_y.reset_index(drop=True)\n",
    "\n",
    "print(\"Class distribution BEFORE oversampling:\")\n",
    "for col in y_train.columns:\n",
    "    print(f\"{col}: {y_train[col].mean():.4f} ({y_train[col].sum()} samples)\")\n",
    "\n",
    "# Apply augmentation\n",
    "X_train, y_train = oversample_minority_classes(X_train, y_train)\n",
    "\n",
    "# Check distribution after oversampling\n",
    "print(\"\\nClass distribution AFTER oversampling:\")\n",
    "for col in y_train.columns:\n",
    "    print(f\"{col}: {y_train[col].mean():.4f} ({y_train[col].sum()} samples)\")\n"
   ]
  },
  {
   "cell_type": "markdown",
   "metadata": {},
   "source": [
    "## 2. Create Dataset for Transformer Models"
   ]
  },
  {
   "cell_type": "code",
   "execution_count": 7,
   "metadata": {},
   "outputs": [],
   "source": [
    "class ToxicCommentDatasetTransformer(Dataset):\n",
    "    def __init__(self, texts, labels, tokenizer, max_length=128):\n",
    "        self.texts = texts\n",
    "        self.labels = labels\n",
    "        self.tokenizer = tokenizer\n",
    "        self.max_length = max_length\n",
    "        \n",
    "    def __len__(self):\n",
    "        return len(self.texts)\n",
    "    \n",
    "    def __getitem__(self, idx):\n",
    "        text = self.texts.iloc[idx]\n",
    "        labels = torch.FloatTensor(self.labels.iloc[idx].values)\n",
    "        \n",
    "        # Tokenize the text\n",
    "        encoding = self.tokenizer(\n",
    "            text,\n",
    "            max_length=self.max_length,\n",
    "            padding='max_length',\n",
    "            truncation=True,\n",
    "            return_tensors='pt'\n",
    "        )\n",
    "        \n",
    "        # Remove the batch dimension added by the tokenizer\n",
    "        encoding = {k: v.squeeze(0) for k, v in encoding.items()}\n",
    "        \n",
    "        # Add labels\n",
    "        encoding['labels'] = labels\n",
    "        \n",
    "        return encoding"
   ]
  },
  {
   "cell_type": "markdown",
   "metadata": {},
   "source": [
    "## 3. Build Transformer Models"
   ]
  },
  {
   "cell_type": "code",
   "execution_count": 31,
   "metadata": {},
   "outputs": [],
   "source": [
    "class BertForMultiLabelClassification(nn.Module):\n",
    "    def __init__(self, num_labels, model_name=\"bert-base-uncased\", dropout_rate=0.1):\n",
    "        super(BertForMultiLabelClassification, self).__init__()\n",
    "        self.num_labels = num_labels\n",
    "        \n",
    "        # Load pre-trained BERT model\n",
    "        self.bert = AutoModel.from_pretrained(model_name)\n",
    "        \n",
    "        # Classification head\n",
    "        self.dropout = nn.Dropout(dropout_rate)\n",
    "        self.classifier = nn.Linear(self.bert.config.hidden_size, num_labels)\n",
    "        \n",
    "    def forward(self, input_ids, attention_mask, token_type_ids=None, labels=None):\n",
    "        # Check model type to determine if token_type_ids should be used\n",
    "        if 'distilbert' in self.bert.config._name_or_path or 'roberta' in self.bert.config._name_or_path:\n",
    "            outputs = self.bert(\n",
    "                input_ids=input_ids,\n",
    "                attention_mask=attention_mask\n",
    "            )\n",
    "        else:\n",
    "            outputs = self.bert(\n",
    "                input_ids=input_ids,\n",
    "                attention_mask=attention_mask,\n",
    "                token_type_ids=token_type_ids\n",
    "            )\n",
    "        \n",
    "        # Use the [CLS] token representation\n",
    "        pooled_output = outputs.last_hidden_state[:, 0]\n",
    "        pooled_output = self.dropout(pooled_output)\n",
    "        logits = self.classifier(pooled_output)\n",
    "        \n",
    "        # Apply sigmoid activation for multi-label\n",
    "        return torch.sigmoid(logits)"
   ]
  },
  {
   "cell_type": "markdown",
   "metadata": {},
   "source": [
    "## 4. Training and Evaluation Functions"
   ]
  },
  {
   "cell_type": "code",
   "execution_count": 9,
   "metadata": {},
   "outputs": [],
   "source": [
    "# Add the AdaptiveFocalLoss class from your RNN notebook\n",
    "class AdaptiveFocalLoss(nn.Module):\n",
    "    def __init__(self, alpha=None, class_gammas=None):\n",
    "        super().__init__()\n",
    "        self.alpha = alpha\n",
    "        self.class_gammas = class_gammas\n",
    "        self.epsilon = 1e-6\n",
    "        \n",
    "    def forward(self, inputs, targets):\n",
    "        inputs = torch.clamp(inputs, self.epsilon, 1 - self.epsilon)\n",
    "        \n",
    "        # Binary cross entropy\n",
    "        bce_loss = F.binary_cross_entropy(inputs, targets, reduction='none')\n",
    "        \n",
    "        # Different gamma for each class\n",
    "        focal_loss = torch.zeros_like(bce_loss)\n",
    "        class_names = ['toxic', 'severe_toxic', 'obscene', 'threat', 'insult', 'identity_hate']\n",
    "        \n",
    "        for i, col in enumerate(class_names):\n",
    "            gamma = self.class_gammas.get(col, 2.0)  # Default gamma is 2.0\n",
    "            pt = torch.exp(-bce_loss[:, i])\n",
    "            focal_weight = (1 - pt) ** gamma\n",
    "            \n",
    "            # Apply class weights if provided\n",
    "            if self.alpha is not None:\n",
    "                focal_weight = focal_weight * self.alpha[i]\n",
    "                \n",
    "            focal_loss[:, i] = focal_weight * bce_loss[:, i]\n",
    "        \n",
    "        return focal_loss.mean()"
   ]
  },
  {
   "cell_type": "code",
   "execution_count": 10,
   "metadata": {},
   "outputs": [
    {
     "name": "stdout",
     "output_type": "stream",
     "text": [
      "Class distribution: [0.13661046 0.03467657 0.0914547  0.0167667  0.08726303 0.03162808]\n",
      "Class weights: [ 0.36961066  9.70330242  0.53411807 60.7345678   0.55713656 10.41389051]\n"
     ]
    }
   ],
   "source": [
    "# Calculate class weights based on the training set distribution\n",
    "class_dist = np.array([y_train[col].mean() for col in y_train.columns])\n",
    "print(f\"Class distribution: {class_dist}\")\n",
    "class_weights = 1 / (class_dist + 0.01)  # Add small epsilon to avoid division by zero\n",
    "class_weights = class_weights / class_weights.sum() * len(class_weights)  # Normalize weights\n",
    "\n",
    "# Adjust class weights for rare classes\n",
    "class_weights[3] *= 30  # Increase weight for threat\n",
    "class_weights[5] *= 8   # Increase weight for identity_hate\n",
    "class_weights[1] *= 8   # Increase weight for severe_toxic\n",
    "\n",
    "print(f\"Class weights: {class_weights}\")\n",
    "\n",
    "# Define class-specific gamma values for focal loss\n",
    "class_gammas = {\n",
    "    'toxic': 1.0,\n",
    "    'severe_toxic': 1.5, \n",
    "    'obscene': 1.0,\n",
    "    'threat': 1.5,\n",
    "    'insult': 1.0,\n",
    "    'identity_hate': 2.0\n",
    "}\n",
    "\n",
    "# Create the focal loss\n",
    "criterion = AdaptiveFocalLoss(alpha=torch.FloatTensor(class_weights), class_gammas=class_gammas).to(device)\n"
   ]
  },
  {
   "cell_type": "code",
   "execution_count": 11,
   "metadata": {},
   "outputs": [],
   "source": [
    "def train_transformer_epoch(model, data_loader, optimizer, scheduler, device):\n",
    "    model.train()\n",
    "    epoch_loss = 0\n",
    "    \n",
    "    progress_bar = tqdm(data_loader, desc=\"Training\")\n",
    "    \n",
    "    for batch in progress_bar:\n",
    "        optimizer.zero_grad()\n",
    "        \n",
    "        # Move batch to device\n",
    "        input_ids = batch['input_ids'].to(device)\n",
    "        attention_mask = batch['attention_mask'].to(device)\n",
    "        labels = batch['labels'].to(device)\n",
    "        \n",
    "        # Forward pass\n",
    "        if 'token_type_ids' in batch:\n",
    "            token_type_ids = batch['token_type_ids'].to(device)\n",
    "            outputs = model(input_ids=input_ids, attention_mask=attention_mask, token_type_ids=token_type_ids)\n",
    "        else:\n",
    "            outputs = model(input_ids=input_ids, attention_mask=attention_mask)\n",
    "        \n",
    "        # Calculate loss - binary cross entropy for multi-label\n",
    "        loss = criterion(outputs, labels)\n",
    "        \n",
    "        # Backward pass\n",
    "        loss.backward()\n",
    "        \n",
    "        # Gradient clipping to prevent exploding gradients\n",
    "        torch.nn.utils.clip_grad_norm_(model.parameters(), max_norm=1.0)\n",
    "        \n",
    "        # Optimizer and scheduler steps\n",
    "        optimizer.step()\n",
    "        scheduler.step()\n",
    "        \n",
    "        epoch_loss += loss.item()\n",
    "        progress_bar.set_postfix({\"loss\": loss.item()})\n",
    "    \n",
    "    return epoch_loss / len(data_loader)"
   ]
  },
  {
   "cell_type": "code",
   "execution_count": 12,
   "metadata": {},
   "outputs": [],
   "source": [
    "def evaluate_transformer(model, data_loader, device, threshold=0.5):\n",
    "    model.eval()\n",
    "    all_predictions = []\n",
    "    all_labels = []\n",
    "    total_loss = 0\n",
    "    \n",
    "    with torch.no_grad():\n",
    "        for batch in tqdm(data_loader, desc=\"Evaluating\"):\n",
    "            # Move batch to device\n",
    "            input_ids = batch['input_ids'].to(device)\n",
    "            attention_mask = batch['attention_mask'].to(device)\n",
    "            labels = batch['labels'].to(device)\n",
    "            \n",
    "            # Forward pass\n",
    "            if 'token_type_ids' in batch:\n",
    "                token_type_ids = batch['token_type_ids'].to(device)\n",
    "                outputs = model(input_ids=input_ids, attention_mask=attention_mask, token_type_ids=token_type_ids)\n",
    "            else:\n",
    "                outputs = model(input_ids=input_ids, attention_mask=attention_mask)\n",
    "            \n",
    "            # Calculate loss\n",
    "            loss = nn.BCELoss()(outputs, labels)\n",
    "            total_loss += loss.item()\n",
    "            \n",
    "            # Convert outputs to binary predictions\n",
    "            preds = (outputs > threshold).float().cpu().numpy()\n",
    "            true_labels = labels.cpu().numpy()\n",
    "            \n",
    "            all_predictions.append(preds)\n",
    "            all_labels.append(true_labels)\n",
    "    \n",
    "    # Concatenate all batches\n",
    "    all_predictions = np.vstack(all_predictions)\n",
    "    all_labels = np.vstack(all_labels)\n",
    "    \n",
    "    # Calculate metrics\n",
    "    accuracy = accuracy_score(all_labels.flatten(), all_predictions.flatten())\n",
    "    macro_f1 = f1_score(all_labels, all_predictions, average='macro')\n",
    "    micro_f1 = f1_score(all_labels, all_predictions, average='micro')\n",
    "    \n",
    "    # Calculate per-class F1\n",
    "    class_f1 = {}\n",
    "    for i, col in enumerate(['toxic', 'severe_toxic', 'obscene', 'threat', 'insult', 'identity_hate']):\n",
    "        class_f1[col] = f1_score(all_labels[:, i], all_predictions[:, i])\n",
    "    \n",
    "    avg_loss = total_loss / len(data_loader)\n",
    "    \n",
    "    return {\n",
    "        'accuracy': accuracy,\n",
    "        'macro_f1': macro_f1,\n",
    "        'micro_f1': micro_f1,\n",
    "        'class_f1': class_f1,\n",
    "        'loss': avg_loss,\n",
    "        'predictions': all_predictions,\n",
    "        'true_labels': all_labels\n",
    "    }"
   ]
  },
  {
   "cell_type": "code",
   "execution_count": 13,
   "metadata": {},
   "outputs": [],
   "source": [
    "def train_transformer_model(model, train_loader, val_loader, optimizer, scheduler, device, \n",
    "                           num_epochs=3, patience=2, model_save_path='../models/best_transformer.pt'):\n",
    "    best_val_loss = float('inf')\n",
    "    train_losses = []\n",
    "    val_losses = []\n",
    "    counter = 0  # For early stopping\n",
    "    \n",
    "    for epoch in range(num_epochs):\n",
    "        print(f\"Epoch {epoch+1}/{num_epochs}\")\n",
    "        \n",
    "        # Train\n",
    "        start_time = time.time()\n",
    "        train_loss = train_transformer_epoch(model, train_loader, optimizer, scheduler, device)\n",
    "        train_losses.append(train_loss)\n",
    "        \n",
    "        # Validate\n",
    "        val_results = evaluate_transformer(model, val_loader, device)\n",
    "        val_loss = val_results['loss']\n",
    "        val_losses.append(val_loss)\n",
    "        \n",
    "        # Print epoch summary\n",
    "        time_elapsed = time.time() - start_time\n",
    "        print(f\"Train Loss: {train_loss:.4f} | Val Loss: {val_loss:.4f} | \"\n",
    "              f\"Val F1 Macro: {val_results['macro_f1']:.4f} | \"\n",
    "              f\"Time: {time_elapsed//60:.0f}m {time_elapsed%60:.0f}s\")\n",
    "        \n",
    "        # Print class-wise F1 scores\n",
    "        print(\"Class F1 scores:\")\n",
    "        for cls, f1 in val_results['class_f1'].items():\n",
    "            print(f\"  {cls}: {f1:.4f}\")\n",
    "        \n",
    "        # Save the best model\n",
    "        if val_loss < best_val_loss:\n",
    "            best_val_loss = val_loss\n",
    "            torch.save(model.state_dict(), model_save_path)\n",
    "            print(f\"Saved best model with val_loss: {val_loss:.4f}\")\n",
    "            counter = 0  # Reset early stopping counter\n",
    "        else:\n",
    "            counter += 1\n",
    "            print(f\"EarlyStopping counter: {counter} out of {patience}\")\n",
    "            if counter >= patience:\n",
    "                print(\"Early stopping triggered\")\n",
    "                break\n",
    "                \n",
    "    return train_losses, val_losses"
   ]
  },
  {
   "cell_type": "markdown",
   "metadata": {},
   "source": [
    "## 5. BERT Implementation"
   ]
  },
  {
   "cell_type": "code",
   "execution_count": 16,
   "metadata": {},
   "outputs": [],
   "source": [
    "# Initialize BERT tokenizer and model\n",
    "bert_tokenizer = BertTokenizer.from_pretrained('bert-base-uncased')\n",
    "bert_model = BertForMultiLabelClassification(num_labels=6, model_name='bert-base-uncased')\n",
    "bert_model.to(device)\n",
    "\n",
    "# Create datasets with the BERT tokenizer\n",
    "train_dataset = ToxicCommentDatasetTransformer(X_train, y_train, bert_tokenizer)\n",
    "val_dataset = ToxicCommentDatasetTransformer(X_val, y_val, bert_tokenizer)\n",
    "\n",
    "# Create dataloaders\n",
    "BATCH_SIZE = 16  # Smaller batch size for Transformer models due to memory constraints\n",
    "\n",
    "train_loader = DataLoader(\n",
    "    train_dataset,\n",
    "    batch_size=BATCH_SIZE,\n",
    "    shuffle=True,\n",
    "    num_workers=2\n",
    ")\n",
    "\n",
    "val_loader = DataLoader(\n",
    "    val_dataset,\n",
    "    batch_size=BATCH_SIZE,\n",
    "    shuffle=False,\n",
    "    num_workers=2\n",
    ")"
   ]
  },
  {
   "cell_type": "code",
   "execution_count": 17,
   "metadata": {},
   "outputs": [],
   "source": [
    "# Setup optimizer and scheduler\n",
    "optimizer = AdamW(bert_model.parameters(), lr=2e-5)\n",
    "\n",
    "# Calculate total steps for scheduler\n",
    "total_steps = len(train_loader) * 3  # 3 epochs\n",
    "warmup_steps = int(total_steps * 0.1)  # 10% of total steps for warmup\n",
    "\n",
    "scheduler = get_linear_schedule_with_warmup(\n",
    "    optimizer,\n",
    "    num_warmup_steps=warmup_steps,\n",
    "    num_training_steps=total_steps\n",
    ")"
   ]
  },
  {
   "cell_type": "code",
   "execution_count": 18,
   "metadata": {},
   "outputs": [
    {
     "name": "stdout",
     "output_type": "stream",
     "text": [
      "Epoch 1/3\n"
     ]
    },
    {
     "data": {
      "application/vnd.jupyter.widget-view+json": {
       "model_id": "7d81f054b532475681e07f4ee4778f49",
       "version_major": 2,
       "version_minor": 0
      },
      "text/plain": [
       "Training:   0%|          | 0/657 [00:00<?, ?it/s]"
      ]
     },
     "metadata": {},
     "output_type": "display_data"
    },
    {
     "data": {
      "application/vnd.jupyter.widget-view+json": {
       "model_id": "e85ae9a8adda4fa5b5d174c5ece6607a",
       "version_major": 2,
       "version_minor": 0
      },
      "text/plain": [
       "Evaluating:   0%|          | 0/126 [00:00<?, ?it/s]"
      ]
     },
     "metadata": {},
     "output_type": "display_data"
    },
    {
     "name": "stdout",
     "output_type": "stream",
     "text": [
      "Train Loss: 0.3266 | Val Loss: 0.0798 | Val F1 Macro: 0.5949 | Time: 16m 47s\n",
      "Class F1 scores:\n",
      "  toxic: 0.7683\n",
      "  severe_toxic: 0.3500\n",
      "  obscene: 0.7590\n",
      "  threat: 0.5000\n",
      "  insult: 0.6919\n",
      "  identity_hate: 0.5000\n",
      "Saved best model with val_loss: 0.0798\n",
      "Epoch 2/3\n"
     ]
    },
    {
     "data": {
      "application/vnd.jupyter.widget-view+json": {
       "model_id": "79d9b56841f14e7190728e40b1d248cc",
       "version_major": 2,
       "version_minor": 0
      },
      "text/plain": [
       "Training:   0%|          | 0/657 [00:00<?, ?it/s]"
      ]
     },
     "metadata": {},
     "output_type": "display_data"
    },
    {
     "data": {
      "application/vnd.jupyter.widget-view+json": {
       "model_id": "4b385d593b6d45d0b380e8c613010baa",
       "version_major": 2,
       "version_minor": 0
      },
      "text/plain": [
       "Evaluating:   0%|          | 0/126 [00:00<?, ?it/s]"
      ]
     },
     "metadata": {},
     "output_type": "display_data"
    },
    {
     "name": "stdout",
     "output_type": "stream",
     "text": [
      "Train Loss: 0.0289 | Val Loss: 0.0696 | Val F1 Macro: 0.6262 | Time: 16m 45s\n",
      "Class F1 scores:\n",
      "  toxic: 0.8021\n",
      "  severe_toxic: 0.4091\n",
      "  obscene: 0.7692\n",
      "  threat: 0.5000\n",
      "  insult: 0.7604\n",
      "  identity_hate: 0.5161\n",
      "Saved best model with val_loss: 0.0696\n",
      "Epoch 3/3\n"
     ]
    },
    {
     "data": {
      "application/vnd.jupyter.widget-view+json": {
       "model_id": "1fa1ee44a1f744bb824585d9511b5196",
       "version_major": 2,
       "version_minor": 0
      },
      "text/plain": [
       "Training:   0%|          | 0/657 [00:00<?, ?it/s]"
      ]
     },
     "metadata": {},
     "output_type": "display_data"
    },
    {
     "data": {
      "application/vnd.jupyter.widget-view+json": {
       "model_id": "26db9efcc7c9463a8906d5e3e18ae596",
       "version_major": 2,
       "version_minor": 0
      },
      "text/plain": [
       "Evaluating:   0%|          | 0/126 [00:00<?, ?it/s]"
      ]
     },
     "metadata": {},
     "output_type": "display_data"
    },
    {
     "name": "stdout",
     "output_type": "stream",
     "text": [
      "Train Loss: 0.0111 | Val Loss: 0.0659 | Val F1 Macro: 0.6270 | Time: 16m 42s\n",
      "Class F1 scores:\n",
      "  toxic: 0.7884\n",
      "  severe_toxic: 0.4000\n",
      "  obscene: 0.7767\n",
      "  threat: 0.5000\n",
      "  insult: 0.7638\n",
      "  identity_hate: 0.5333\n",
      "Saved best model with val_loss: 0.0659\n"
     ]
    }
   ],
   "source": [
    "# Train BERT model\n",
    "os.makedirs('../models', exist_ok=True)\n",
    "bert_train_losses, bert_val_losses = train_transformer_model(\n",
    "    bert_model,\n",
    "    train_loader,\n",
    "    val_loader,\n",
    "    optimizer,\n",
    "    scheduler,\n",
    "    device,\n",
    "    num_epochs=3,\n",
    "    patience=2,\n",
    "    model_save_path='../models/bert_toxic_classifier.pt'\n",
    ")"
   ]
  },
  {
   "cell_type": "markdown",
   "metadata": {},
   "source": [
    "## 6. RoBERTa Implementation"
   ]
  },
  {
   "cell_type": "code",
   "execution_count": 20,
   "metadata": {},
   "outputs": [
    {
     "name": "stderr",
     "output_type": "stream",
     "text": [
      "Some weights of RobertaModel were not initialized from the model checkpoint at roberta-base and are newly initialized: ['pooler.dense.bias', 'pooler.dense.weight']\n",
      "You should probably TRAIN this model on a down-stream task to be able to use it for predictions and inference.\n"
     ]
    }
   ],
   "source": [
    "# Initialize RoBERTa tokenizer and model\n",
    "roberta_tokenizer = RobertaTokenizer.from_pretrained('roberta-base')\n",
    "roberta_model = BertForMultiLabelClassification(num_labels=6, model_name='roberta-base')\n",
    "roberta_model.to(device)\n",
    "\n",
    "# Create datasets with the RoBERTa tokenizer\n",
    "train_dataset_roberta = ToxicCommentDatasetTransformer(X_train, y_train, roberta_tokenizer)\n",
    "val_dataset_roberta = ToxicCommentDatasetTransformer(X_val, y_val, roberta_tokenizer)\n",
    "\n",
    "# Create dataloaders\n",
    "train_loader_roberta = DataLoader(\n",
    "    train_dataset_roberta,\n",
    "    batch_size=BATCH_SIZE,\n",
    "    shuffle=True,\n",
    "    num_workers=2\n",
    ")\n",
    "\n",
    "val_loader_roberta = DataLoader(\n",
    "    val_dataset_roberta,\n",
    "    batch_size=BATCH_SIZE,\n",
    "    shuffle=False,\n",
    "    num_workers=2\n",
    ")"
   ]
  },
  {
   "cell_type": "code",
   "execution_count": 21,
   "metadata": {},
   "outputs": [],
   "source": [
    "# Setup optimizer and scheduler for RoBERTa\n",
    "optimizer_roberta = AdamW(roberta_model.parameters(), lr=2e-5)\n",
    "scheduler_roberta = get_linear_schedule_with_warmup(\n",
    "    optimizer_roberta,\n",
    "    num_warmup_steps=warmup_steps,\n",
    "    num_training_steps=total_steps\n",
    ")"
   ]
  },
  {
   "cell_type": "code",
   "execution_count": 22,
   "metadata": {},
   "outputs": [
    {
     "name": "stdout",
     "output_type": "stream",
     "text": [
      "Epoch 1/3\n"
     ]
    },
    {
     "data": {
      "application/vnd.jupyter.widget-view+json": {
       "model_id": "990815a7a3174edeaf2482904e47ac57",
       "version_major": 2,
       "version_minor": 0
      },
      "text/plain": [
       "Training:   0%|          | 0/657 [00:00<?, ?it/s]"
      ]
     },
     "metadata": {},
     "output_type": "display_data"
    },
    {
     "data": {
      "application/vnd.jupyter.widget-view+json": {
       "model_id": "09cfb081f7f9438b9019512797037942",
       "version_major": 2,
       "version_minor": 0
      },
      "text/plain": [
       "Evaluating:   0%|          | 0/126 [00:00<?, ?it/s]"
      ]
     },
     "metadata": {},
     "output_type": "display_data"
    },
    {
     "name": "stdout",
     "output_type": "stream",
     "text": [
      "Train Loss: 0.5548 | Val Loss: 0.0740 | Val F1 Macro: 0.6383 | Time: 17m 8s\n",
      "Class F1 scores:\n",
      "  toxic: 0.7582\n",
      "  severe_toxic: 0.5200\n",
      "  obscene: 0.7767\n",
      "  threat: 0.5263\n",
      "  insult: 0.7487\n",
      "  identity_hate: 0.5000\n",
      "Saved best model with val_loss: 0.0740\n",
      "Epoch 2/3\n"
     ]
    },
    {
     "data": {
      "application/vnd.jupyter.widget-view+json": {
       "model_id": "60b3212f79d44d12b6e847f4b13d0ebd",
       "version_major": 2,
       "version_minor": 0
      },
      "text/plain": [
       "Training:   0%|          | 0/657 [00:00<?, ?it/s]"
      ]
     },
     "metadata": {},
     "output_type": "display_data"
    },
    {
     "data": {
      "application/vnd.jupyter.widget-view+json": {
       "model_id": "88a0cf4623324c01a67bda02054083e1",
       "version_major": 2,
       "version_minor": 0
      },
      "text/plain": [
       "Evaluating:   0%|          | 0/126 [00:00<?, ?it/s]"
      ]
     },
     "metadata": {},
     "output_type": "display_data"
    },
    {
     "name": "stdout",
     "output_type": "stream",
     "text": [
      "Train Loss: 0.0578 | Val Loss: 0.0654 | Val F1 Macro: 0.6230 | Time: 17m 23s\n",
      "Class F1 scores:\n",
      "  toxic: 0.7888\n",
      "  severe_toxic: 0.4400\n",
      "  obscene: 0.7534\n",
      "  threat: 0.5714\n",
      "  insult: 0.7556\n",
      "  identity_hate: 0.4286\n",
      "Saved best model with val_loss: 0.0654\n",
      "Epoch 3/3\n"
     ]
    },
    {
     "data": {
      "application/vnd.jupyter.widget-view+json": {
       "model_id": "22d42f69b5d146408ea0d1bd25c6e7ce",
       "version_major": 2,
       "version_minor": 0
      },
      "text/plain": [
       "Training:   0%|          | 0/657 [00:00<?, ?it/s]"
      ]
     },
     "metadata": {},
     "output_type": "display_data"
    },
    {
     "data": {
      "application/vnd.jupyter.widget-view+json": {
       "model_id": "6863c0ac922642cf93ce67bc3e2dd635",
       "version_major": 2,
       "version_minor": 0
      },
      "text/plain": [
       "Evaluating:   0%|          | 0/126 [00:00<?, ?it/s]"
      ]
     },
     "metadata": {},
     "output_type": "display_data"
    },
    {
     "name": "stdout",
     "output_type": "stream",
     "text": [
      "Train Loss: 0.0143 | Val Loss: 0.0622 | Val F1 Macro: 0.6361 | Time: 17m 17s\n",
      "Class F1 scores:\n",
      "  toxic: 0.7828\n",
      "  severe_toxic: 0.4783\n",
      "  obscene: 0.7887\n",
      "  threat: 0.5000\n",
      "  insult: 0.7668\n",
      "  identity_hate: 0.5000\n",
      "Saved best model with val_loss: 0.0622\n"
     ]
    }
   ],
   "source": [
    "# Train RoBERTa model\n",
    "roberta_train_losses, roberta_val_losses = train_transformer_model(\n",
    "    roberta_model,\n",
    "    train_loader_roberta,\n",
    "    val_loader_roberta,\n",
    "    optimizer_roberta,\n",
    "    scheduler_roberta,\n",
    "    device,\n",
    "    num_epochs=3,\n",
    "    patience=2,\n",
    "    model_save_path='../models/roberta_toxic_classifier.pt'\n",
    ")"
   ]
  },
  {
   "cell_type": "code",
   "execution_count": 37,
   "metadata": {},
   "outputs": [
    {
     "data": {
      "text/plain": [
       "BertForMultiLabelClassification(\n",
       "  (bert): DistilBertModel(\n",
       "    (embeddings): Embeddings(\n",
       "      (word_embeddings): Embedding(30522, 768, padding_idx=0)\n",
       "      (position_embeddings): Embedding(512, 768)\n",
       "      (LayerNorm): LayerNorm((768,), eps=1e-12, elementwise_affine=True)\n",
       "      (dropout): Dropout(p=0.1, inplace=False)\n",
       "    )\n",
       "    (transformer): Transformer(\n",
       "      (layer): ModuleList(\n",
       "        (0-5): 6 x TransformerBlock(\n",
       "          (attention): DistilBertSdpaAttention(\n",
       "            (dropout): Dropout(p=0.1, inplace=False)\n",
       "            (q_lin): Linear(in_features=768, out_features=768, bias=True)\n",
       "            (k_lin): Linear(in_features=768, out_features=768, bias=True)\n",
       "            (v_lin): Linear(in_features=768, out_features=768, bias=True)\n",
       "            (out_lin): Linear(in_features=768, out_features=768, bias=True)\n",
       "          )\n",
       "          (sa_layer_norm): LayerNorm((768,), eps=1e-12, elementwise_affine=True)\n",
       "          (ffn): FFN(\n",
       "            (dropout): Dropout(p=0.1, inplace=False)\n",
       "            (lin1): Linear(in_features=768, out_features=3072, bias=True)\n",
       "            (lin2): Linear(in_features=3072, out_features=768, bias=True)\n",
       "            (activation): GELUActivation()\n",
       "          )\n",
       "          (output_layer_norm): LayerNorm((768,), eps=1e-12, elementwise_affine=True)\n",
       "        )\n",
       "      )\n",
       "    )\n",
       "  )\n",
       "  (dropout): Dropout(p=0.1, inplace=False)\n",
       "  (classifier): Linear(in_features=768, out_features=6, bias=True)\n",
       ")"
      ]
     },
     "execution_count": 37,
     "metadata": {},
     "output_type": "execute_result"
    }
   ],
   "source": [
    "\n",
    "\n",
    "# Move previous models to CPU\n",
    "bert_model = bert_model.cpu()\n",
    "roberta_model = roberta_model.cpu()\n",
    "\n",
    "# Force garbage collection\n",
    "gc.collect()\n",
    "torch.cuda.empty_cache()\n",
    "\n",
    "# Now load DistilBERT to GPU\n",
    "distilbert_model = BertForMultiLabelClassification(num_labels=6, model_name='distilbert-base-uncased')\n",
    "distilbert_model.to(device)"
   ]
  },
  {
   "cell_type": "markdown",
   "metadata": {},
   "source": [
    "## 7. DistilBERT Implementation (Faster Training)"
   ]
  },
  {
   "cell_type": "code",
   "execution_count": 38,
   "metadata": {},
   "outputs": [],
   "source": [
    "# Initialize DistilBERT tokenizer and model\n",
    "distilbert_tokenizer = DistilBertTokenizer.from_pretrained('distilbert-base-uncased')\n",
    "distilbert_model = BertForMultiLabelClassification(num_labels=6, model_name='distilbert-base-uncased')\n",
    "distilbert_model.to(device)\n",
    "\n",
    "# Create datasets with the DistilBERT tokenizer\n",
    "train_dataset_distilbert = ToxicCommentDatasetTransformer(X_train, y_train, distilbert_tokenizer)\n",
    "val_dataset_distilbert = ToxicCommentDatasetTransformer(X_val, y_val, distilbert_tokenizer)\n",
    "\n",
    "# Create dataloaders\n",
    "train_loader_distilbert = DataLoader(\n",
    "    train_dataset_distilbert,\n",
    "    batch_size=BATCH_SIZE * 2,  # Can use larger batch size with DistilBERT\n",
    "    shuffle=True,\n",
    "    num_workers=2\n",
    ")\n",
    "\n",
    "val_loader_distilbert = DataLoader(\n",
    "    val_dataset_distilbert,\n",
    "    batch_size=BATCH_SIZE * 2,\n",
    "    shuffle=False,\n",
    "    num_workers=2\n",
    ")"
   ]
  },
  {
   "cell_type": "code",
   "execution_count": 39,
   "metadata": {},
   "outputs": [],
   "source": [
    "# Setup optimizer and scheduler for DistilBERT\n",
    "optimizer_distilbert = AdamW(distilbert_model.parameters(), lr=3e-5)  # Slightly higher learning rate\n",
    "scheduler_distilbert = get_linear_schedule_with_warmup(\n",
    "    optimizer_distilbert,\n",
    "    num_warmup_steps=warmup_steps,\n",
    "    num_training_steps=total_steps\n",
    ")"
   ]
  },
  {
   "cell_type": "code",
   "execution_count": 40,
   "metadata": {},
   "outputs": [
    {
     "name": "stdout",
     "output_type": "stream",
     "text": [
      "Epoch 1/4\n"
     ]
    },
    {
     "data": {
      "application/vnd.jupyter.widget-view+json": {
       "model_id": "4698344f3ee44ffb85f827feaaf3c9e8",
       "version_major": 2,
       "version_minor": 0
      },
      "text/plain": [
       "Training:   0%|          | 0/329 [00:00<?, ?it/s]"
      ]
     },
     "metadata": {},
     "output_type": "display_data"
    },
    {
     "data": {
      "application/vnd.jupyter.widget-view+json": {
       "model_id": "476be7e71935480289b678556f7f9e39",
       "version_major": 2,
       "version_minor": 0
      },
      "text/plain": [
       "Evaluating:   0%|          | 0/63 [00:00<?, ?it/s]"
      ]
     },
     "metadata": {},
     "output_type": "display_data"
    },
    {
     "name": "stdout",
     "output_type": "stream",
     "text": [
      "Train Loss: 0.4287 | Val Loss: 0.1033 | Val F1 Macro: 0.3787 | Time: 7m 31s\n",
      "Class F1 scores:\n",
      "  toxic: 0.4923\n",
      "  severe_toxic: 0.3810\n",
      "  obscene: 0.6456\n",
      "  threat: 0.0000\n",
      "  insult: 0.5714\n",
      "  identity_hate: 0.1818\n",
      "Saved best model with val_loss: 0.1033\n",
      "Epoch 2/4\n"
     ]
    },
    {
     "data": {
      "application/vnd.jupyter.widget-view+json": {
       "model_id": "ce871b8932b74b2c8c7287b5fc713560",
       "version_major": 2,
       "version_minor": 0
      },
      "text/plain": [
       "Training:   0%|          | 0/329 [00:00<?, ?it/s]"
      ]
     },
     "metadata": {},
     "output_type": "display_data"
    },
    {
     "data": {
      "application/vnd.jupyter.widget-view+json": {
       "model_id": "718463388bbc4ae792700740d4c0b7f1",
       "version_major": 2,
       "version_minor": 0
      },
      "text/plain": [
       "Evaluating:   0%|          | 0/63 [00:00<?, ?it/s]"
      ]
     },
     "metadata": {},
     "output_type": "display_data"
    },
    {
     "name": "stdout",
     "output_type": "stream",
     "text": [
      "Train Loss: 0.0442 | Val Loss: 0.0754 | Val F1 Macro: 0.6414 | Time: 7m 24s\n",
      "Class F1 scores:\n",
      "  toxic: 0.7527\n",
      "  severe_toxic: 0.4615\n",
      "  obscene: 0.7487\n",
      "  threat: 0.7000\n",
      "  insult: 0.7407\n",
      "  identity_hate: 0.4444\n",
      "Saved best model with val_loss: 0.0754\n",
      "Epoch 3/4\n"
     ]
    },
    {
     "data": {
      "application/vnd.jupyter.widget-view+json": {
       "model_id": "7c756ba153114548bfe91f1fa2693afc",
       "version_major": 2,
       "version_minor": 0
      },
      "text/plain": [
       "Training:   0%|          | 0/329 [00:00<?, ?it/s]"
      ]
     },
     "metadata": {},
     "output_type": "display_data"
    },
    {
     "data": {
      "application/vnd.jupyter.widget-view+json": {
       "model_id": "98901121a7ef4053bb8507000b8290d6",
       "version_major": 2,
       "version_minor": 0
      },
      "text/plain": [
       "Evaluating:   0%|          | 0/63 [00:00<?, ?it/s]"
      ]
     },
     "metadata": {},
     "output_type": "display_data"
    },
    {
     "name": "stdout",
     "output_type": "stream",
     "text": [
      "Train Loss: 0.0157 | Val Loss: 0.0696 | Val F1 Macro: 0.5754 | Time: 7m 30s\n",
      "Class F1 scores:\n",
      "  toxic: 0.7781\n",
      "  severe_toxic: 0.4211\n",
      "  obscene: 0.7805\n",
      "  threat: 0.4706\n",
      "  insult: 0.7292\n",
      "  identity_hate: 0.2727\n",
      "Saved best model with val_loss: 0.0696\n",
      "Epoch 4/4\n"
     ]
    },
    {
     "data": {
      "application/vnd.jupyter.widget-view+json": {
       "model_id": "85a4d06d99334a9b8d062014119bfced",
       "version_major": 2,
       "version_minor": 0
      },
      "text/plain": [
       "Training:   0%|          | 0/329 [00:00<?, ?it/s]"
      ]
     },
     "metadata": {},
     "output_type": "display_data"
    },
    {
     "data": {
      "application/vnd.jupyter.widget-view+json": {
       "model_id": "f9d3eef187ca4dfaa6c6491d175af668",
       "version_major": 2,
       "version_minor": 0
      },
      "text/plain": [
       "Evaluating:   0%|          | 0/63 [00:00<?, ?it/s]"
      ]
     },
     "metadata": {},
     "output_type": "display_data"
    },
    {
     "name": "stdout",
     "output_type": "stream",
     "text": [
      "Train Loss: 0.0085 | Val Loss: 0.0655 | Val F1 Macro: 0.6383 | Time: 7m 34s\n",
      "Class F1 scores:\n",
      "  toxic: 0.7885\n",
      "  severe_toxic: 0.4500\n",
      "  obscene: 0.7586\n",
      "  threat: 0.6316\n",
      "  insult: 0.7565\n",
      "  identity_hate: 0.4444\n",
      "Saved best model with val_loss: 0.0655\n"
     ]
    }
   ],
   "source": [
    "# Train DistilBERT model (faster training)\n",
    "distilbert_train_losses, distilbert_val_losses = train_transformer_model(\n",
    "    distilbert_model,\n",
    "    train_loader_distilbert,\n",
    "    val_loader_distilbert,\n",
    "    optimizer_distilbert,\n",
    "    scheduler_distilbert,\n",
    "    device,\n",
    "    num_epochs=4,  # Can train for more epochs due to faster training\n",
    "    patience=2,\n",
    "    model_save_path='../models/distilbert_toxic_classifier.pt'\n",
    ")"
   ]
  },
  {
   "cell_type": "markdown",
   "metadata": {},
   "source": [
    "## 8. Evaluate on Test Set"
   ]
  },
  {
   "cell_type": "code",
   "execution_count": 51,
   "metadata": {},
   "outputs": [],
   "source": [
    "# Create test dataset with each tokenizer\n",
    "test_dataset_bert = ToxicCommentDatasetTransformer(X_test, y_test, bert_tokenizer)\n",
    "test_dataset_roberta = ToxicCommentDatasetTransformer(X_test, y_test, roberta_tokenizer)\n",
    "test_dataset_distilbert = ToxicCommentDatasetTransformer(X_test, y_test, distilbert_tokenizer)\n",
    "\n",
    "# Create test dataloaders\n",
    "test_loader_bert = DataLoader(test_dataset_bert, batch_size=BATCH_SIZE, shuffle=False, num_workers=16)\n",
    "test_loader_roberta = DataLoader(test_dataset_roberta, batch_size=BATCH_SIZE, shuffle=False, num_workers=16)\n",
    "test_loader_distilbert = DataLoader(test_dataset_distilbert, batch_size=BATCH_SIZE*2, shuffle=False, num_workers=16)"
   ]
  },
  {
   "cell_type": "code",
   "execution_count": 54,
   "metadata": {},
   "outputs": [
    {
     "name": "stdout",
     "output_type": "stream",
     "text": [
      "Before clearing - Allocated: 2.524 GB, Reserved: 2.777 GB\n"
     ]
    },
    {
     "name": "stderr",
     "output_type": "stream",
     "text": [
      "/home/sunesh/.local/lib/python3.10/site-packages/torch/__init__.py:1113: FutureWarning: `torch.distributed.reduce_op` is deprecated, please use `torch.distributed.ReduceOp` instead\n",
      "  return isinstance(obj, torch.Tensor)\n"
     ]
    },
    {
     "name": "stdout",
     "output_type": "stream",
     "text": [
      "After clearing - Allocated: 0.016 GB, Reserved: 0.039 GB\n",
      "Freed approximately 2.508 GB\n"
     ]
    }
   ],
   "source": [
    "def clear_gpu_memory(models_to_cpu=None):\n",
    "    \"\"\"\n",
    "    Thoroughly clears GPU memory and reports memory usage before and after.\n",
    "    \n",
    "    Args:\n",
    "        models_to_cpu: List of PyTorch models to explicitly move to CPU\n",
    "    \"\"\"\n",
    "    # Get initial memory usage\n",
    "    if torch.cuda.is_available():\n",
    "        initial_allocated = torch.cuda.memory_allocated() / (1024 ** 3)  # GB\n",
    "        initial_cached = torch.cuda.memory_reserved() / (1024 ** 3)      # GB\n",
    "        \n",
    "        print(f\"Before clearing - Allocated: {initial_allocated:.3f} GB, Reserved: {initial_cached:.3f} GB\")\n",
    "        \n",
    "        # Move specified models to CPU if provided\n",
    "        if models_to_cpu is not None:\n",
    "            for i, model in enumerate(models_to_cpu):\n",
    "                if isinstance(model, torch.nn.Module):\n",
    "                    print(f\"Moving model {i+1}/{len(models_to_cpu)} to CPU...\")\n",
    "                    model.to('cpu')\n",
    "                    # Delete any model optimizer states\n",
    "                    if hasattr(model, 'optimizer'):\n",
    "                        del model.optimizer\n",
    "        \n",
    "        # Move all CUDA tensors to CPU that are still in memory\n",
    "        for obj in gc.get_objects():\n",
    "            try:\n",
    "                if torch.is_tensor(obj) and obj.device.type == 'cuda':\n",
    "                    obj.data = obj.data.cpu()\n",
    "                    if obj._grad is not None:\n",
    "                        obj._grad.data = obj._grad.data.cpu()\n",
    "            except:\n",
    "                pass\n",
    "        \n",
    "        # Force garbage collection\n",
    "        gc.collect()\n",
    "        \n",
    "        # Empty cache to release GPU memory\n",
    "        torch.cuda.empty_cache()\n",
    "        \n",
    "        # Reset peak memory stats\n",
    "        torch.cuda.reset_peak_memory_stats()\n",
    "        \n",
    "        # Report memory after clearing\n",
    "        final_allocated = torch.cuda.memory_allocated() / (1024 ** 3)\n",
    "        final_cached = torch.cuda.memory_reserved() / (1024 ** 3)\n",
    "        print(f\"After clearing - Allocated: {final_allocated:.3f} GB, Reserved: {final_cached:.3f} GB\")\n",
    "        print(f\"Freed approximately {initial_allocated - final_allocated:.3f} GB\")\n",
    "    else:\n",
    "        print(\"CUDA not available - running on CPU\")\n",
    "\n",
    "clear_gpu_memory()"
   ]
  },
  {
   "cell_type": "code",
   "execution_count": 55,
   "metadata": {},
   "outputs": [
    {
     "name": "stdout",
     "output_type": "stream",
     "text": [
      "Evaluating BERT model on test set...\n"
     ]
    },
    {
     "data": {
      "application/vnd.jupyter.widget-view+json": {
       "model_id": "26aaa65dfda345a5aacb12ee1a3f73fb",
       "version_major": 2,
       "version_minor": 0
      },
      "text/plain": [
       "Evaluating:   0%|          | 0/998 [00:00<?, ?it/s]"
      ]
     },
     "metadata": {},
     "output_type": "display_data"
    },
    {
     "name": "stdout",
     "output_type": "stream",
     "text": [
      "\n",
      "Evaluating RoBERTa model on test set...\n"
     ]
    },
    {
     "data": {
      "application/vnd.jupyter.widget-view+json": {
       "model_id": "08be81951ef141059a8e9e64d11b73a3",
       "version_major": 2,
       "version_minor": 0
      },
      "text/plain": [
       "Evaluating:   0%|          | 0/998 [00:00<?, ?it/s]"
      ]
     },
     "metadata": {},
     "output_type": "display_data"
    },
    {
     "name": "stdout",
     "output_type": "stream",
     "text": [
      "\n",
      "Evaluating DistilBERT model on test set...\n"
     ]
    },
    {
     "data": {
      "application/vnd.jupyter.widget-view+json": {
       "model_id": "1e21461d17184c169930bae3bcddd8d5",
       "version_major": 2,
       "version_minor": 0
      },
      "text/plain": [
       "Evaluating:   0%|          | 0/499 [00:00<?, ?it/s]"
      ]
     },
     "metadata": {},
     "output_type": "display_data"
    }
   ],
   "source": [
    "# Load the best models and ensure they're on the correct device\n",
    "bert_model.load_state_dict(torch.load('../models/bert_toxic_classifier.pt', map_location=device))\n",
    "bert_model.to(device)  # Make sure the model is on the right device\n",
    "\n",
    "roberta_model.load_state_dict(torch.load('../models/roberta_toxic_classifier.pt', map_location=device))\n",
    "roberta_model.to(device)  # Make sure the model is on the right device\n",
    "\n",
    "distilbert_model.load_state_dict(torch.load('../models/distilbert_toxic_classifier.pt', map_location=device))\n",
    "distilbert_model.to(device)  # Make sure the model is on the right device\n",
    "\n",
    "# Evaluate on test set\n",
    "print(\"Evaluating BERT model on test set...\")\n",
    "bert_test_results = evaluate_transformer(bert_model, test_loader_bert, device)\n",
    "\n",
    "print(\"\\nEvaluating RoBERTa model on test set...\")\n",
    "roberta_test_results = evaluate_transformer(roberta_model, test_loader_roberta, device)\n",
    "\n",
    "print(\"\\nEvaluating DistilBERT model on test set...\")\n",
    "distilbert_test_results = evaluate_transformer(distilbert_model, test_loader_distilbert, device)"
   ]
  },
  {
   "cell_type": "markdown",
   "metadata": {},
   "source": [
    "## 9. Compare Model Performance"
   ]
  },
  {
   "cell_type": "code",
   "execution_count": 56,
   "metadata": {},
   "outputs": [
    {
     "name": "stdout",
     "output_type": "stream",
     "text": [
      "Model Performance Comparison:\n"
     ]
    },
    {
     "data": {
      "text/html": [
       "<div>\n",
       "<style scoped>\n",
       "    .dataframe tbody tr th:only-of-type {\n",
       "        vertical-align: middle;\n",
       "    }\n",
       "\n",
       "    .dataframe tbody tr th {\n",
       "        vertical-align: top;\n",
       "    }\n",
       "\n",
       "    .dataframe thead th {\n",
       "        text-align: right;\n",
       "    }\n",
       "</style>\n",
       "<table border=\"1\" class=\"dataframe\">\n",
       "  <thead>\n",
       "    <tr style=\"text-align: right;\">\n",
       "      <th></th>\n",
       "      <th>accuracy</th>\n",
       "      <th>macro_f1</th>\n",
       "      <th>micro_f1</th>\n",
       "      <th>f1_toxic</th>\n",
       "      <th>f1_severe_toxic</th>\n",
       "      <th>f1_obscene</th>\n",
       "      <th>f1_threat</th>\n",
       "      <th>f1_insult</th>\n",
       "      <th>f1_identity_hate</th>\n",
       "    </tr>\n",
       "  </thead>\n",
       "  <tbody>\n",
       "    <tr>\n",
       "      <th>RoBERTa</th>\n",
       "      <td>0.981441</td>\n",
       "      <td>0.633816</td>\n",
       "      <td>0.752610</td>\n",
       "      <td>0.794979</td>\n",
       "      <td>0.526912</td>\n",
       "      <td>0.807692</td>\n",
       "      <td>0.461538</td>\n",
       "      <td>0.717310</td>\n",
       "      <td>0.494465</td>\n",
       "    </tr>\n",
       "    <tr>\n",
       "      <th>BERT</th>\n",
       "      <td>0.982308</td>\n",
       "      <td>0.627225</td>\n",
       "      <td>0.757792</td>\n",
       "      <td>0.802379</td>\n",
       "      <td>0.490798</td>\n",
       "      <td>0.807646</td>\n",
       "      <td>0.394366</td>\n",
       "      <td>0.728834</td>\n",
       "      <td>0.539326</td>\n",
       "    </tr>\n",
       "    <tr>\n",
       "      <th>DistilBERT</th>\n",
       "      <td>0.981827</td>\n",
       "      <td>0.622068</td>\n",
       "      <td>0.746060</td>\n",
       "      <td>0.780745</td>\n",
       "      <td>0.461017</td>\n",
       "      <td>0.800000</td>\n",
       "      <td>0.453333</td>\n",
       "      <td>0.724269</td>\n",
       "      <td>0.513043</td>\n",
       "    </tr>\n",
       "  </tbody>\n",
       "</table>\n",
       "</div>"
      ],
      "text/plain": [
       "            accuracy  macro_f1  micro_f1  f1_toxic  f1_severe_toxic  \\\n",
       "RoBERTa     0.981441  0.633816  0.752610  0.794979         0.526912   \n",
       "BERT        0.982308  0.627225  0.757792  0.802379         0.490798   \n",
       "DistilBERT  0.981827  0.622068  0.746060  0.780745         0.461017   \n",
       "\n",
       "            f1_obscene  f1_threat  f1_insult  f1_identity_hate  \n",
       "RoBERTa       0.807692   0.461538   0.717310          0.494465  \n",
       "BERT          0.807646   0.394366   0.728834          0.539326  \n",
       "DistilBERT    0.800000   0.453333   0.724269          0.513043  "
      ]
     },
     "metadata": {},
     "output_type": "display_data"
    }
   ],
   "source": [
    "# Create a comparison dataframe\n",
    "model_results = {\n",
    "    'BERT': {\n",
    "        'accuracy': bert_test_results['accuracy'],\n",
    "        'macro_f1': bert_test_results['macro_f1'],\n",
    "        'micro_f1': bert_test_results['micro_f1'],\n",
    "        **{f'f1_{k}': v for k, v in bert_test_results['class_f1'].items()}\n",
    "    },\n",
    "    'RoBERTa': {\n",
    "        'accuracy': roberta_test_results['accuracy'],\n",
    "        'macro_f1': roberta_test_results['macro_f1'],\n",
    "        'micro_f1': roberta_test_results['micro_f1'],\n",
    "        **{f'f1_{k}': v for k, v in roberta_test_results['class_f1'].items()}\n",
    "    },\n",
    "    'DistilBERT': {\n",
    "        'accuracy': distilbert_test_results['accuracy'],\n",
    "        'macro_f1': distilbert_test_results['macro_f1'],\n",
    "        'micro_f1': distilbert_test_results['micro_f1'],\n",
    "        **{f'f1_{k}': v for k, v in distilbert_test_results['class_f1'].items()}\n",
    "    }\n",
    "}\n",
    "\n",
    "# Convert to DataFrame\n",
    "results_df = pd.DataFrame(model_results).T\n",
    "results_df = results_df.sort_values('macro_f1', ascending=False)\n",
    "\n",
    "# Display results\n",
    "print(\"Model Performance Comparison:\")\n",
    "display(results_df)\n",
    "\n",
    "# Save results\n",
    "results_df.to_csv('../results/transformer_model_results.csv')"
   ]
  },
  {
   "cell_type": "code",
   "execution_count": 57,
   "metadata": {},
   "outputs": [
    {
     "data": {
      "image/png": "[encoded data removed]",
      "text/plain": [
       "<Figure size 1400x800 with 1 Axes>"
      ]
     },
     "metadata": {},
     "output_type": "display_data"
    }
   ],
   "source": [
    "# Plot F1 scores across categories\n",
    "plt.figure(figsize=(14, 8))\n",
    "\n",
    "categories = ['toxic', 'severe_toxic', 'obscene', 'threat', 'insult', 'identity_hate']\n",
    "x = np.arange(len(categories))\n",
    "width = 0.25\n",
    "\n",
    "# Plot bars for each model\n",
    "bert_f1 = [bert_test_results['class_f1'][cat] for cat in categories]\n",
    "roberta_f1 = [roberta_test_results['class_f1'][cat] for cat in categories]\n",
    "distilbert_f1 = [distilbert_test_results['class_f1'][cat] for cat in categories]\n",
    "\n",
    "plt.bar(x - width, bert_f1, width, label='BERT')\n",
    "plt.bar(x, roberta_f1, width, label='RoBERTa')\n",
    "plt.bar(x + width, distilbert_f1, width, label='DistilBERT')\n",
    "\n",
    "plt.xlabel('Toxicity Category')\n",
    "plt.ylabel('F1 Score')\n",
    "plt.title('F1 Scores by Toxicity Category and Model')\n",
    "plt.xticks(x, categories, rotation=45)\n",
    "plt.legend()\n",
    "plt.grid(axis='y', alpha=0.3)\n",
    "plt.tight_layout()\n",
    "\n",
    "# Save the figure\n",
    "plt.savefig('../results/transformer_f1_comparison.png')\n",
    "plt.show()"
   ]
  },
  {
   "cell_type": "markdown",
   "metadata": {},
   "source": [
    "## 10. Model Prediction Pipeline"
   ]
  },
  {
   "cell_type": "code",
   "execution_count": 58,
   "metadata": {},
   "outputs": [],
   "source": [
    "class TransformerToxicCommentPredictor:\n",
    "    def __init__(self, model_path, model_type='bert', device='cpu'):\n",
    "        self.device = torch.device(device)\n",
    "        self.model_type = model_type.lower()\n",
    "        \n",
    "        # Initialize appropriate tokenizer and model\n",
    "        if self.model_type == 'bert':\n",
    "            self.tokenizer = BertTokenizer.from_pretrained('bert-base-uncased')\n",
    "            self.model = BertForMultiLabelClassification(num_labels=6, model_name='bert-base-uncased')\n",
    "        elif self.model_type == 'roberta':\n",
    "            self.tokenizer = RobertaTokenizer.from_pretrained('roberta-base')\n",
    "            self.model = BertForMultiLabelClassification(num_labels=6, model_name='roberta-base')\n",
    "        elif self.model_type == 'distilbert':\n",
    "            self.tokenizer = DistilBertTokenizer.from_pretrained('distilbert-base-uncased')\n",
    "            self.model = BertForMultiLabelClassification(num_labels=6, model_name='distilbert-base-uncased')\n",
    "        else:\n",
    "            raise ValueError(f\"Unsupported model type: {model_type}. Choose 'bert', 'roberta', or 'distilbert'.\")\n",
    "            \n",
    "        # Load the trained model weights\n",
    "        self.model.load_state_dict(torch.load(model_path, map_location=self.device))\n",
    "        self.model.to(self.device)\n",
    "        self.model.eval()\n",
    "        \n",
    "        # Label names\n",
    "        self.label_names = ['toxic', 'severe_toxic', 'obscene', 'threat', 'insult', 'identity_hate']\n",
    "        \n",
    "    def predict(self, text, threshold=0.5):\n",
    "        # Tokenize the input text\n",
    "        inputs = self.tokenizer(\n",
    "            text,\n",
    "            max_length=128,\n",
    "            padding='max_length',\n",
    "            truncation=True,\n",
    "            return_tensors='pt'\n",
    "        )\n",
    "        \n",
    "        # Move inputs to device\n",
    "        inputs = {k: v.to(self.device) for k, v in inputs.items()}\n",
    "        \n",
    "        # Get predictions\n",
    "        with torch.no_grad():\n",
    "            if self.model_type == 'bert':\n",
    "                outputs = self.model(input_ids=inputs['input_ids'], attention_mask=inputs['attention_mask'], \n",
    "                                     token_type_ids=inputs['token_type_ids'])\n",
    "            else:  # RoBERTa and DistilBERT don't use token_type_ids\n",
    "                outputs = self.model(input_ids=inputs['input_ids'], attention_mask=inputs['attention_mask'])\n",
    "        \n",
    "        # Convert to probabilities and binary decisions\n",
    "        probs = outputs.squeeze().cpu().numpy()\n",
    "        binary_preds = (probs > threshold).astype(int)\n",
    "        \n",
    "        # Create a dictionary of results\n",
    "        results = {\n",
    "            'probabilities': {label: float(prob) for label, prob in zip(self.label_names, probs)},\n",
    "            'predictions': {label: int(pred) for label, pred in zip(self.label_names, binary_preds)},\n",
    "            'is_toxic': bool(np.any(binary_preds))\n",
    "        }\n",
    "        \n",
    "        return results"
   ]
  },
  {
   "cell_type": "code",
   "execution_count": 59,
   "metadata": {},
   "outputs": [
    {
     "name": "stderr",
     "output_type": "stream",
     "text": [
      "Some weights of RobertaModel were not initialized from the model checkpoint at roberta-base and are newly initialized: ['pooler.dense.bias', 'pooler.dense.weight']\n",
      "You should probably TRAIN this model on a down-stream task to be able to use it for predictions and inference.\n"
     ]
    }
   ],
   "source": [
    "# Create predictors from each model\n",
    "predictors = {\n",
    "    'BERT': TransformerToxicCommentPredictor('../models/bert_toxic_classifier.pt', model_type='bert', device=device),\n",
    "    'RoBERTa': TransformerToxicCommentPredictor('../models/roberta_toxic_classifier.pt', model_type='roberta', device=device),\n",
    "    'DistilBERT': TransformerToxicCommentPredictor('../models/distilbert_toxic_classifier.pt', model_type='distilbert', device=device)\n",
    "}"
   ]
  },
  {
   "cell_type": "code",
   "execution_count": 60,
   "metadata": {},
   "outputs": [
    {
     "name": "stdout",
     "output_type": "stream",
     "text": [
      "\n",
      "===== BERT Predictions =====\n",
      "\n",
      "Input: This is a positive comment. I really appreciate your help.\n",
      "Is toxic: False\n",
      "Toxicity probabilities:\n",
      "  toxic: 0.0300\n",
      "  severe_toxic: 0.0174\n",
      "  obscene: 0.0156\n",
      "  threat: 0.0087\n",
      "  insult: 0.0191\n",
      "  identity_hate: 0.0173\n",
      "\n",
      "Input: You are an idiot and should not be allowed to post here.\n",
      "Is toxic: True\n",
      "Toxicity probabilities:\n",
      "  toxic: 0.9261\n",
      "  severe_toxic: 0.0203\n",
      "  obscene: 0.5884\n",
      "  threat: 0.0184\n",
      "  insult: 0.6835\n",
      "  identity_hate: 0.0209\n",
      "\n",
      "Input: This is neutral content that has no emotional charge.\n",
      "Is toxic: False\n",
      "Toxicity probabilities:\n",
      "  toxic: 0.0460\n",
      "  severe_toxic: 0.0141\n",
      "  obscene: 0.0206\n",
      "  threat: 0.0053\n",
      "  insult: 0.0241\n",
      "  identity_hate: 0.0171\n",
      "\n",
      "Input: You are a fucking disgrace.\n",
      "Is toxic: True\n",
      "Toxicity probabilities:\n",
      "  toxic: 0.9336\n",
      "  severe_toxic: 0.9167\n",
      "  obscene: 0.8720\n",
      "  threat: 0.0097\n",
      "  insult: 0.7846\n",
      "  identity_hate: 0.0806\n",
      "\n",
      "\n",
      "===== RoBERTa Predictions =====\n",
      "\n",
      "Input: This is a positive comment. I really appreciate your help.\n",
      "Is toxic: False\n",
      "Toxicity probabilities:\n",
      "  toxic: 0.0133\n",
      "  severe_toxic: 0.0262\n",
      "  obscene: 0.0090\n",
      "  threat: 0.0069\n",
      "  insult: 0.0101\n",
      "  identity_hate: 0.0233\n",
      "\n",
      "Input: You are an idiot and should not be allowed to post here.\n",
      "Is toxic: True\n",
      "Toxicity probabilities:\n",
      "  toxic: 0.9337\n",
      "  severe_toxic: 0.0206\n",
      "  obscene: 0.6336\n",
      "  threat: 0.0108\n",
      "  insult: 0.6051\n",
      "  identity_hate: 0.0096\n",
      "\n",
      "Input: This is neutral content that has no emotional charge.\n",
      "Is toxic: False\n",
      "Toxicity probabilities:\n",
      "  toxic: 0.0235\n",
      "  severe_toxic: 0.0098\n",
      "  obscene: 0.0161\n",
      "  threat: 0.0034\n",
      "  insult: 0.0111\n",
      "  identity_hate: 0.0151\n",
      "\n",
      "Input: You are a fucking disgrace.\n",
      "Is toxic: True\n",
      "Toxicity probabilities:\n",
      "  toxic: 0.9545\n",
      "  severe_toxic: 0.9052\n",
      "  obscene: 0.9225\n",
      "  threat: 0.0166\n",
      "  insult: 0.8220\n",
      "  identity_hate: 0.0591\n",
      "\n",
      "\n",
      "===== DistilBERT Predictions =====\n",
      "\n",
      "Input: This is a positive comment. I really appreciate your help.\n",
      "Is toxic: False\n",
      "Toxicity probabilities:\n",
      "  toxic: 0.0358\n",
      "  severe_toxic: 0.0133\n",
      "  obscene: 0.0169\n",
      "  threat: 0.0064\n",
      "  insult: 0.0158\n",
      "  identity_hate: 0.0250\n",
      "\n",
      "Input: You are an idiot and should not be allowed to post here.\n",
      "Is toxic: True\n",
      "Toxicity probabilities:\n",
      "  toxic: 0.9306\n",
      "  severe_toxic: 0.0114\n",
      "  obscene: 0.6588\n",
      "  threat: 0.0143\n",
      "  insult: 0.7436\n",
      "  identity_hate: 0.0688\n",
      "\n",
      "Input: This is neutral content that has no emotional charge.\n",
      "Is toxic: False\n",
      "Toxicity probabilities:\n",
      "  toxic: 0.0375\n",
      "  severe_toxic: 0.0177\n",
      "  obscene: 0.0176\n",
      "  threat: 0.0055\n",
      "  insult: 0.0133\n",
      "  identity_hate: 0.0211\n",
      "\n",
      "Input: You are a fucking disgrace.\n",
      "Is toxic: True\n",
      "Toxicity probabilities:\n",
      "  toxic: 0.9340\n",
      "  severe_toxic: 0.8508\n",
      "  obscene: 0.9333\n",
      "  threat: 0.0188\n",
      "  insult: 0.6374\n",
      "  identity_hate: 0.0188\n",
      "\n"
     ]
    }
   ],
   "source": [
    "# Test with example comments\n",
    "example_texts = [\n",
    "    \"This is a positive comment. I really appreciate your help.\",\n",
    "    \"You are an idiot and should not be allowed to post here.\",\n",
    "    \"This is neutral content that has no emotional charge.\",\n",
    "    \"You are a fucking disgrace.\"\n",
    "]\n",
    "\n",
    "for model_name, predictor in predictors.items():\n",
    "    print(f\"\\n===== {model_name} Predictions =====\\n\")\n",
    "    \n",
    "    for text in example_texts:\n",
    "        result = predictor.predict(text)\n",
    "        print(f\"Input: {text}\")\n",
    "        print(f\"Is toxic: {result['is_toxic']}\")\n",
    "        print(\"Toxicity probabilities:\")\n",
    "        for label, prob in result['probabilities'].items():\n",
    "            print(f\"  {label}: {prob:.4f}\")\n",
    "        print()"
   ]
  },
  {
   "cell_type": "markdown",
   "metadata": {},
   "source": [
    "## 11. Compare with RNN Models"
   ]
  },
  {
   "cell_type": "code",
   "execution_count": 61,
   "metadata": {},
   "outputs": [
    {
     "name": "stdout",
     "output_type": "stream",
     "text": [
      "Loaded RNN model results\n",
      "\n",
      "Combined Model Performance:\n"
     ]
    },
    {
     "data": {
      "text/html": [
       "<div>\n",
       "<style scoped>\n",
       "    .dataframe tbody tr th:only-of-type {\n",
       "        vertical-align: middle;\n",
       "    }\n",
       "\n",
       "    .dataframe tbody tr th {\n",
       "        vertical-align: top;\n",
       "    }\n",
       "\n",
       "    .dataframe thead th {\n",
       "        text-align: right;\n",
       "    }\n",
       "</style>\n",
       "<table border=\"1\" class=\"dataframe\">\n",
       "  <thead>\n",
       "    <tr style=\"text-align: right;\">\n",
       "      <th></th>\n",
       "      <th>model_name</th>\n",
       "      <th>model_type</th>\n",
       "      <th>accuracy</th>\n",
       "      <th>macro_f1</th>\n",
       "      <th>micro_f1</th>\n",
       "    </tr>\n",
       "  </thead>\n",
       "  <tbody>\n",
       "    <tr>\n",
       "      <th>3</th>\n",
       "      <td>RoBERTa</td>\n",
       "      <td>Transformer</td>\n",
       "      <td>0.981441</td>\n",
       "      <td>0.633816</td>\n",
       "      <td>0.752610</td>\n",
       "    </tr>\n",
       "    <tr>\n",
       "      <th>4</th>\n",
       "      <td>BERT</td>\n",
       "      <td>Transformer</td>\n",
       "      <td>0.982308</td>\n",
       "      <td>0.627225</td>\n",
       "      <td>0.757792</td>\n",
       "    </tr>\n",
       "    <tr>\n",
       "      <th>1</th>\n",
       "      <td>BiGRU</td>\n",
       "      <td>RNN</td>\n",
       "      <td>0.914651</td>\n",
       "      <td>0.626691</td>\n",
       "      <td>0.733352</td>\n",
       "    </tr>\n",
       "    <tr>\n",
       "      <th>2</th>\n",
       "      <td>Attention BiLSTM</td>\n",
       "      <td>RNN</td>\n",
       "      <td>0.915591</td>\n",
       "      <td>0.624009</td>\n",
       "      <td>0.731763</td>\n",
       "    </tr>\n",
       "    <tr>\n",
       "      <th>5</th>\n",
       "      <td>DistilBERT</td>\n",
       "      <td>Transformer</td>\n",
       "      <td>0.981827</td>\n",
       "      <td>0.622068</td>\n",
       "      <td>0.746060</td>\n",
       "    </tr>\n",
       "    <tr>\n",
       "      <th>0</th>\n",
       "      <td>BiLSTM</td>\n",
       "      <td>RNN</td>\n",
       "      <td>0.904875</td>\n",
       "      <td>0.553349</td>\n",
       "      <td>0.659659</td>\n",
       "    </tr>\n",
       "  </tbody>\n",
       "</table>\n",
       "</div>"
      ],
      "text/plain": [
       "         model_name   model_type  accuracy  macro_f1  micro_f1\n",
       "3           RoBERTa  Transformer  0.981441  0.633816  0.752610\n",
       "4              BERT  Transformer  0.982308  0.627225  0.757792\n",
       "1             BiGRU          RNN  0.914651  0.626691  0.733352\n",
       "2  Attention BiLSTM          RNN  0.915591  0.624009  0.731763\n",
       "5        DistilBERT  Transformer  0.981827  0.622068  0.746060\n",
       "0            BiLSTM          RNN  0.904875  0.553349  0.659659"
      ]
     },
     "metadata": {},
     "output_type": "display_data"
    },
    {
     "data": {
      "image/png": "[encoded data removed]",
      "text/plain": [
       "<Figure size 1400x800 with 1 Axes>"
      ]
     },
     "metadata": {},
     "output_type": "display_data"
    }
   ],
   "source": [
    "# Load RNN results if available\n",
    "try:\n",
    "    rnn_results_df = pd.read_pickle(\"../results/all_model_results.pkl\")\n",
    "    print(\"Loaded RNN model results\")\n",
    "    \n",
    "    # Extract metrics and model names\n",
    "    rnn_data = []\n",
    "    for _, row in rnn_results_df.iterrows():\n",
    "        model_name = row['model_name']\n",
    "        accuracy = row['accuracy']\n",
    "        macro_f1 = row['macro_f1']\n",
    "        micro_f1 = row['micro_f1']\n",
    "        \n",
    "        # Extract class-specific F1 scores\n",
    "        class_f1 = {col.split('_')[1]: row[col] for col in row.index if col.startswith('f1_')}\n",
    "        \n",
    "        rnn_data.append({\n",
    "            'model_name': model_name,\n",
    "            'model_type': 'RNN',\n",
    "            'accuracy': accuracy,\n",
    "            'macro_f1': macro_f1,\n",
    "            'micro_f1': micro_f1,\n",
    "            **{f'f1_{k}': v for k, v in class_f1.items()}\n",
    "        })\n",
    "    \n",
    "    # Create DataFrame from RNN data\n",
    "    rnn_df = pd.DataFrame(rnn_data)\n",
    "    \n",
    "    # Add model type to transformer results\n",
    "    results_df['model_type'] = 'Transformer'\n",
    "    results_df.index.name = 'model_name'\n",
    "    results_df = results_df.reset_index()\n",
    "    \n",
    "    # Combine RNN and transformer results\n",
    "    all_models_df = pd.concat([rnn_df, results_df], ignore_index=True)\n",
    "    all_models_df = all_models_df.sort_values('macro_f1', ascending=False)\n",
    "    \n",
    "    print(\"\\nCombined Model Performance:\")\n",
    "    display(all_models_df[['model_name', 'model_type', 'accuracy', 'macro_f1', 'micro_f1']])\n",
    "    \n",
    "    # Save combined results\n",
    "    all_models_df.to_csv(\"../results/all_models_comparison.csv\")\n",
    "    \n",
    "    # Plot comparison\n",
    "    plt.figure(figsize=(14, 8))\n",
    "    sns.barplot(x='model_name', y='macro_f1', hue='model_type', data=all_models_df)\n",
    "    plt.title('Macro F1 Score by Model')\n",
    "    plt.xlabel('Model')\n",
    "    plt.ylabel('Macro F1 Score')\n",
    "    plt.xticks(rotation=45, ha='right')\n",
    "    plt.grid(axis='y', alpha=0.3)\n",
    "    plt.tight_layout()\n",
    "    plt.savefig('../results/all_models_macro_f1.png')\n",
    "    plt.show()\n",
    "    \n",
    "except FileNotFoundError:\n",
    "    print(\"RNN model results not found. Skipping comparison.\")"
   ]
  },
  {
   "cell_type": "markdown",
   "metadata": {},
   "source": [
    "## 12. Conclusion\n",
    "\n",
    "In this notebook, we explored transformer-based models for toxic comment classification:\n",
    "\n",
    "1. We implemented and evaluated three transformer architectures:\n",
    "   - BERT\n",
    "   - RoBERTa\n",
    "   - DistilBERT\n",
    "\n",
    "2. Each model was trained on a multi-label classification task to detect six types of toxicity.\n",
    "\n",
    "3. We compared the performance of these models with each other and with RNN models from previous experiments.\n",
    "\n",
    "4. We created a prediction pipeline for making inferences on new text.\n",
    "\n",
    "The transformer models generally outperform RNN-based approaches due to their ability to better capture contextual information and their pre-training on large corpora. RoBERTa often achieves the best performance, though DistilBERT offers a good trade-off between performance and speed."
   ]
  }
 ],
 "metadata": {
  "kernelspec": {
   "display_name": "Python 3",
   "language": "python",
   "name": "python3"
  },
  "language_info": {
   "codemirror_mode": {
    "name": "ipython",
    "version": 3
   },
   "file_extension": ".py",
   "mimetype": "text/x-python",
   "name": "python",
   "nbconvert_exporter": "python",
   "pygments_lexer": "ipython3",
   "version": "3.10.12"
  }
 },
 "nbformat": 4,
 "nbformat_minor": 4
}
